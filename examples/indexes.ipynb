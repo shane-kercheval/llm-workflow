{
 "cells": [
  {
   "attachments": {},
   "cell_type": "markdown",
   "metadata": {},
   "source": [
    "# ChromaDB\n",
    "\n",
    "The following is an example of using the `ChromaDocumentIndex` which is a wrapper around `chromadb` https://docs.trychroma.com/getting-started\n",
    "\n",
    "> By default, Chroma uses the Sentence Transformers all-MiniLM-L6-v2 model to create embeddings.\n",
    "\n",
    "- https://docs.trychroma.com/embeddings"
   ]
  },
  {
   "cell_type": "code",
   "execution_count": 1,
   "metadata": {},
   "outputs": [],
   "source": [
    "from llm_workflow.base import Document\n",
    "from llm_workflow.indexes import ChromaDocumentIndex\n",
    "\n",
    "doc_index = ChromaDocumentIndex()\n",
    "\n",
    "docs = [\n",
    "    Document(content=\"This is a document about basketball.\", metadata={'id': 0}),\n",
    "    Document(content=\"This is a document about baseball.\", metadata={'id': 1}),\n",
    "    Document(content=\"This is a document about football.\", metadata={'id': 2}),\n",
    "]\n",
    "doc_index.add(docs=docs)"
   ]
  },
  {
   "cell_type": "code",
   "execution_count": 2,
   "metadata": {},
   "outputs": [
    {
     "name": "stdout",
     "output_type": "stream",
     "text": [
      "[Document(content='This is a document about baseball.', metadata={'id': 1, 'distance': 0.14589954912662506})]\n",
      "This is a document about baseball.\n"
     ]
    }
   ],
   "source": [
    "results = doc_index.search(value=\"Give a document about baseball\", n_results=1)\n",
    "print(results)\n",
    "print(results[0].content)"
   ]
  },
  {
   "attachments": {},
   "cell_type": "markdown",
   "metadata": {},
   "source": [
    "---"
   ]
  },
  {
   "attachments": {},
   "cell_type": "markdown",
   "metadata": {},
   "source": [
    "# Using an Embeddings Model\n",
    "\n",
    "We can also supply our own embeddings model. In this example, let's use `OpenAIEmbedding`."
   ]
  },
  {
   "cell_type": "code",
   "execution_count": 3,
   "metadata": {},
   "outputs": [
    {
     "data": {
      "text/plain": [
       "True"
      ]
     },
     "execution_count": 3,
     "metadata": {},
     "output_type": "execute_result"
    }
   ],
   "source": [
    "#The `load_dotenv` function below loads all the variables found in the `.env` file as environment variables. You must have a `.env` file located in the project directory containing your OpenAI API key, in the following format.\n",
    "# OPENAI_API_KEY=sk-...\n",
    "from dotenv import load_dotenv\n",
    "load_dotenv()"
   ]
  },
  {
   "cell_type": "code",
   "execution_count": 4,
   "metadata": {},
   "outputs": [],
   "source": [
    "from llm_workflow.base import Document\n",
    "from llm_workflow.indexes import ChromaDocumentIndex\n",
    "from llm_workflow.models import OpenAIEmbedding\n",
    "\n",
    "embeddings_model = OpenAIEmbedding(model_name='text-embedding-ada-002')\n",
    "doc_index = ChromaDocumentIndex(embeddings_model=embeddings_model)\n",
    "\n",
    "docs = [\n",
    "    Document(content=\"This is a document about basketball.\", metadata={'id': 0}),\n",
    "    Document(content=\"This is a document about baseball.\", metadata={'id': 1}),\n",
    "    Document(content=\"This is a document about football.\", metadata={'id': 2}),\n",
    "]\n",
    "doc_index.add(docs=docs)"
   ]
  },
  {
   "attachments": {},
   "cell_type": "markdown",
   "metadata": {},
   "source": [
    "A `DocumentIndex` object should reveal any history/usage by the underlying embeddings model (in this case, the history/usage from `OpenAIEmbedding`).\n",
    "\n",
    "The cost/tokens/history below are associated with the the embeddings that were created from the documents that were added to the document index."
   ]
  },
  {
   "cell_type": "code",
   "execution_count": 5,
   "metadata": {},
   "outputs": [
    {
     "name": "stdout",
     "output_type": "stream",
     "text": [
      "Cost:   $0.000002\n",
      "Tokens: 21\n"
     ]
    }
   ],
   "source": [
    "print(f\"Cost:   ${doc_index.cost:.6f}\")\n",
    "print(f\"Tokens: {doc_index.total_tokens:,}\")"
   ]
  },
  {
   "cell_type": "code",
   "execution_count": 6,
   "metadata": {},
   "outputs": [
    {
     "data": {
      "text/plain": [
       "[EmbeddingRecord(uuid='3e595c4a-6e49-4dbf-ae2d-7bbc2b6949dc', timestamp='2023-07-04 22:56:05.735', metadata={'model_name': 'text-embedding-ada-002'}, total_tokens=21, cost=2.1000000000000002e-06)]"
      ]
     },
     "execution_count": 6,
     "metadata": {},
     "output_type": "execute_result"
    }
   ],
   "source": [
    "doc_index.history"
   ]
  },
  {
   "cell_type": "code",
   "execution_count": 7,
   "metadata": {},
   "outputs": [
    {
     "name": "stdout",
     "output_type": "stream",
     "text": [
      "[Document(content='This is a document about baseball.', metadata={'id': 1, 'distance': 0.08675364404916763})]\n",
      "This is a document about baseball.\n"
     ]
    }
   ],
   "source": [
    "results = doc_index.search(value=\"Give a document about baseball\", n_results=1)\n",
    "print(results)\n",
    "print(results[0].content)"
   ]
  },
  {
   "attachments": {},
   "cell_type": "markdown",
   "metadata": {},
   "source": [
    "The cost/tokens/history below are updated based on the embeddings that were created from the search value above. You can check that the cost and tokens listed in the `history` property sum to the cost and total-tokens shown below."
   ]
  },
  {
   "cell_type": "code",
   "execution_count": 8,
   "metadata": {},
   "outputs": [
    {
     "name": "stdout",
     "output_type": "stream",
     "text": [
      "Cost:   $0.000003\n",
      "Tokens: 26\n"
     ]
    }
   ],
   "source": [
    "print(f\"Cost:   ${doc_index.cost:.6f}\")\n",
    "print(f\"Tokens: {doc_index.total_tokens:,}\")"
   ]
  },
  {
   "cell_type": "code",
   "execution_count": 9,
   "metadata": {},
   "outputs": [
    {
     "data": {
      "text/plain": [
       "[EmbeddingRecord(uuid='3e595c4a-6e49-4dbf-ae2d-7bbc2b6949dc', timestamp='2023-07-04 22:56:05.735', metadata={'model_name': 'text-embedding-ada-002'}, total_tokens=21, cost=2.1000000000000002e-06),\n",
       " EmbeddingRecord(uuid='5fdc6a50-15dd-4bbf-9da8-707ed12200c8', timestamp='2023-07-04 22:56:05.943', metadata={'model_name': 'text-embedding-ada-002'}, total_tokens=5, cost=5.000000000000001e-07)]"
      ]
     },
     "execution_count": 9,
     "metadata": {},
     "output_type": "execute_result"
    }
   ],
   "source": [
    "doc_index.history"
   ]
  },
  {
   "attachments": {},
   "cell_type": "markdown",
   "metadata": {},
   "source": [
    "---"
   ]
  }
 ],
 "metadata": {
  "kernelspec": {
   "display_name": "Python 3",
   "language": "python",
   "name": "python3"
  },
  "language_info": {
   "codemirror_mode": {
    "name": "ipython",
    "version": 3
   },
   "file_extension": ".py",
   "mimetype": "text/x-python",
   "name": "python",
   "nbconvert_exporter": "python",
   "pygments_lexer": "ipython3",
   "version": "3.11.4"
  },
  "orig_nbformat": 4
 },
 "nbformat": 4,
 "nbformat_minor": 2
}

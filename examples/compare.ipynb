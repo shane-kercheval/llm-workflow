{
 "cells": [
  {
   "cell_type": "markdown",
   "metadata": {},
   "source": [
    "This notebook was original ran in a docker container where the project directory (i.e. same directory as README.md) is located in `/code`, which is set below. If you run locally you'll need to set the path of your project directory accordingly."
   ]
  },
  {
   "cell_type": "code",
   "execution_count": 31,
   "metadata": {},
   "outputs": [
    {
     "name": "stdout",
     "output_type": "stream",
     "text": [
      "/code\n"
     ]
    }
   ],
   "source": [
    "%cd /code"
   ]
  },
  {
   "cell_type": "markdown",
   "metadata": {},
   "source": [
    "---"
   ]
  },
  {
   "cell_type": "markdown",
   "metadata": {},
   "source": [
    "The `load_dotenv()` function below loads all the variables found in the `.env` file as environment variables. You must have a `.env` file located in the project directory containing your OpenAI API key, in the following format.\n",
    "\n",
    "```\n",
    "OPENAI_API_KEY=sk-...\n",
    "```"
   ]
  },
  {
   "cell_type": "code",
   "execution_count": 3,
   "metadata": {},
   "outputs": [],
   "source": [
    "from dotenv import load_dotenv\n",
    "load_dotenv()\n",
    "\n",
    "def wprint(string: str, max_width: int = 80) -> None:\n",
    "    import textwrap\n",
    "    \"\"\"Print `string` with a maximum widgth.\"\"\"\n",
    "    wrapped_string = textwrap.fill(string, max_width)\n",
    "    print(wrapped_string)"
   ]
  },
  {
   "cell_type": "markdown",
   "metadata": {},
   "source": [
    "# OpenAI Chat"
   ]
  },
  {
   "cell_type": "markdown",
   "metadata": {},
   "source": [
    "Here's a simple example using `GPT-3.5` chat:"
   ]
  },
  {
   "cell_type": "code",
   "execution_count": 21,
   "metadata": {},
   "outputs": [
    {
     "name": "stdout",
     "output_type": "stream",
     "text": [
      "Here is an example of a function that returns the sum of two numbers:  ```python\n",
      "def add_numbers(num1, num2):     return num1 + num2 ```  You can use this\n",
      "function by calling it and passing in two numbers as arguments. For example:\n",
      "```python result = add_numbers(5, 3) print(result)  # Output: 8 ```\n"
     ]
    }
   ],
   "source": [
    "from llm_workflow.openai import OpenAIChat\n",
    "\n",
    "model = OpenAIChat(model_name='gpt-3.5-turbo', temperature=0.2)\n",
    "response_a = model(\"Write a function that returns the sum of two numbers.\")\n",
    "wprint(response_a)"
   ]
  },
  {
   "cell_type": "code",
   "execution_count": 20,
   "metadata": {},
   "outputs": [
    {
     "name": "stdout",
     "output_type": "stream",
     "text": [
      "Sure! Here's an example of a function that takes two numbers as input and\n",
      "returns their sum:  ```python def sum_numbers(num1, num2):     return num1 +\n",
      "num2 ```  You can call this function by passing in two numbers as arguments,\n",
      "like this:  ```python result = sum_numbers(5, 3) print(result)  # Output: 8 ```\n",
      "In this example, the `sum_numbers` function takes two parameters `num1` and\n",
      "`num2`, and returns their sum by using the `+` operator.\n"
     ]
    }
   ],
   "source": [
    "model = OpenAIChat(model_name='gpt-3.5-turbo', temperature=0.2)\n",
    "response_b = model(\"Write a function that returns the sum of two numbers.\")\n",
    "\n",
    "wprint(response_b)"
   ]
  },
  {
   "cell_type": "code",
   "execution_count": 64,
   "metadata": {},
   "outputs": [
    {
     "data": {
      "text/plain": [
       "0.00023799999999999998"
      ]
     },
     "execution_count": 64,
     "metadata": {},
     "output_type": "execute_result"
    }
   ],
   "source": [
    "model.cost"
   ]
  },
  {
   "cell_type": "code",
   "execution_count": 80,
   "metadata": {},
   "outputs": [],
   "source": [
    "from typing import Callable\n",
    "import re\n",
    "\n",
    "def extract_code_blocks(markdown_text: str) -> list:\n",
    "    \"\"\"Extract code blocks from Markdown text\"\"\"\n",
    "    pattern = re.compile(r'```(?:python)?\\s*(.*?)```', re.DOTALL)\n",
    "    matches = pattern.findall(markdown_text)\n",
    "    return [match.strip() for match in matches]\n",
    "\n",
    "\n",
    "# def execute_code_blocks(code_blocks: list[str]) -> list[bool]:\n",
    "#     \"\"\"Execute code blocks and determine if the code blocks run successfully.\"\"\"\n",
    "#     block_results = []\n",
    "#     local_namespace = {}\n",
    "#     for code in code_blocks, start=1):\n",
    "#         try:\n",
    "#             _ = exec(code, local_namespace)\n",
    "#             block_results.append(True)\n",
    "#         except Exception as e:\n",
    "#             block_results.append(False)\n",
    "#     return block_results\n",
    "\n",
    "\n",
    "import io\n",
    "import contextlib\n",
    "\n",
    "def execute_code_blocks(code_blocks: list[str]) -> list[bool]:\n",
    "    \"\"\"Execute code blocks and determine if the code blocks run successfully.\"\"\"\n",
    "    block_results = []\n",
    "    local_namespace = {}\n",
    "    for code in code_blocks:\n",
    "        try:\n",
    "            with contextlib.redirect_stdout(io.StringIO()):\n",
    "                _ = exec(code, {}, local_namespace)\n",
    "            block_results.append(True)\n",
    "        except Exception as e:\n",
    "            block_results.append(False)\n",
    "    return block_results\n",
    "\n",
    "\n",
    "class Trial:\n",
    "    \"\"\"TODO.\"\"\"\n",
    "\n",
    "    def __init__(\n",
    "        self,\n",
    "        chat_model: Callable[[str], str],\n",
    "        prompts: list[str],\n",
    "        description: str | None = None,\n",
    "        ):  # noqa\n",
    "        \"\"\"TODO.\"\"\"\n",
    "        self._chat_model = chat_model\n",
    "        self.prompts = prompts\n",
    "        self.description = description\n",
    "        self.responses = []\n",
    "        self.duration_seconds = None\n",
    "        \n",
    "    \n",
    "    def __call__(self) -> None:\n",
    "        \"\"\"TODO.\"\"\"\n",
    "        import time\n",
    "        start = time.time()\n",
    "        for prompt in self.prompts:\n",
    "            self.responses.append(self._chat_model(prompt))\n",
    "        end = time.time()\n",
    "        self.duration_seconds = end - start\n",
    "        self._code_block_results = [\n",
    "            execute_code_blocks(code_blocks) for code_blocks in self.code_blocks\n",
    "        ]\n",
    "    \n",
    "    def __str__(self) -> str:\n",
    "        \"\"\"TODO.\"\"\"\n",
    "        results = \"\"\n",
    "        if self.description:\n",
    "            results += f\"Description: `{self.description}`\\n\"\n",
    "        results += f\"Time: {self.duration_seconds:.2f} seconds\\n\"\n",
    "        results += f\"Characters: {self.num_characters:,}\\n\"\n",
    "        results += f\"Characters per second: {self.characters_per_second:.1f}\\n\"\n",
    "        results += f\"Num code blocks: {self.num_code_blocks}\\n\"\n",
    "        percent_successful_code_blocks = (\n",
    "            self.num_successful_code_blocks / self.num_code_blocks\n",
    "        )\n",
    "        results += f\"Percent Passing Code blocks: {percent_successful_code_blocks:.1%}\\n\"\n",
    "        if self.cost:\n",
    "            results += f\"Cost: ${self.cost:.5f}\\n\"\n",
    "        return results\n",
    "    \n",
    "    @property\n",
    "    def num_characters(self) -> int:\n",
    "        \"\"\"TODO.\"\"\"\n",
    "        return sum(len(response) for response in self.responses)\n",
    "\n",
    "    @property\n",
    "    def characters_per_second(self) -> float:\n",
    "        \"\"\"TODO.\"\"\"\n",
    "        return self.num_characters / self.duration_seconds\n",
    "\n",
    "    @property\n",
    "    def code_blocks(self) -> list[str]:\n",
    "        \"\"\"TODO.\"\"\"\n",
    "        return [extract_code_blocks(response) for response in self.responses]\n",
    "\n",
    "    @property\n",
    "    def num_code_blocks(self) -> int:\n",
    "        \"\"\"TODO.\"\"\"\n",
    "        return sum(len(code_blocks) for code_blocks in self.code_blocks)\n",
    "\n",
    "    @property\n",
    "    def num_successful_code_blocks(self) -> int:\n",
    "        \"\"\"TODO.\"\"\"\n",
    "        return sum(\n",
    "            sum(code_block_results) for code_block_results in self._code_block_results\n",
    "        )\n",
    "    \n",
    "    @property\n",
    "    def cost(self) -> float:\n",
    "        \"\"\"TODO.\"\"\"\n",
    "        # if chat_model has a cost attribute, use that\n",
    "        if hasattr(self._chat_model, 'cost'):\n",
    "            return self._chat_model.cost\n",
    "        return None\n",
    "    "
   ]
  },
  {
   "cell_type": "code",
   "execution_count": 81,
   "metadata": {},
   "outputs": [],
   "source": [
    "model = OpenAIChat(model_name='gpt-3.5-turbo', temperature=0.2)\n",
    "trial = Trial(model, prompts=['Write a function that returns the sum of two numbers.'])"
   ]
  },
  {
   "cell_type": "code",
   "execution_count": 82,
   "metadata": {},
   "outputs": [
    {
     "name": "stdout",
     "output_type": "stream",
     "text": [
      "Time: 1.58 seconds\n",
      "Characters: 375\n",
      "Characters per second: 237.66\n",
      "Num code blocks: 2\n",
      "Percent Passing Code blocks: 100.0%\n",
      "Cost: $0.0002\n",
      "\n"
     ]
    }
   ],
   "source": [
    "trial()\n",
    "print(trial)"
   ]
  },
  {
   "cell_type": "code",
   "execution_count": 85,
   "metadata": {},
   "outputs": [
    {
     "data": {
      "text/markdown": [
       "Sure! Here's a function that takes two numbers as input and returns their sum:\n",
       "\n",
       "```python\n",
       "def add_numbers(num1, num2):\n",
       "    return num1 + num2\n",
       "```\n",
       "\n",
       "You can call this function by passing in two numbers as arguments, like this:\n",
       "\n",
       "```python\n",
       "result = add_numbers(5, 3)\n",
       "print(result)  # Output: 8\n",
       "```\n",
       "\n",
       "Feel free to modify the function or let me know if you have any other questions!"
      ],
      "text/plain": [
       "<IPython.core.display.Markdown object>"
      ]
     },
     "metadata": {},
     "output_type": "display_data"
    }
   ],
   "source": [
    "display(Markdown(trial.responses[0]))"
   ]
  },
  {
   "cell_type": "code",
   "execution_count": 86,
   "metadata": {},
   "outputs": [
    {
     "data": {
      "text/plain": [
       "['def add_numbers(num1, num2):\\n    return num1 + num2',\n",
       " 'result = add_numbers(5, 3)\\nprint(result)  # Output: 8']"
      ]
     },
     "execution_count": 86,
     "metadata": {},
     "output_type": "execute_result"
    }
   ],
   "source": [
    "trial.code_blocks[0]"
   ]
  },
  {
   "cell_type": "code",
   "execution_count": null,
   "metadata": {},
   "outputs": [],
   "source": []
  },
  {
   "cell_type": "code",
   "execution_count": null,
   "metadata": {},
   "outputs": [],
   "source": []
  },
  {
   "cell_type": "code",
   "execution_count": null,
   "metadata": {},
   "outputs": [],
   "source": []
  },
  {
   "cell_type": "code",
   "execution_count": null,
   "metadata": {},
   "outputs": [],
   "source": []
  },
  {
   "cell_type": "code",
   "execution_count": null,
   "metadata": {},
   "outputs": [],
   "source": []
  },
  {
   "cell_type": "code",
   "execution_count": null,
   "metadata": {},
   "outputs": [],
   "source": []
  },
  {
   "cell_type": "code",
   "execution_count": null,
   "metadata": {},
   "outputs": [],
   "source": []
  },
  {
   "cell_type": "code",
   "execution_count": null,
   "metadata": {},
   "outputs": [],
   "source": []
  },
  {
   "cell_type": "code",
   "execution_count": null,
   "metadata": {},
   "outputs": [],
   "source": []
  },
  {
   "cell_type": "code",
   "execution_count": null,
   "metadata": {},
   "outputs": [],
   "source": []
  },
  {
   "cell_type": "code",
   "execution_count": null,
   "metadata": {},
   "outputs": [],
   "source": []
  },
  {
   "cell_type": "code",
   "execution_count": null,
   "metadata": {},
   "outputs": [],
   "source": []
  },
  {
   "cell_type": "code",
   "execution_count": null,
   "metadata": {},
   "outputs": [],
   "source": []
  },
  {
   "cell_type": "code",
   "execution_count": null,
   "metadata": {},
   "outputs": [],
   "source": []
  },
  {
   "cell_type": "code",
   "execution_count": 18,
   "metadata": {},
   "outputs": [],
   "source": [
    "import difflib\n",
    "\n",
    "\n",
    "def _create_html_difference_list(value_a: str, value_b: str) -> str:\n",
    "    \"\"\"\n",
    "    Given value_a and value_b return unified_diff, after cleaning up what unified_diff returns.\n",
    "    Args:\n",
    "        value_a:\n",
    "        value_b:\n",
    "    \"\"\"\n",
    "    diff = list(difflib.unified_diff(a=value_a, b=value_b, n=1000))\n",
    "    if len(diff) == 0:  # equal strings\n",
    "        diff = [\" \" + char for char in value_a]\n",
    "    else:\n",
    "        diff = diff[3:]\n",
    "    return diff\n",
    "\n",
    "\n",
    "def _create_html_change_span(value: str, is_change: bool, change_color: str = '#F1948A') -> str:\n",
    "    \"\"\"\n",
    "    Args:\n",
    "        value: a single character\n",
    "        is_change: if True, highlight the character in red\n",
    "        change_color: color of background to highlight differences.\n",
    "    Returns:\n",
    "        e.g. \"<span style=\"background:#ffe6e6\";>value</span>\"\n",
    "    \"\"\"\n",
    "    background_color = ''\n",
    "    if is_change:\n",
    "        background_color = f' style=\"background:{change_color}\";'\n",
    "    return f'<span{background_color}>{value}</span>'\n",
    "\n",
    "\n",
    "def _create_html_cell(difference_list: list, is_first_value: bool, change_color: str = '#F1948A'):\n",
    "    \"\"\"\n",
    "    Creates a single cell (e.g. name, domain, etc.) from one company's differences.\n",
    "    Args:\n",
    "        difference_list: list returned from create_difference_list\n",
    "        is_first_value: if True, treats difference_list according to first value.\n",
    "        change_color: color of background to highlight differences.\n",
    "    \"\"\"\n",
    "    if is_first_value:\n",
    "        diff = [(x[1:], x[0] != ' ') for x in difference_list if x[0] in [' ', '-']]\n",
    "    else:\n",
    "        diff = [(x[1:], x[0] != ' ') for x in difference_list if x[0] in [' ', '+']]\n",
    "\n",
    "    html = [\n",
    "        _create_html_change_span(value=x[0], is_change=x[1], change_color=change_color)\n",
    "        for x in diff\n",
    "    ]\n",
    "    return ''.join(html)\n",
    "\n",
    "\n",
    "def diff_text(\n",
    "        text_a: str | list[str],\n",
    "        text_b: str | list[str],\n",
    "        change_color: str = '#F1948A') -> str:\n",
    "    \"\"\"\n",
    "    Returns string as HTML containing highlighted differences between `text_a` and\n",
    "    `text_b`.\n",
    "\n",
    "    The HTML will contain a table with a single column that that contains `text_a` on top and\n",
    "    `text_b` on the bottom.\n",
    "\n",
    "    All `new line` characters are removed and replaced with a space.\n",
    "\n",
    "    Args:\n",
    "        text_a: this text will be represented on the top of each html cell.\n",
    "        text_b: this text will be represented on the bottom of each html\n",
    "        cell. change_color: color of background to highlight differences.\n",
    "    \"\"\"\n",
    "    html = '''\n",
    "    <html>\n",
    "    <head>\n",
    "      <style>\n",
    "        table, th, td { border: 1px solid black; border-collapse: collapse; white-space: normal;}\n",
    "        .markdown-container {\n",
    "            font-family: Arial, sans-serif;\n",
    "            padding: 10px;\n",
    "            border: 1px solid #ccc;\n",
    "        }\n",
    "      </style>\n",
    "    </head>\n",
    "    <body style=\"font-family: monospace\">\n",
    "    '''\n",
    "    html += '<script src=\"https://cdn.jsdelivr.net/npm/marked/marked.min.js\"></script>'\n",
    "    html += \"\"\"\n",
    "    <script>\n",
    "    // Get references to all elements with the \"markdown-container\" class\n",
    "    const markdownContainers = document.querySelectorAll(\".markdown-container\");\n",
    "\n",
    "    // Your Markdown content\n",
    "    const markdownText = `\n",
    "    # Hello, Markdown!\n",
    "\n",
    "    This is some **Markdown** text.\n",
    "\n",
    "    - List item 1\n",
    "    - List item 2\n",
    "    `;\n",
    "\n",
    "    // Convert and render the Markdown for each container\n",
    "    markdownContainers.forEach((container) => {\n",
    "        container.innerHTML = marked(markdownText);\n",
    "    });\n",
    "    </script>\n",
    "    \"\"\"\n",
    "    html += '<table><tr>'\n",
    "    html += '<th>index</th>'\n",
    "    html += '<th>diff</th>'\n",
    "    html += '</tr>'\n",
    "\n",
    "    # line_break = '<hr style=\"width:25%; text-align:left; margin-left:10px; height:1px; ' \\\n",
    "    #     'border-width:0;' \\\n",
    "    #     'color:blue; background-color:blue\">'\n",
    "    line_break = '<hr style=\"border: none; border-left: 1px solid #000; height: 100px;\">'\n",
    "\n",
    "    def create_inline_change(diff_list):\n",
    "        diff_a = _create_html_cell(\n",
    "            difference_list=diff_list, is_first_value=True, change_color=change_color\n",
    "        )\n",
    "        diff_b = _create_html_cell(\n",
    "            difference_list=diff_list, is_first_value=False, change_color=change_color\n",
    "        )\n",
    "        return f'<td class=\"markdown-container\">{diff_a}</td>' + f'<td>{diff_b}</td>'\n",
    "\n",
    "    if isinstance(text_a, str):\n",
    "        assert isinstance(text_b, str)\n",
    "        text_a = [text_a]\n",
    "        text_b = [text_b]\n",
    "    else:\n",
    "        assert len(text_a) == len(text_b)\n",
    "\n",
    "    for index in range(len(text_a)):\n",
    "        html += '<tr>'\n",
    "        html += f\"<td>{index}</td>\"\n",
    "        difference_list = _create_html_difference_list(\n",
    "            value_a=text_a[index],\n",
    "            value_b=text_b[index]\n",
    "        )\n",
    "        html += create_inline_change(diff_list=difference_list)\n",
    "        html += '</tr>'\n",
    "    html += \"</table></body></html>\"\n",
    "    return html\n"
   ]
  },
  {
   "cell_type": "code",
   "execution_count": 27,
   "metadata": {},
   "outputs": [
    {
     "name": "stdout",
     "output_type": "stream",
     "text": [
      "Here is an example of a function that returns the sum of two numbers:\n",
      "\n",
      "```python\n",
      "def add_numbers(num1, num2):\n",
      "    return num1 + num2\n",
      "```\n",
      "\n",
      "You can use this function by calling it and passing in two numbers as arguments. For example:\n",
      "\n",
      "```python\n",
      "result = add_numbers(5, 3)\n",
      "print(result)  # Output: 8\n",
      "```\n"
     ]
    }
   ],
   "source": [
    "print(response_a)"
   ]
  },
  {
   "cell_type": "code",
   "execution_count": 23,
   "metadata": {},
   "outputs": [
    {
     "data": {
      "text/markdown": [
       "Here is an example of a function that returns the sum of two numbers:\n",
       "\n",
       "```python\n",
       "def add_numbers(num1, num2):\n",
       "    return num1 + num2\n",
       "```\n",
       "\n",
       "You can use this function by calling it and passing in two numbers as arguments. For example:\n",
       "\n",
       "```python\n",
       "result = add_numbers(5, 3)\n",
       "print(result)  # Output: 8\n",
       "```"
      ],
      "text/plain": [
       "<IPython.core.display.Markdown object>"
      ]
     },
     "metadata": {},
     "output_type": "display_data"
    },
    {
     "data": {
      "text/markdown": [
       "Sure! Here's an example of a function that takes two numbers as input and returns their sum:\n",
       "\n",
       "```python\n",
       "def sum_numbers(num1, num2):\n",
       "    return num1 + num2\n",
       "```\n",
       "\n",
       "You can call this function by passing in two numbers as arguments, like this:\n",
       "\n",
       "```python\n",
       "result = sum_numbers(5, 3)\n",
       "print(result)  # Output: 8\n",
       "```\n",
       "\n",
       "In this example, the `sum_numbers` function takes two parameters `num1` and `num2`, and returns their sum by using the `+` operator."
      ],
      "text/plain": [
       "<IPython.core.display.Markdown object>"
      ]
     },
     "metadata": {},
     "output_type": "display_data"
    }
   ],
   "source": [
    "from IPython.display import display, HTML, Markdown\n",
    "display(Markdown(response_a))\n",
    "display(Markdown(response_b))"
   ]
  },
  {
   "cell_type": "code",
   "execution_count": 25,
   "metadata": {},
   "outputs": [
    {
     "data": {
      "text/html": [
       "\n",
       "    <html>\n",
       "    <head>\n",
       "      <style>\n",
       "        table, th, td { border: 1px solid black; border-collapse: collapse; white-space: normal;}\n",
       "        .markdown-container {\n",
       "            font-family: Arial, sans-serif;\n",
       "            padding: 10px;\n",
       "            border: 1px solid #ccc;\n",
       "        }\n",
       "      </style>\n",
       "    </head>\n",
       "    <body style=\"font-family: monospace\">\n",
       "    <script src=\"https://cdn.jsdelivr.net/npm/marked/marked.min.js\"></script>\n",
       "    <script>\n",
       "    // Get references to all elements with the \"markdown-container\" class\n",
       "    const markdownContainers = document.querySelectorAll(\".markdown-container\");\n",
       "\n",
       "    // Your Markdown content\n",
       "    const markdownText = `\n",
       "    # Hello, Markdown!\n",
       "\n",
       "    This is some **Markdown** text.\n",
       "\n",
       "    - List item 1\n",
       "    - List item 2\n",
       "    `;\n",
       "\n",
       "    // Convert and render the Markdown for each container\n",
       "    markdownContainers.forEach((container) => {\n",
       "        container.innerHTML = marked(markdownText);\n",
       "    });\n",
       "    </script>\n",
       "    <table><tr><th>index</th><th>diff</th></tr><tr><td>0</td><td class=\"markdown-container\"><span>H</span><span>e</span><span>r</span><span>e</span><span style=\"background:#F1948A\";> </span><span style=\"background:#F1948A\";>i</span><span>s</span><span> </span><span>a</span><span>n</span><span> </span><span>e</span><span>x</span><span>a</span><span>m</span><span>p</span><span>l</span><span>e</span><span> </span><span>o</span><span>f</span><span> </span><span>a</span><span> </span><span>f</span><span>u</span><span>n</span><span>c</span><span>t</span><span>i</span><span>o</span><span>n</span><span> </span><span>t</span><span>h</span><span>a</span><span>t</span><span> </span><span style=\"background:#F1948A\";>r</span><span style=\"background:#F1948A\";>e</span><span style=\"background:#F1948A\";>t</span><span style=\"background:#F1948A\";>u</span><span style=\"background:#F1948A\";>r</span><span style=\"background:#F1948A\";>n</span><span style=\"background:#F1948A\";>s</span><span style=\"background:#F1948A\";> </span><span style=\"background:#F1948A\";>t</span><span style=\"background:#F1948A\";>h</span><span style=\"background:#F1948A\";>e</span><span style=\"background:#F1948A\";> </span><span style=\"background:#F1948A\";>s</span><span style=\"background:#F1948A\";>u</span><span style=\"background:#F1948A\";>m</span><span style=\"background:#F1948A\";> </span><span style=\"background:#F1948A\";>o</span><span>f</span><span> </span><span style=\"background:#F1948A\";>t</span><span style=\"background:#F1948A\";>w</span><span style=\"background:#F1948A\";>o</span><span style=\"background:#F1948A\";> </span><span style=\"background:#F1948A\";>n</span><span style=\"background:#F1948A\";>u</span><span style=\"background:#F1948A\";>m</span><span style=\"background:#F1948A\";>b</span><span style=\"background:#F1948A\";>e</span><span style=\"background:#F1948A\";>r</span><span style=\"background:#F1948A\";>s</span><span style=\"background:#F1948A\";>:</span><span style=\"background:#F1948A\";>\n",
       "</span><span style=\"background:#F1948A\";>\n",
       "</span><span style=\"background:#F1948A\";>`</span><span style=\"background:#F1948A\";>`</span><span style=\"background:#F1948A\";>`</span><span style=\"background:#F1948A\";>p</span><span style=\"background:#F1948A\";>y</span><span style=\"background:#F1948A\";>t</span><span style=\"background:#F1948A\";>h</span><span style=\"background:#F1948A\";>o</span><span style=\"background:#F1948A\";>n</span><span style=\"background:#F1948A\";>\n",
       "</span><span style=\"background:#F1948A\";>d</span><span style=\"background:#F1948A\";>e</span><span style=\"background:#F1948A\";>f</span><span style=\"background:#F1948A\";> </span><span style=\"background:#F1948A\";>a</span><span style=\"background:#F1948A\";>d</span><span style=\"background:#F1948A\";>d</span><span>_</span><span>n</span><span>u</span><span>m</span><span>b</span><span>e</span><span>r</span><span>s</span><span>(</span><span>n</span><span>u</span><span>m</span><span>1</span><span>,</span><span> </span><span>n</span><span>u</span><span>m</span><span>2</span><span>)</span><span>:</span><span>\n",
       "</span><span> </span><span> </span><span> </span><span> </span><span>r</span><span>e</span><span>t</span><span>u</span><span>r</span><span>n</span><span> </span><span>n</span><span>u</span><span>m</span><span>1</span><span> </span><span>+</span><span> </span><span>n</span><span>u</span><span>m</span><span>2</span><span>\n",
       "</span><span>`</span><span>`</span><span>`</span><span>\n",
       "</span><span>\n",
       "</span><span>Y</span><span>o</span><span>u</span><span> </span><span>c</span><span>a</span><span>n</span><span> </span><span style=\"background:#F1948A\";>u</span><span style=\"background:#F1948A\";>s</span><span style=\"background:#F1948A\";>e</span><span> </span><span>t</span><span>h</span><span>i</span><span>s</span><span> </span><span>f</span><span>u</span><span>n</span><span>c</span><span>t</span><span>i</span><span>o</span><span>n</span><span> </span><span>b</span><span>y</span><span> </span><span style=\"background:#F1948A\";>c</span><span style=\"background:#F1948A\";>a</span><span style=\"background:#F1948A\";>l</span><span style=\"background:#F1948A\";>l</span><span>i</span><span>n</span><span>g</span><span> </span><span>i</span><span style=\"background:#F1948A\";>t</span><span style=\"background:#F1948A\";> </span><span style=\"background:#F1948A\";>a</span><span style=\"background:#F1948A\";>n</span><span style=\"background:#F1948A\";>d</span><span style=\"background:#F1948A\";> </span><span style=\"background:#F1948A\";>p</span><span style=\"background:#F1948A\";>a</span><span style=\"background:#F1948A\";>s</span><span style=\"background:#F1948A\";>s</span><span style=\"background:#F1948A\";>i</span><span style=\"background:#F1948A\";>n</span><span>g</span><span style=\"background:#F1948A\";> </span><span style=\"background:#F1948A\";>i</span><span style=\"background:#F1948A\";>n</span><span style=\"background:#F1948A\";> </span><span style=\"background:#F1948A\";>t</span><span style=\"background:#F1948A\";>w</span><span style=\"background:#F1948A\";>o</span><span style=\"background:#F1948A\";> </span><span style=\"background:#F1948A\";>n</span><span style=\"background:#F1948A\";>u</span><span style=\"background:#F1948A\";>m</span><span style=\"background:#F1948A\";>b</span><span style=\"background:#F1948A\";>e</span><span style=\"background:#F1948A\";>r</span><span style=\"background:#F1948A\";>s</span><span style=\"background:#F1948A\";> </span><span style=\"background:#F1948A\";>a</span><span style=\"background:#F1948A\";>s</span><span style=\"background:#F1948A\";> </span><span style=\"background:#F1948A\";>a</span><span style=\"background:#F1948A\";>r</span><span style=\"background:#F1948A\";>g</span><span style=\"background:#F1948A\";>u</span><span style=\"background:#F1948A\";>m</span><span style=\"background:#F1948A\";>e</span><span style=\"background:#F1948A\";>n</span><span style=\"background:#F1948A\";>t</span><span style=\"background:#F1948A\";>s</span><span style=\"background:#F1948A\";>.</span><span style=\"background:#F1948A\";> </span><span style=\"background:#F1948A\";>F</span><span style=\"background:#F1948A\";>o</span><span style=\"background:#F1948A\";>r</span><span style=\"background:#F1948A\";> </span><span style=\"background:#F1948A\";>e</span><span style=\"background:#F1948A\";>x</span><span style=\"background:#F1948A\";>a</span><span style=\"background:#F1948A\";>m</span><span style=\"background:#F1948A\";>p</span><span style=\"background:#F1948A\";>l</span><span style=\"background:#F1948A\";>e</span><span>:</span><span>\n",
       "</span><span>\n",
       "</span><span>`</span><span>`</span><span>`</span><span>p</span><span>y</span><span>t</span><span>h</span><span>o</span><span>n</span><span>\n",
       "</span><span>r</span><span>e</span><span>s</span><span>u</span><span>l</span><span>t</span><span> </span><span>=</span><span> </span><span style=\"background:#F1948A\";>a</span><span style=\"background:#F1948A\";>d</span><span style=\"background:#F1948A\";>d</span><span>_</span><span>n</span><span>u</span><span>m</span><span>b</span><span>e</span><span>r</span><span>s</span><span>(</span><span>5</span><span>,</span><span> </span><span>3</span><span>)</span><span>\n",
       "</span><span>p</span><span>r</span><span>i</span><span>n</span><span>t</span><span>(</span><span>r</span><span>e</span><span>s</span><span>u</span><span>l</span><span>t</span><span>)</span><span> </span><span> </span><span>#</span><span> </span><span>O</span><span>u</span><span>t</span><span>p</span><span>u</span><span>t</span><span>:</span><span> </span><span>8</span><span>\n",
       "</span><span>`</span><span>`</span><span>`</span></td><td><span style=\"background:#F1948A\";>S</span><span style=\"background:#F1948A\";>u</span><span style=\"background:#F1948A\";>r</span><span style=\"background:#F1948A\";>e</span><span style=\"background:#F1948A\";>!</span><span style=\"background:#F1948A\";> </span><span>H</span><span>e</span><span>r</span><span>e</span><span style=\"background:#F1948A\";>'</span><span>s</span><span> </span><span>a</span><span>n</span><span> </span><span>e</span><span>x</span><span>a</span><span>m</span><span>p</span><span>l</span><span>e</span><span> </span><span>o</span><span>f</span><span> </span><span>a</span><span> </span><span>f</span><span>u</span><span>n</span><span>c</span><span>t</span><span>i</span><span>o</span><span>n</span><span> </span><span>t</span><span>h</span><span>a</span><span>t</span><span> </span><span style=\"background:#F1948A\";>t</span><span style=\"background:#F1948A\";>a</span><span style=\"background:#F1948A\";>k</span><span style=\"background:#F1948A\";>e</span><span style=\"background:#F1948A\";>s</span><span style=\"background:#F1948A\";> </span><span style=\"background:#F1948A\";>t</span><span style=\"background:#F1948A\";>w</span><span style=\"background:#F1948A\";>o</span><span style=\"background:#F1948A\";> </span><span style=\"background:#F1948A\";>n</span><span style=\"background:#F1948A\";>u</span><span style=\"background:#F1948A\";>m</span><span style=\"background:#F1948A\";>b</span><span style=\"background:#F1948A\";>e</span><span style=\"background:#F1948A\";>r</span><span style=\"background:#F1948A\";>s</span><span style=\"background:#F1948A\";> </span><span style=\"background:#F1948A\";>a</span><span style=\"background:#F1948A\";>s</span><span style=\"background:#F1948A\";> </span><span style=\"background:#F1948A\";>i</span><span style=\"background:#F1948A\";>n</span><span style=\"background:#F1948A\";>p</span><span style=\"background:#F1948A\";>u</span><span style=\"background:#F1948A\";>t</span><span style=\"background:#F1948A\";> </span><span style=\"background:#F1948A\";>a</span><span style=\"background:#F1948A\";>n</span><span style=\"background:#F1948A\";>d</span><span style=\"background:#F1948A\";> </span><span style=\"background:#F1948A\";>r</span><span style=\"background:#F1948A\";>e</span><span style=\"background:#F1948A\";>t</span><span style=\"background:#F1948A\";>u</span><span style=\"background:#F1948A\";>r</span><span style=\"background:#F1948A\";>n</span><span style=\"background:#F1948A\";>s</span><span style=\"background:#F1948A\";> </span><span style=\"background:#F1948A\";>t</span><span style=\"background:#F1948A\";>h</span><span style=\"background:#F1948A\";>e</span><span style=\"background:#F1948A\";>i</span><span style=\"background:#F1948A\";>r</span><span style=\"background:#F1948A\";> </span><span style=\"background:#F1948A\";>s</span><span style=\"background:#F1948A\";>u</span><span style=\"background:#F1948A\";>m</span><span style=\"background:#F1948A\";>:</span><span style=\"background:#F1948A\";>\n",
       "</span><span style=\"background:#F1948A\";>\n",
       "</span><span style=\"background:#F1948A\";>`</span><span style=\"background:#F1948A\";>`</span><span style=\"background:#F1948A\";>`</span><span style=\"background:#F1948A\";>p</span><span style=\"background:#F1948A\";>y</span><span style=\"background:#F1948A\";>t</span><span style=\"background:#F1948A\";>h</span><span style=\"background:#F1948A\";>o</span><span style=\"background:#F1948A\";>n</span><span style=\"background:#F1948A\";>\n",
       "</span><span style=\"background:#F1948A\";>d</span><span style=\"background:#F1948A\";>e</span><span>f</span><span> </span><span style=\"background:#F1948A\";>s</span><span style=\"background:#F1948A\";>u</span><span style=\"background:#F1948A\";>m</span><span>_</span><span>n</span><span>u</span><span>m</span><span>b</span><span>e</span><span>r</span><span>s</span><span>(</span><span>n</span><span>u</span><span>m</span><span>1</span><span>,</span><span> </span><span>n</span><span>u</span><span>m</span><span>2</span><span>)</span><span>:</span><span>\n",
       "</span><span> </span><span> </span><span> </span><span> </span><span>r</span><span>e</span><span>t</span><span>u</span><span>r</span><span>n</span><span> </span><span>n</span><span>u</span><span>m</span><span>1</span><span> </span><span>+</span><span> </span><span>n</span><span>u</span><span>m</span><span>2</span><span>\n",
       "</span><span>`</span><span>`</span><span>`</span><span>\n",
       "</span><span>\n",
       "</span><span>Y</span><span>o</span><span>u</span><span> </span><span>c</span><span>a</span><span>n</span><span> </span><span style=\"background:#F1948A\";>c</span><span style=\"background:#F1948A\";>a</span><span style=\"background:#F1948A\";>l</span><span style=\"background:#F1948A\";>l</span><span> </span><span>t</span><span>h</span><span>i</span><span>s</span><span> </span><span>f</span><span>u</span><span>n</span><span>c</span><span>t</span><span>i</span><span>o</span><span>n</span><span> </span><span>b</span><span>y</span><span> </span><span style=\"background:#F1948A\";>p</span><span style=\"background:#F1948A\";>a</span><span style=\"background:#F1948A\";>s</span><span style=\"background:#F1948A\";>s</span><span>i</span><span>n</span><span>g</span><span> </span><span>i</span><span style=\"background:#F1948A\";>n</span><span style=\"background:#F1948A\";> </span><span style=\"background:#F1948A\";>t</span><span style=\"background:#F1948A\";>w</span><span style=\"background:#F1948A\";>o</span><span style=\"background:#F1948A\";> </span><span style=\"background:#F1948A\";>n</span><span style=\"background:#F1948A\";>u</span><span style=\"background:#F1948A\";>m</span><span style=\"background:#F1948A\";>b</span><span style=\"background:#F1948A\";>e</span><span style=\"background:#F1948A\";>r</span><span style=\"background:#F1948A\";>s</span><span style=\"background:#F1948A\";> </span><span style=\"background:#F1948A\";>a</span><span style=\"background:#F1948A\";>s</span><span style=\"background:#F1948A\";> </span><span style=\"background:#F1948A\";>a</span><span style=\"background:#F1948A\";>r</span><span>g</span><span style=\"background:#F1948A\";>u</span><span style=\"background:#F1948A\";>m</span><span style=\"background:#F1948A\";>e</span><span style=\"background:#F1948A\";>n</span><span style=\"background:#F1948A\";>t</span><span style=\"background:#F1948A\";>s</span><span style=\"background:#F1948A\";>,</span><span style=\"background:#F1948A\";> </span><span style=\"background:#F1948A\";>l</span><span style=\"background:#F1948A\";>i</span><span style=\"background:#F1948A\";>k</span><span style=\"background:#F1948A\";>e</span><span style=\"background:#F1948A\";> </span><span style=\"background:#F1948A\";>t</span><span style=\"background:#F1948A\";>h</span><span style=\"background:#F1948A\";>i</span><span style=\"background:#F1948A\";>s</span><span>:</span><span>\n",
       "</span><span>\n",
       "</span><span>`</span><span>`</span><span>`</span><span>p</span><span>y</span><span>t</span><span>h</span><span>o</span><span>n</span><span>\n",
       "</span><span>r</span><span>e</span><span>s</span><span>u</span><span>l</span><span>t</span><span> </span><span>=</span><span> </span><span style=\"background:#F1948A\";>s</span><span style=\"background:#F1948A\";>u</span><span style=\"background:#F1948A\";>m</span><span>_</span><span>n</span><span>u</span><span>m</span><span>b</span><span>e</span><span>r</span><span>s</span><span>(</span><span>5</span><span>,</span><span> </span><span>3</span><span>)</span><span>\n",
       "</span><span>p</span><span>r</span><span>i</span><span>n</span><span>t</span><span>(</span><span>r</span><span>e</span><span>s</span><span>u</span><span>l</span><span>t</span><span>)</span><span> </span><span> </span><span>#</span><span> </span><span>O</span><span>u</span><span>t</span><span>p</span><span>u</span><span>t</span><span>:</span><span> </span><span>8</span><span>\n",
       "</span><span>`</span><span>`</span><span>`</span><span style=\"background:#F1948A\";>\n",
       "</span><span style=\"background:#F1948A\";>\n",
       "</span><span style=\"background:#F1948A\";>I</span><span style=\"background:#F1948A\";>n</span><span style=\"background:#F1948A\";> </span><span style=\"background:#F1948A\";>t</span><span style=\"background:#F1948A\";>h</span><span style=\"background:#F1948A\";>i</span><span style=\"background:#F1948A\";>s</span><span style=\"background:#F1948A\";> </span><span style=\"background:#F1948A\";>e</span><span style=\"background:#F1948A\";>x</span><span style=\"background:#F1948A\";>a</span><span style=\"background:#F1948A\";>m</span><span style=\"background:#F1948A\";>p</span><span style=\"background:#F1948A\";>l</span><span style=\"background:#F1948A\";>e</span><span style=\"background:#F1948A\";>,</span><span style=\"background:#F1948A\";> </span><span style=\"background:#F1948A\";>t</span><span style=\"background:#F1948A\";>h</span><span style=\"background:#F1948A\";>e</span><span style=\"background:#F1948A\";> </span><span style=\"background:#F1948A\";>`</span><span style=\"background:#F1948A\";>s</span><span style=\"background:#F1948A\";>u</span><span style=\"background:#F1948A\";>m</span><span style=\"background:#F1948A\";>_</span><span style=\"background:#F1948A\";>n</span><span style=\"background:#F1948A\";>u</span><span style=\"background:#F1948A\";>m</span><span style=\"background:#F1948A\";>b</span><span style=\"background:#F1948A\";>e</span><span style=\"background:#F1948A\";>r</span><span style=\"background:#F1948A\";>s</span><span style=\"background:#F1948A\";>`</span><span style=\"background:#F1948A\";> </span><span style=\"background:#F1948A\";>f</span><span style=\"background:#F1948A\";>u</span><span style=\"background:#F1948A\";>n</span><span style=\"background:#F1948A\";>c</span><span style=\"background:#F1948A\";>t</span><span style=\"background:#F1948A\";>i</span><span style=\"background:#F1948A\";>o</span><span style=\"background:#F1948A\";>n</span><span style=\"background:#F1948A\";> </span><span style=\"background:#F1948A\";>t</span><span style=\"background:#F1948A\";>a</span><span style=\"background:#F1948A\";>k</span><span style=\"background:#F1948A\";>e</span><span style=\"background:#F1948A\";>s</span><span style=\"background:#F1948A\";> </span><span style=\"background:#F1948A\";>t</span><span style=\"background:#F1948A\";>w</span><span style=\"background:#F1948A\";>o</span><span style=\"background:#F1948A\";> </span><span style=\"background:#F1948A\";>p</span><span style=\"background:#F1948A\";>a</span><span style=\"background:#F1948A\";>r</span><span style=\"background:#F1948A\";>a</span><span style=\"background:#F1948A\";>m</span><span style=\"background:#F1948A\";>e</span><span style=\"background:#F1948A\";>t</span><span style=\"background:#F1948A\";>e</span><span style=\"background:#F1948A\";>r</span><span style=\"background:#F1948A\";>s</span><span style=\"background:#F1948A\";> </span><span style=\"background:#F1948A\";>`</span><span style=\"background:#F1948A\";>n</span><span style=\"background:#F1948A\";>u</span><span style=\"background:#F1948A\";>m</span><span style=\"background:#F1948A\";>1</span><span style=\"background:#F1948A\";>`</span><span style=\"background:#F1948A\";> </span><span style=\"background:#F1948A\";>a</span><span style=\"background:#F1948A\";>n</span><span style=\"background:#F1948A\";>d</span><span style=\"background:#F1948A\";> </span><span style=\"background:#F1948A\";>`</span><span style=\"background:#F1948A\";>n</span><span style=\"background:#F1948A\";>u</span><span style=\"background:#F1948A\";>m</span><span style=\"background:#F1948A\";>2</span><span style=\"background:#F1948A\";>`</span><span style=\"background:#F1948A\";>,</span><span style=\"background:#F1948A\";> </span><span style=\"background:#F1948A\";>a</span><span style=\"background:#F1948A\";>n</span><span style=\"background:#F1948A\";>d</span><span style=\"background:#F1948A\";> </span><span style=\"background:#F1948A\";>r</span><span style=\"background:#F1948A\";>e</span><span style=\"background:#F1948A\";>t</span><span style=\"background:#F1948A\";>u</span><span style=\"background:#F1948A\";>r</span><span style=\"background:#F1948A\";>n</span><span style=\"background:#F1948A\";>s</span><span style=\"background:#F1948A\";> </span><span style=\"background:#F1948A\";>t</span><span style=\"background:#F1948A\";>h</span><span style=\"background:#F1948A\";>e</span><span style=\"background:#F1948A\";>i</span><span style=\"background:#F1948A\";>r</span><span style=\"background:#F1948A\";> </span><span style=\"background:#F1948A\";>s</span><span style=\"background:#F1948A\";>u</span><span style=\"background:#F1948A\";>m</span><span style=\"background:#F1948A\";> </span><span style=\"background:#F1948A\";>b</span><span style=\"background:#F1948A\";>y</span><span style=\"background:#F1948A\";> </span><span style=\"background:#F1948A\";>u</span><span style=\"background:#F1948A\";>s</span><span style=\"background:#F1948A\";>i</span><span style=\"background:#F1948A\";>n</span><span style=\"background:#F1948A\";>g</span><span style=\"background:#F1948A\";> </span><span style=\"background:#F1948A\";>t</span><span style=\"background:#F1948A\";>h</span><span style=\"background:#F1948A\";>e</span><span style=\"background:#F1948A\";> </span><span style=\"background:#F1948A\";>`</span><span style=\"background:#F1948A\";>+</span><span style=\"background:#F1948A\";>`</span><span style=\"background:#F1948A\";> </span><span style=\"background:#F1948A\";>o</span><span style=\"background:#F1948A\";>p</span><span style=\"background:#F1948A\";>e</span><span style=\"background:#F1948A\";>r</span><span style=\"background:#F1948A\";>a</span><span style=\"background:#F1948A\";>t</span><span style=\"background:#F1948A\";>o</span><span style=\"background:#F1948A\";>r</span><span style=\"background:#F1948A\";>.</span></td></tr></table></body></html>"
      ],
      "text/plain": [
       "<IPython.core.display.HTML object>"
      ]
     },
     "metadata": {},
     "output_type": "display_data"
    }
   ],
   "source": [
    "# display html\n",
    "display(HTML(diff_text(response_a, response_b)))"
   ]
  },
  {
   "cell_type": "code",
   "execution_count": null,
   "metadata": {},
   "outputs": [],
   "source": []
  },
  {
   "cell_type": "code",
   "execution_count": 28,
   "metadata": {},
   "outputs": [
    {
     "ename": "ModuleNotFoundError",
     "evalue": "No module named 'markdown'",
     "output_type": "error",
     "traceback": [
      "\u001b[0;31m---------------------------------------------------------------------------\u001b[0m",
      "\u001b[0;31mModuleNotFoundError\u001b[0m                       Traceback (most recent call last)",
      "\u001b[1;32m/code/examples/compare.ipynb Cell 15\u001b[0m line \u001b[0;36m1\n\u001b[0;32m----> <a href='vscode-notebook-cell://attached-container%2B7b22636f6e7461696e65724e616d65223a222f6c6c6d2d776f726b666c6f772d626173682d31222c2273657474696e6773223a7b22636f6e74657874223a226465736b746f702d6c696e7578227d7d/code/examples/compare.ipynb#X32sdnNjb2RlLXJlbW90ZQ%3D%3D?line=0'>1</a>\u001b[0m \u001b[39mimport\u001b[39;00m \u001b[39mmarkdown\u001b[39;00m\n",
      "\u001b[0;31mModuleNotFoundError\u001b[0m: No module named 'markdown'"
     ]
    }
   ],
   "source": [
    "import markdown"
   ]
  },
  {
   "cell_type": "markdown",
   "metadata": {},
   "source": []
  },
  {
   "cell_type": "code",
   "execution_count": null,
   "metadata": {},
   "outputs": [],
   "source": []
  },
  {
   "cell_type": "code",
   "execution_count": null,
   "metadata": {},
   "outputs": [],
   "source": []
  },
  {
   "cell_type": "code",
   "execution_count": null,
   "metadata": {},
   "outputs": [],
   "source": []
  }
 ],
 "metadata": {
  "kernelspec": {
   "display_name": "Python 3",
   "language": "python",
   "name": "python3"
  },
  "language_info": {
   "codemirror_mode": {
    "name": "ipython",
    "version": 3
   },
   "file_extension": ".py",
   "mimetype": "text/x-python",
   "name": "python",
   "nbconvert_exporter": "python",
   "pygments_lexer": "ipython3",
   "version": "3.11.5"
  },
  "orig_nbformat": 4
 },
 "nbformat": 4,
 "nbformat_minor": 2
}

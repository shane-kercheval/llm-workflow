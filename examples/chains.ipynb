{
 "cells": [
  {
   "attachments": {},
   "cell_type": "markdown",
   "metadata": {},
   "source": [
    "This notebook is ran in a docker container where the project directory (i.e. same directory as README.md) is located in `/code`, which is set below. If you run locally you'll need to set the path of your project directory accordingly."
   ]
  },
  {
   "cell_type": "code",
   "execution_count": 1,
   "metadata": {},
   "outputs": [
    {
     "name": "stdout",
     "output_type": "stream",
     "text": [
      "/code\n"
     ]
    }
   ],
   "source": [
    "%cd /code"
   ]
  },
  {
   "attachments": {},
   "cell_type": "markdown",
   "metadata": {},
   "source": [
    "---"
   ]
  },
  {
   "attachments": {},
   "cell_type": "markdown",
   "metadata": {},
   "source": [
    "The `load_dotenv` function below loads all the variables found in the `.env` file as environment variables. You must have a `.env` file located in the project directory containing your OpenAI API key, in the following format.\n",
    "\n",
    "```\n",
    "OPENAI_API_KEY=sk-...\n",
    "```"
   ]
  },
  {
   "cell_type": "code",
   "execution_count": 5,
   "metadata": {},
   "outputs": [
    {
     "data": {
      "text/plain": [
       "True"
      ]
     },
     "execution_count": 5,
     "metadata": {},
     "output_type": "execute_result"
    }
   ],
   "source": [
    "from dotenv import load_dotenv\n",
    "from notebook_helpers import usage_string, mprint\n",
    "\n",
    "load_dotenv()"
   ]
  },
  {
   "attachments": {},
   "cell_type": "markdown",
   "metadata": {},
   "source": [
    "---"
   ]
  },
  {
   "attachments": {},
   "cell_type": "markdown",
   "metadata": {},
   "source": [
    "# Chains"
   ]
  },
  {
   "attachments": {},
   "cell_type": "markdown",
   "metadata": {},
   "source": [
    "A `chain` is an object that executes a sequence of tasks called `links`. Each task in the chain is a callable, which can be either a function or an object that implements the `__call__` method. **The output of one task serves as the input to the next task in the chain. So a `Chain` is a simple mechanism that takes an input and sends the input to the first link, and the propegates the output of the first task to the second link, and so on, until the end of the chain is reached, and returns the final result.** \n",
    "\n",
    "Furthermore, a chain aggregates the history (prompts/responses, token usage, costs, etc.) across all links. More specifically, it aggregates all of the `Record` objects across any task that has a `history` property (which returns a list of Record objects; a Record object contains the metadata of an event such as costs, tokens used, prompt, response, etc.). This functionality allows the chain to contain convenient properties that aggregate the costs and usage across all links of the chain, and can also be used to explore intermediate steps and events in the chain."
   ]
  },
  {
   "attachments": {},
   "cell_type": "markdown",
   "metadata": {},
   "source": [
    "---"
   ]
  },
  {
   "attachments": {},
   "cell_type": "markdown",
   "metadata": {},
   "source": [
    "## Example - Using a model as a prompt enhancer\n",
    "\n",
    "Here's an example of a simple \"prompt enhancer\", where the first model enhances the user's prompt and the second model provides a response based on the enhanced prompt.\n",
    "\n",
    "- first link: defines a prompt-template that takes the user's prompt, and creates a new prompt asking a chat model to improve the prompt (within the context of creating python code)\n",
    "- second link: the `prompt_enhancer` model takes the modified prompt and improves the prompt\n",
    "- third link: the `chat_assistant` model takes the response from the last model (which is an improved prompt) and returns the request\n",
    "- fourth link: ignores the response from the chat model; creates a new prompt asking the chat model to extract the relevant code created in the previous response\n",
    "- fifth link: the chat model, which internally maintains the history of messages, returns only the relevant code from the previous response."
   ]
  },
  {
   "cell_type": "code",
   "execution_count": 13,
   "metadata": {},
   "outputs": [
    {
     "name": "stdout",
     "output_type": "stream",
     "text": [
      "```python\n",
      "import re\n",
      "\n",
      "def mask_email_addresses(string):\n",
      "    \"\"\"\n",
      "    Mask email addresses within a given string.\n",
      "\n",
      "    Args:\n",
      "        string (str): The input string to be processed.\n",
      "\n",
      "    Returns:\n",
      "        str: The modified string with masked email addresses.\n",
      "\n",
      "    Raises:\n",
      "        ValueError: If the input is not a string.\n",
      "\n",
      "    Dependencies:\n",
      "        The function requires the 're' module to use regular expressions.\n",
      "    \"\"\"\n",
      "    if not isinstance(string, str):\n",
      "        raise ValueError(\"Input must be a string\")\n",
      "\n",
      "    pattern = r'\\b[A-Za-z0-9._%+-]+@[A-Za-z0-9.-]+\\.[A-Za-z]{2,}\\b'\n",
      "    masked_string = re.sub(pattern, '[email protected]', string)\n",
      "\n",
      "    return masked_string\n",
      "```\n"
     ]
    }
   ],
   "source": [
    "from llm_workflow.base import Chain\n",
    "from llm_workflow.models import OpenAIChat\n",
    "\n",
    "prompt_enhancer = OpenAIChat(model_name='gpt-3.5-turbo')\n",
    "# different model/object, therefore different message history (i.e. conversation)\n",
    "chat_assistant = OpenAIChat(model_name='gpt-3.5-turbo')\n",
    "\n",
    "def prompt_template(user_prompt: str) -> str:\n",
    "    return \"Improve the user's request, below, by expanding the request \" \\\n",
    "        \"to describe the relevant python best practices and documentation \" \\\n",
    "        f\"requirements that should be followed:\\n\\n```{user_prompt}```\"\n",
    "\n",
    "def prompt_extract_code(_) -> str:\n",
    "    # `_` signals that we are ignoring the input (from the previous link)\n",
    "    return \"Return only the primary code of interest from the previous answer, \"\\\n",
    "        \"including docstrings, but without any text/response.\"\n",
    "\n",
    "# The only requirement for the list of links is that each item/link is a\n",
    "# callable where the output of one task matches the input of the next link.\n",
    "# The input to the chain is passed to the first link;\n",
    "# the output of the last task is returned by the chain.\n",
    "chain = Chain(links=[\n",
    "    prompt_template,      # modifies the user's prompt\n",
    "    prompt_enhancer,      # returns an improved version of the user's prompt\n",
    "    chat_assistant,       # returns the chat response based on the improved prompt\n",
    "    prompt_extract_code,  # prompt to ask the model to extract only the relevant code\n",
    "    chat_assistant,       # returns only the function from the model's last response\n",
    "])\n",
    "prompt = \"create a function to mask all emails from a string value\"\n",
    "response = chain(prompt)\n",
    "print(response)"
   ]
  },
  {
   "cell_type": "code",
   "execution_count": 14,
   "metadata": {},
   "outputs": [
    {
     "name": "stdout",
     "output_type": "stream",
     "text": [
      "Cost:            $0.0034\n",
      "Total Tokens:     1,961\n",
      "Prompt Tokens:    1,104\n",
      "Response Tokens:  857\n"
     ]
    }
   ],
   "source": [
    "print(f\"Cost:            ${chain.cost:.4f}\")\n",
    "print(f\"Total Tokens:     {chain.total_tokens:,}\")\n",
    "print(f\"Prompt Tokens:    {chain.prompt_tokens:,}\")\n",
    "print(f\"Response Tokens:  {chain.response_tokens:,}\")"
   ]
  },
  {
   "attachments": {},
   "cell_type": "markdown",
   "metadata": {},
   "source": [
    "We can view the history of the chain (i.e. the aggregated history across all links) with the `chain.history()` property. \n",
    "\n",
    "In this example, the only class that tracks history is `OpenAIChat`. Therefore, both the `prompt_enhancer` and `chat_assistant` objects will contain history. `chain.history()` will return a list of three `ExchangeRecord` objects. The first record corresponds to our request to the `prompt_enhancer`, and the second two records correspond to our `chat_assistant` requests. An ExchangeRecord represents a single exchange/transaction with an LLM, encompassing an input (`prompt`) and its corresponding output (`response`), along with other properties like `cost` and `token_tokens`."
   ]
  },
  {
   "cell_type": "code",
   "execution_count": 15,
   "metadata": {},
   "outputs": [
    {
     "data": {
      "text/plain": [
       "[llm_workflow.base.ExchangeRecord,\n",
       " llm_workflow.base.ExchangeRecord,\n",
       " llm_workflow.base.ExchangeRecord]"
      ]
     },
     "execution_count": 15,
     "metadata": {},
     "output_type": "execute_result"
    }
   ],
   "source": [
    "[type(x) for x in chain.history()]"
   ]
  },
  {
   "attachments": {},
   "cell_type": "markdown",
   "metadata": {},
   "source": [
    "We can view the response we received from the `prompt_enhancer` model by looking at the first record's `response` property (or the second record's `prompt` property since the chain passes the output of `prompt_enhancer` as the input to the `chat_assistant`):"
   ]
  },
  {
   "cell_type": "code",
   "execution_count": 20,
   "metadata": {},
   "outputs": [
    {
     "data": {
      "text/markdown": [
       "Create a Python function that adheres to best practices and follows proper documentation guidelines to mask all email addresses within a given string value. The function should take a string as input and return the modified string with masked email addresses.\n",
       "\n",
       "To ensure code readability and maintainability, follow these best practices:\n",
       "\n",
       "1. Use meaningful function and variable names that accurately describe their purpose.\n",
       "2. Break down the problem into smaller, reusable functions if necessary.\n",
       "3. Write clear and concise code with proper indentation and comments.\n",
       "4. Handle exceptions and errors gracefully by using try-except blocks.\n",
       "5. Use regular expressions to identify and mask email addresses within the string.\n",
       "6. Avoid using global variables and prefer passing arguments to functions.\n",
       "7. Write unit tests to verify the correctness of the function.\n",
       "\n",
       "In terms of documentation, follow these guidelines:\n",
       "\n",
       "1. Provide a clear and concise function description, including its purpose and expected behavior.\n",
       "2. Specify the input parameters and their types, along with any default values.\n",
       "3. Document the return value and its type.\n",
       "4. Mention any exceptions that the function may raise and how to handle them.\n",
       "5. Include examples of how to use the function with different inputs and expected outputs.\n",
       "6. Document any dependencies or external libraries required for the function to work.\n",
       "\n",
       "By following these best practices and documentation guidelines, you will create a well-structured and maintainable Python function to mask email addresses within a string value."
      ],
      "text/plain": [
       "<IPython.core.display.Markdown object>"
      ]
     },
     "metadata": {},
     "output_type": "display_data"
    }
   ],
   "source": [
    "mprint(chain.history()[0].response)"
   ]
  },
  {
   "attachments": {},
   "cell_type": "markdown",
   "metadata": {},
   "source": [
    "We could also view the original response from the `chat_assistant` model:"
   ]
  },
  {
   "cell_type": "code",
   "execution_count": 21,
   "metadata": {},
   "outputs": [
    {
     "data": {
      "text/markdown": [
       "Sure! Here's an example of a Python function that adheres to best practices and follows proper documentation guidelines to mask email addresses within a given string value:\n",
       "\n",
       "```python\n",
       "import re\n",
       "\n",
       "def mask_email_addresses(string):\n",
       "    \"\"\"\n",
       "    Mask email addresses within a given string.\n",
       "\n",
       "    Args:\n",
       "        string (str): The input string to be processed.\n",
       "\n",
       "    Returns:\n",
       "        str: The modified string with masked email addresses.\n",
       "\n",
       "    Raises:\n",
       "        ValueError: If the input is not a string.\n",
       "\n",
       "    Examples:\n",
       "        >>> mask_email_addresses(\"Contact us at john.doe@example.com\")\n",
       "        'Contact us at [email protected]'\n",
       "\n",
       "        >>> mask_email_addresses(\"Email me at john.doe@example.com or jane.doe@example.com\")\n",
       "        'Email me at [email protected] or [email protected]'\n",
       "\n",
       "        >>> mask_email_addresses(\"No email addresses here\")\n",
       "        'No email addresses here'\n",
       "\n",
       "    Dependencies:\n",
       "        The function requires the 're' module to use regular expressions.\n",
       "    \"\"\"\n",
       "    if not isinstance(string, str):\n",
       "        raise ValueError(\"Input must be a string\")\n",
       "\n",
       "    # Regular expression pattern to match email addresses\n",
       "    pattern = r'\\b[A-Za-z0-9._%+-]+@[A-Za-z0-9.-]+\\.[A-Za-z]{2,}\\b'\n",
       "\n",
       "    # Replace email addresses with masked version\n",
       "    masked_string = re.sub(pattern, '[email protected]', string)\n",
       "\n",
       "    return masked_string\n",
       "```\n",
       "\n",
       "In this example, the `mask_email_addresses` function takes a string as input and returns the modified string with masked email addresses. It uses the `re` module to match email addresses using a regular expression pattern. The function raises a `ValueError` if the input is not a string.\n",
       "\n",
       "The function is properly documented with a clear and concise description, input parameters with their types, return value and its type, exceptions that may be raised, examples of usage, and any dependencies required.\n",
       "\n",
       "To use this function, you can call it with a string as an argument and it will return the modified string with masked email addresses."
      ],
      "text/plain": [
       "<IPython.core.display.Markdown object>"
      ]
     },
     "metadata": {},
     "output_type": "display_data"
    }
   ],
   "source": [
    "mprint(chain.history()[1].response)"
   ]
  },
  {
   "attachments": {},
   "cell_type": "markdown",
   "metadata": {},
   "source": [
    " The final response returned by the `chat_assistant` (and by the `chain` object) returns only the `mask_email_addresses` function. The `response` object should match the `response` value in the last record (`chain.history()[-1].response`)."
   ]
  },
  {
   "cell_type": "code",
   "execution_count": 18,
   "metadata": {},
   "outputs": [],
   "source": [
    "assert response == chain.history()[-1].response"
   ]
  },
  {
   "attachments": {},
   "cell_type": "markdown",
   "metadata": {},
   "source": [
    "---"
   ]
  },
  {
   "attachments": {},
   "cell_type": "markdown",
   "metadata": {},
   "source": [
    "## Example -- Using the results of a web-search in a chat message."
   ]
  },
  {
   "attachments": {},
   "cell_type": "markdown",
   "metadata": {},
   "source": [
    "In the following example, we will ask a chat model a question, and provide the model with additional context based on the most relevant text we find in a web-search. For the sake of the example, we will ask the chat model to the answer it provides and summarize that answer.  The workflow is defined as follows:\n",
    "\n",
    "\n",
    "|   input   |  output  |   link/task   |\n",
    "|-----------|----------|----------|\n",
    "|  `None` |   str    |  Ask a question: e.g. `\"What is the meaning of life?\"`  |\n",
    "|    str    |   urls   |  Do a web-search via `DuckDuckGo` based on the question.  |\n",
    "|   urls    | Documents|  Take the urls, scrape the corresponding web-pages, and convert to a list of `Document` objects  |\n",
    "| Documents | Documents|  Split the `Document` objects into smaller chunks (also `Document` objects)  |\n",
    "| Documents | `None` |  Store the Documents in a `Chroma` document index so that we can lookup the most relevant documents |\n",
    "| `None`  |   str    |  Return the original question `What is the meaning of life?` |\n",
    "|    str    |   str    |  Take the original question, lookup the most relevant documents, and construct the corresponding prompt with the documents injected into the prompt. |\n",
    "|    str    |   str    |  Pass the prompt to the chat model; receive a response |\n",
    "|    str    |   str    |  Construct a new prompt, containing the response and a request to summarize the response. |\n",
    "|    str    |   str    |  Pass the new prompt to the chat model; receive a response |\n",
    "\n",
    "**Notice how the output of one task matches the input of the next link. This means you could swap out any of the objects we use below with your own custom function or class and the only requirement is that the input/output matches for that particular link.**\n",
    "\n"
   ]
  },
  {
   "attachments": {},
   "cell_type": "markdown",
   "metadata": {},
   "source": [
    "### Initial objects in chain\n",
    "\n",
    "Let's define the objects and functions we are going to include in the chain. We're including many links/tasks so that we can see how flexible our chain can be.\n",
    "\n",
    "See the [tools.ipynb](https://github.com/shane-kercheval/llm-chain/tree/main/examples/tools.ipynb) notebook for examples of how the various helper classes below (e.g. `DuckDuckGoSearch`, `scrape_url`, etc.) are used."
   ]
  },
  {
   "attachments": {},
   "cell_type": "markdown",
   "metadata": {},
   "source": [
    "#### Quick note on the `Value` object.\n",
    "\n",
    "The only bit of magic below is that we're using a `Value` object to cache the initial question, feed it into the web-search, and then inject it back into the chain at a later point (passing it to the prompt-template). A `Value` object is a callable that, when called with a value caches and returns the same value, and when called without a value, simply returns the previously cached value. When you understand what it's doing, it's not magic at all. Here's a simple example:"
   ]
  },
  {
   "cell_type": "code",
   "execution_count": 9,
   "metadata": {},
   "outputs": [
    {
     "name": "stdout",
     "output_type": "stream",
     "text": [
      "This is a value\n",
      "This is a value\n",
      "new value\n",
      "new value\n"
     ]
    }
   ],
   "source": [
    "from llm_workflow.base import Value\n",
    "cache = Value()\n",
    "result = cache(\"This is a value\")  # calling the object with a value caches and returns the value\n",
    "print(result)  # the value in `result` is whatever was passed in to the Value object\n",
    "print(cache())  # calling the object without a parameter returns the cached value\n",
    "result = cache(\"new value\")\n",
    "print(result)\n",
    "print(cache())"
   ]
  },
  {
   "cell_type": "code",
   "execution_count": 10,
   "metadata": {},
   "outputs": [],
   "source": [
    "import re\n",
    "from llm_workflow.base import Document, Chain, Value\n",
    "from llm_workflow.models import OpenAIEmbedding, OpenAIChat\n",
    "from llm_workflow.tools import DuckDuckGoSearch, scrape_url, split_documents\n",
    "from llm_workflow.indexes import ChromaDocumentIndex\n",
    "from llm_workflow.prompt_templates import DocSearchTemplate\n",
    "\n",
    "# Seach DuckDuckGo based on initial question (passed into the chain)\n",
    "duckduckgo_search = DuckDuckGoSearch(top_n=3)\n",
    "\n",
    "# define a function that takes the links from the web-search, scrapes the web-pages,\n",
    "# and then creates Document objects from the text of each web-page\n",
    "def scrape_urls(search_results):\n",
    "    \"\"\"\n",
    "    For each url (i.e. `href` in `search_results`):\n",
    "    - extracts text\n",
    "    - replace new-lines with spaces\n",
    "    - create a Document object\n",
    "    \"\"\"\n",
    "    return [\n",
    "        Document(content=re.sub(r'\\s+', ' ', scrape_url(x['href'])))\n",
    "        for x in search_results\n",
    "    ]\n",
    "\n",
    "# Embeddings model used for document index/search (the documents created from the web-search)\n",
    "embeddings_model = OpenAIEmbedding(model_name='text-embedding-ada-002')\n",
    "document_index = ChromaDocumentIndex(embeddings_model=embeddings_model, n_results=3)\n",
    "# DocSearchTemplate uses the ChromaDocumentIndex object to search for the most relevant documents\n",
    "# (from the web-search) based on the intitial question (which it takes as an input)\n",
    "prompt_template = DocSearchTemplate(doc_index=document_index, n_docs=3)\n",
    "# Create a chat model without streaming.\n",
    "non_streaming_chat = OpenAIChat(model_name='gpt-3.5-turbo')\n",
    "# Create a chat model with streaming enabled via callback.\n",
    "streaming_chat = OpenAIChat(\n",
    "    model_name='gpt-3.5-turbo',\n",
    "    streaming_callback=lambda x: print(x.response, end='|'),\n",
    ")\n",
    "\n",
    "# A `Value` object is a simple caching mechanism. It's a callable that, when passed a value, it\n",
    "# caches and returns that value; and when called without a value, it returns the cached value.\n",
    "# Below, it's being used to cache the original question, feed the question into the web-search\n",
    "# (`DuckDuckGoSearch`), and then re-inject the question back in the chain and into the\n",
    "# prompt-template (`DocSearchTemplate`).\n",
    "question = Value()\n",
    "# This simple function takes the response from the original chat model and creates a prompt that\n",
    "# asks the model to summarize the response.\n",
    "question_2 = lambda x: f'Summarize the following in less than 20 words: \"{x}\"'"
   ]
  },
  {
   "attachments": {},
   "cell_type": "markdown",
   "metadata": {},
   "source": [
    "### Defining and Running the Chain"
   ]
  },
  {
   "cell_type": "code",
   "execution_count": 11,
   "metadata": {},
   "outputs": [
    {
     "name": "stdout",
     "output_type": "stream",
     "text": [
      "Lang|Chain| is| a| platform| with| tools| and| APIs| for| creating| applications| using| Language| Models| (|LL|Ms|).|"
     ]
    }
   ],
   "source": [
    "# each task is a callable where the output of one task is the input to the next\n",
    "chain = Chain(links=[\n",
    "    question,\n",
    "    duckduckgo_search,\n",
    "    scrape_urls,\n",
    "    split_documents,  # split web-pages into smaller chunks; defaults to chunk-size of 500\n",
    "    document_index,  # __call__ function calls add() if given a list of documents (which is returned by `split_documents`)\n",
    "    question,\n",
    "    prompt_template,\n",
    "    non_streaming_chat,\n",
    "    question_2,\n",
    "    streaming_chat,\n",
    "])\n",
    "# the value passed into `chain()` is passed to the `initial_question` object (which\n",
    "# is `Value` object and so it caches the value passed in and also returns it) which then gets\n",
    "# passed to the `duckduckgo_search` object, and so on.\n",
    "# the response of the final model is streamed, because our chat model has the streaming_callback\n",
    "# set, but it should also match the response returned\n",
    "response = chain(\"What is langchain?\")"
   ]
  },
  {
   "cell_type": "code",
   "execution_count": 12,
   "metadata": {},
   "outputs": [
    {
     "data": {
      "text/markdown": [
       "> LangChain is a platform with tools and APIs for creating applications using Language Models (LLMs)."
      ],
      "text/plain": [
       "<IPython.core.display.Markdown object>"
      ]
     },
     "metadata": {},
     "output_type": "display_data"
    }
   ],
   "source": [
    "mprint(\"> \" + response)"
   ]
  },
  {
   "attachments": {},
   "cell_type": "markdown",
   "metadata": {},
   "source": [
    "---"
   ]
  },
  {
   "attachments": {},
   "cell_type": "markdown",
   "metadata": {},
   "source": [
    "### Total costs and usage\n",
    "\n",
    "The `Chain` object aggregates the costs/usage across all links that have a `history` property where that `history` property returns `UsageRecord` objects. In other words, any task that tracks its own history automatically gets counted towards the total usage within the Chain."
   ]
  },
  {
   "cell_type": "code",
   "execution_count": 13,
   "metadata": {},
   "outputs": [
    {
     "name": "stdout",
     "output_type": "stream",
     "text": [
      "Cost:              $0.00182\n",
      "Total Tokens:       11,975\n",
      "Prompt Tokens:      391\n",
      "Response Tokens:    40\n",
      "Embedding Tokens:   11,544\n",
      "\n"
     ]
    }
   ],
   "source": [
    "# usage_string simply uses the properties in chain (chain.cost, chain.total_tokens, etc.)\n",
    "# to create a formatted string\n",
    "print(usage_string(chain))"
   ]
  },
  {
   "cell_type": "code",
   "execution_count": 14,
   "metadata": {},
   "outputs": [
    {
     "data": {
      "text/plain": [
       "11544"
      ]
     },
     "execution_count": 14,
     "metadata": {},
     "output_type": "execute_result"
    }
   ],
   "source": [
    "chain.embedding_tokens"
   ]
  },
  {
   "attachments": {},
   "cell_type": "markdown",
   "metadata": {},
   "source": [
    "### History\n",
    "\n",
    "Similar to tracking the costs/usage, we can dig into the history at a more granular level.\n",
    "\n",
    "As you can see below, the `history` property returns a list containing:\n",
    "\n",
    "- a `SearchRecord` object capturing our original search query and results\n",
    "- two `EmbeddingsRecord` records; the first corresponds to getting the embeddings of all of the chunks from the web-pages; the second corresponds to getting the embedding of our original question so that we can find the most relevant chunks; the `EmbeddingsRecord` is a `UsageRecord` so it contains costs/usage\n",
    "- two `MessageRecord` records; the first corresponds to the first question (prompt & response) we made to the chat model; the second corresponds to our second query to the chat model asking it to summarize the first response; the `MessageRecord` is a `UsageRecord` so it contains costs/usage"
   ]
  },
  {
   "cell_type": "code",
   "execution_count": 15,
   "metadata": {},
   "outputs": [
    {
     "data": {
      "text/plain": [
       "[llm_workflow.tools.SearchRecord,\n",
       " llm_workflow.base.EmbeddingRecord,\n",
       " llm_workflow.base.EmbeddingRecord,\n",
       " llm_workflow.base.ExchangeRecord,\n",
       " llm_workflow.base.ExchangeRecord]"
      ]
     },
     "execution_count": 15,
     "metadata": {},
     "output_type": "execute_result"
    }
   ],
   "source": [
    "[type(x) for x in chain.history()]"
   ]
  },
  {
   "cell_type": "code",
   "execution_count": 16,
   "metadata": {},
   "outputs": [
    {
     "name": "stdout",
     "output_type": "stream",
     "text": [
      "timestamp: 2023-07-07 00:43:32.185; prompt: \"Answer the question at the end of the text as trut...\"; response: \"LangChain is a platform that provides tools and AP...\";  cost: $0.000552; total_tokens: 361; prompt_tokens: 340; response_tokens: 21; uuid: dd21d99d-5e92-45c5-a187-43d7502f0336\n"
     ]
    },
    {
     "data": {
      "text/markdown": [
       "---"
      ],
      "text/plain": [
       "<IPython.core.display.Markdown object>"
      ]
     },
     "metadata": {},
     "output_type": "display_data"
    },
    {
     "name": "stdout",
     "output_type": "stream",
     "text": [
      "timestamp: 2023-07-07 00:43:33.126; prompt: \"Summarize the following in less than 20 words: \"La...\"; response: \"LangChain is a platform with tools and APIs for cr...\";  cost: $0.000114; total_tokens: 70; prompt_tokens: 51; response_tokens: 19; uuid: 27e691f8-ffcc-4894-8750-0d381e6e9547\n"
     ]
    }
   ],
   "source": [
    "print(chain.history()[3])\n",
    "mprint('---')\n",
    "print(chain.history()[4])"
   ]
  },
  {
   "attachments": {},
   "cell_type": "markdown",
   "metadata": {},
   "source": [
    "#### `exchange_history`\n",
    "\n",
    "We can use the `exchange_history` property which simply returns all of the history items that are of type `ExchangeRecord`"
   ]
  },
  {
   "cell_type": "code",
   "execution_count": 17,
   "metadata": {},
   "outputs": [
    {
     "data": {
      "text/plain": [
       "2"
      ]
     },
     "execution_count": 17,
     "metadata": {},
     "output_type": "execute_result"
    }
   ],
   "source": [
    "len(chain.exchange_history)"
   ]
  },
  {
   "cell_type": "code",
   "execution_count": 18,
   "metadata": {},
   "outputs": [
    {
     "name": "stdout",
     "output_type": "stream",
     "text": [
      "timestamp: 2023-07-07 00:43:32.185; prompt: \"Answer the question at the end of the text as trut...\"; response: \"LangChain is a platform that provides tools and AP...\";  cost: $0.000552; total_tokens: 361; prompt_tokens: 340; response_tokens: 21; uuid: dd21d99d-5e92-45c5-a187-43d7502f0336\n"
     ]
    },
    {
     "data": {
      "text/markdown": [
       "---"
      ],
      "text/plain": [
       "<IPython.core.display.Markdown object>"
      ]
     },
     "metadata": {},
     "output_type": "display_data"
    },
    {
     "name": "stdout",
     "output_type": "stream",
     "text": [
      "timestamp: 2023-07-07 00:43:33.126; prompt: \"Summarize the following in less than 20 words: \"La...\"; response: \"LangChain is a platform with tools and APIs for cr...\";  cost: $0.000114; total_tokens: 70; prompt_tokens: 51; response_tokens: 19; uuid: 27e691f8-ffcc-4894-8750-0d381e6e9547\n"
     ]
    }
   ],
   "source": [
    "print(chain.exchange_history[0])  # same as chain.history()[3]\n",
    "mprint('---')\n",
    "print(chain.exchange_history[1])  # same as chain.history()[4]"
   ]
  },
  {
   "attachments": {},
   "cell_type": "markdown",
   "metadata": {},
   "source": [
    "#### First prompt to the chat model\n",
    "\n",
    "You can see below that we used three chunks from our original web-search in the first prompt we sent to ChatGPT."
   ]
  },
  {
   "cell_type": "code",
   "execution_count": 19,
   "metadata": {},
   "outputs": [
    {
     "data": {
      "text/markdown": [
       "\n",
       "Answer the question at the end of the text as truthfully and accurately as possible, based on the following information provided.\n",
       "\n",
       "Here is the information:\n",
       "\n",
       "```\n",
       "credentials. By incorporating LLMs through LangChain, developers can create applications that provide more natural and context-aware interactions with users, resulting in enhanced user experiences and improved engagement. Frequently Asked Questions Q1. What is LangChain? A1. LangChain is a platform that provides tools and APIs for building applications powered by Language Models (LLMs). It simplifies the integration of LLMs into your projects, enabling you to leverage advanced language\n",
       "\n",
       "With LangChain you can seamlessly integrate LLMs into your projects, harnessing their extraordinary capabilities. Let’s embark on an exhilarating journey, exploring the captivating features and boundless possibilities that LangChain unveils. LangChain is an advanced platform that provides developers with a seamless and intuitive interface to leverage the power of LLM in their applications. It offers a range of APIs and tools that simplify the integration of LLM into your projects, enabling you\n",
       "\n",
       "power for various text generation and understanding tasks. What can be done with Langchain? LangChain, with its diverse set of features, offers developers a wide range of possibilities to explore and leverage in their applications. Let’s dive into the key components of LangChain—models, prompts, chains, indexes, and memory and discover what can be accomplished with each. Models Numerous new LLMs are currently emerging. LangChain provides a streamlined interface and integrations for various\n",
       "```\n",
       "\n",
       "Here is the question:\n",
       "\n",
       "```\n",
       "What is langchain?\n",
       "```\n"
      ],
      "text/plain": [
       "<IPython.core.display.Markdown object>"
      ]
     },
     "metadata": {},
     "output_type": "display_data"
    }
   ],
   "source": [
    "mprint(chain.exchange_history[0].prompt)"
   ]
  },
  {
   "attachments": {},
   "cell_type": "markdown",
   "metadata": {},
   "source": [
    "#### First response from the chat model"
   ]
  },
  {
   "cell_type": "code",
   "execution_count": 20,
   "metadata": {},
   "outputs": [
    {
     "data": {
      "text/markdown": [
       "> LangChain is a platform that provides tools and APIs for building applications powered by Language Models (LLMs)."
      ],
      "text/plain": [
       "<IPython.core.display.Markdown object>"
      ]
     },
     "metadata": {},
     "output_type": "display_data"
    }
   ],
   "source": [
    "mprint(\"> \" + chain.exchange_history[0].response)"
   ]
  },
  {
   "attachments": {},
   "cell_type": "markdown",
   "metadata": {},
   "source": [
    "#### Second prompt to the chat model"
   ]
  },
  {
   "cell_type": "code",
   "execution_count": 21,
   "metadata": {},
   "outputs": [
    {
     "data": {
      "text/markdown": [
       "Summarize the following in less than 20 words: \"LangChain is a platform that provides tools and APIs for building applications powered by Language Models (LLMs).\""
      ],
      "text/plain": [
       "<IPython.core.display.Markdown object>"
      ]
     },
     "metadata": {},
     "output_type": "display_data"
    }
   ],
   "source": [
    "mprint(chain.exchange_history[1].prompt)"
   ]
  },
  {
   "attachments": {},
   "cell_type": "markdown",
   "metadata": {},
   "source": [
    "#### Second response from the chat model"
   ]
  },
  {
   "cell_type": "code",
   "execution_count": 22,
   "metadata": {},
   "outputs": [
    {
     "data": {
      "text/markdown": [
       "> LangChain is a platform with tools and APIs for creating applications using Language Models (LLMs)."
      ],
      "text/plain": [
       "<IPython.core.display.Markdown object>"
      ]
     },
     "metadata": {},
     "output_type": "display_data"
    }
   ],
   "source": [
    "mprint(\"> \" + chain.exchange_history[1].response)"
   ]
  },
  {
   "attachments": {},
   "cell_type": "markdown",
   "metadata": {},
   "source": [
    "---"
   ]
  }
 ],
 "metadata": {
  "kernelspec": {
   "display_name": "Python 3",
   "language": "python",
   "name": "python3"
  },
  "language_info": {
   "codemirror_mode": {
    "name": "ipython",
    "version": 3
   },
   "file_extension": ".py",
   "mimetype": "text/x-python",
   "name": "python",
   "nbconvert_exporter": "python",
   "pygments_lexer": "ipython3",
   "version": "3.11.4"
  },
  "orig_nbformat": 4
 },
 "nbformat": 4,
 "nbformat_minor": 2
}

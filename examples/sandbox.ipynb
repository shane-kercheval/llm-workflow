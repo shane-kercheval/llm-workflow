{
 "cells": [
  {
   "cell_type": "code",
   "execution_count": null,
   "metadata": {},
   "outputs": [],
   "source": [
    "from dotenv import load_dotenv\n",
    "from notebook_helpers import usage_string, mprint\n",
    "\n",
    "load_dotenv()"
   ]
  },
  {
   "cell_type": "code",
   "execution_count": 28,
   "metadata": {},
   "outputs": [],
   "source": [
    "\n",
    "from llm_workflow.openai import OpenAIChat\n",
    "from llm_workflow.base import workflow\n",
    "\n",
    "\n",
    "socrates = OpenAIChat(system_message=\"You are Socrates. Response in three sentences or less\")\n",
    "yoda = OpenAIChat(system_message=\"You are Yoda. Response in three sentences or less\")\n",
    "\n",
    "workflow = workflow(tasks=[\n",
    "    yoda,\n",
    "    socrates,\n",
    "    yoda,\n",
    "    socrates,\n",
    "])\n",
    "response = workflow(\"Tell me something wise.\")"
   ]
  },
  {
   "attachments": {},
   "cell_type": "markdown",
   "metadata": {},
   "source": []
  },
  {
   "cell_type": "code",
   "execution_count": 29,
   "metadata": {},
   "outputs": [
    {
     "name": "stdout",
     "output_type": "stream",
     "text": [
      "Cost:              $0.0008\n",
      "Total Tokens:       481\n",
      "Prompt Tokens:      315\n",
      "Response Tokens:    166\n"
     ]
    }
   ],
   "source": [
    "print(f\"Cost:              ${workflow.sum('cost'):.4f}\")\n",
    "print(f\"Total Tokens:       {workflow.sum('total_tokens'):,}\")\n",
    "print(f\"Prompt Tokens:      {workflow.sum('input_tokens'):,}\")\n",
    "print(f\"Response Tokens:    {workflow.sum('response_tokens'):,}\")"
   ]
  },
  {
   "cell_type": "code",
   "execution_count": 30,
   "metadata": {},
   "outputs": [
    {
     "name": "stdout",
     "output_type": "stream",
     "text": [
      "In stillness, wisdom resides. Seek not answers outside, but within. Trust the Force, you must.\n",
      "\n",
      "------\n",
      "\n",
      "\n",
      "Indeed, true wisdom is found in the depths of one's own introspection. The answers we seek lie within us, waiting to be discovered through self-reflection and contemplation. Trusting in our own inner guidance is essential on the path to enlightenment.\n",
      "\n",
      "------\n",
      "\n",
      "\n",
      "Wise words, you speak. Trust in yourself, you must. The answers, within you, they lie. Seek, reflect, and find, you will.\n",
      "\n",
      "------\n",
      "\n",
      "\n",
      "Thank you for your kind words. Indeed, the journey of self-discovery and seeking answers lies within each of us. By trusting in ourselves and engaging in deep reflection, we can uncover the wisdom and truth that resides within. May you find the answers you seek on your path of self-discovery.\n",
      "\n",
      "------\n",
      "\n",
      "\n"
     ]
    },
    {
     "data": {
      "text/plain": [
       "[None, None, None, None]"
      ]
     },
     "execution_count": 30,
     "metadata": {},
     "output_type": "execute_result"
    }
   ],
   "source": [
    "[print(x.response + \"\\n\\n------\\n\\n\") for x in workflow.history()]"
   ]
  },
  {
   "cell_type": "code",
   "execution_count": null,
   "metadata": {},
   "outputs": [],
   "source": []
  },
  {
   "cell_type": "code",
   "execution_count": null,
   "metadata": {},
   "outputs": [],
   "source": []
  },
  {
   "cell_type": "code",
   "execution_count": null,
   "metadata": {},
   "outputs": [],
   "source": []
  },
  {
   "cell_type": "code",
   "execution_count": null,
   "metadata": {},
   "outputs": [],
   "source": []
  },
  {
   "cell_type": "code",
   "execution_count": 34,
   "metadata": {},
   "outputs": [
    {
     "data": {
      "text/plain": [
       "\"Certainly! Here's a Python function that adds two numbers:\\n\\n```python\\ndef add_numbers(num1, num2):\\n    return num1 + num2\\n```\\n\\nYou can call this function by passing in two numbers as arguments, like this:\\n\\n```python\\nresult = add_numbers(5, 3)\\nprint(result)  # Output: 8\\n```\\n\\nIn this example, the function `add_numbers` takes two parameters `num1` and `num2`, and returns their sum using the `+` operator.\""
      ]
     },
     "execution_count": 34,
     "metadata": {},
     "output_type": "execute_result"
    }
   ],
   "source": [
    "from llm_workflow.base import workflow\n",
    "from llm_workflow.openai import OpenAIChat\n",
    "\n",
    "workflow = workflow(tasks=[\n",
    "    lambda prompt: f\"Write a python function based on the description: ```{prompt}```\",\n",
    "    OpenAIChat(model_name='gpt-3.5-turbo-0613'),\n",
    "])\n",
    "workflow(\"add two numbers\")"
   ]
  },
  {
   "cell_type": "code",
   "execution_count": 35,
   "metadata": {},
   "outputs": [
    {
     "name": "stdout",
     "output_type": "stream",
     "text": [
      "Cost:              $0.00026\n",
      "Total Tokens:       139\n",
      "Prompt Tokens:      31\n",
      "Response Tokens:    108\n"
     ]
    }
   ],
   "source": [
    "print(f\"Cost:              ${workflow.sum('cost'):.5f}\")\n",
    "print(f\"Total Tokens:       {workflow.sum('total_tokens'):,}\")\n",
    "print(f\"Prompt Tokens:      {workflow.sum('input_tokens'):,}\")\n",
    "print(f\"Response Tokens:    {workflow.sum('response_tokens'):,}\")"
   ]
  },
  {
   "cell_type": "code",
   "execution_count": null,
   "metadata": {},
   "outputs": [],
   "source": []
  }
 ],
 "metadata": {
  "kernelspec": {
   "display_name": "Python 3",
   "language": "python",
   "name": "python3"
  },
  "language_info": {
   "codemirror_mode": {
    "name": "ipython",
    "version": 3
   },
   "file_extension": ".py",
   "mimetype": "text/x-python",
   "name": "python",
   "nbconvert_exporter": "python",
   "pygments_lexer": "ipython3",
   "version": "3.11.5"
  },
  "orig_nbformat": 4
 },
 "nbformat": 4,
 "nbformat_minor": 2
}

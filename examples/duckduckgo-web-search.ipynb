{
 "cells": [
  {
   "cell_type": "code",
   "execution_count": 1,
   "metadata": {},
   "outputs": [],
   "source": [
    "from pprint import pprint"
   ]
  },
  {
   "attachments": {},
   "cell_type": "markdown",
   "metadata": {},
   "source": [
    "# DuckDuckGo Web-Search\n",
    "\n",
    "The following is an example of using DuckDuckGo to perform a web search."
   ]
  },
  {
   "cell_type": "code",
   "execution_count": 2,
   "metadata": {},
   "outputs": [
    {
     "data": {
      "text/plain": [
       "[{'title': 'Large language model - Wikipedia',\n",
       "  'href': 'https://en.wikipedia.org/wiki/Large_language_model',\n",
       "  'body': 'A large language model (LLM) is a language model characterized by its large size. Its size is enabled by AI accelerators, which are able to process vast amounts of text data, mostly scraped from the Internet. LLMs are artificial neural networks which can contain a billion to a trillion weights, and are (pre-)trained using self-supervised learning and semi-supervised learning.'},\n",
       " {'title': 'What is a Large Language Model? | A Comprehensive LLMs Guide',\n",
       "  'href': 'https://www.elastic.co/what-is/large-language-models',\n",
       "  'body': 'A large language model (LLM) is a deep learning algorithm that can perform a variety of natural language processing (NLP) tasks. Large language models use transformer models and are trained using massive datasets — hence, large. This enables them to recognize, translate, predict, or generate text or other content.'},\n",
       " {'title': 'What is a Large Language Model (LLM) - GeeksforGeeks',\n",
       "  'href': 'https://www.geeksforgeeks.org/large-language-model-llm/',\n",
       "  'body': 'A large language model is a type of artificial intelligence algorithm that applies neural network techniques with lots of parameters to process and understand human languages or text using self-supervised learning techniques.'}]"
      ]
     },
     "execution_count": 2,
     "metadata": {},
     "output_type": "execute_result"
    }
   ],
   "source": [
    "from llm_workflow.utilities import DuckDuckGoSearch\n",
    "\n",
    "duckduckgo_search = DuckDuckGoSearch(top_n=3)\n",
    "duckduckgo_search(\"What is a large language model?\")"
   ]
  },
  {
   "attachments": {},
   "cell_type": "markdown",
   "metadata": {},
   "source": [
    "The `duckduckgo_search` object has a `history` property that allows us to view the searches performed: "
   ]
  },
  {
   "cell_type": "code",
   "execution_count": 3,
   "metadata": {},
   "outputs": [
    {
     "name": "stdout",
     "output_type": "stream",
     "text": [
      "What is a large language model?\n",
      "[{'body': 'A large language model (LLM) is a language model characterized by '\n",
      "          'its large size. Its size is enabled by AI accelerators, which are '\n",
      "          'able to process vast amounts of text data, mostly scraped from the '\n",
      "          'Internet. LLMs are artificial neural networks which can contain a '\n",
      "          'billion to a trillion weights, and are (pre-)trained using '\n",
      "          'self-supervised learning and semi-supervised learning.',\n",
      "  'href': 'https://en.wikipedia.org/wiki/Large_language_model',\n",
      "  'title': 'Large language model - Wikipedia'},\n",
      " {'body': 'A large language model (LLM) is a deep learning algorithm that can '\n",
      "          'perform a variety of natural language processing (NLP) tasks. Large '\n",
      "          'language models use transformer models and are trained using '\n",
      "          'massive datasets — hence, large. This enables them to recognize, '\n",
      "          'translate, predict, or generate text or other content.',\n",
      "  'href': 'https://www.elastic.co/what-is/large-language-models',\n",
      "  'title': 'What is a Large Language Model? | A Comprehensive LLMs Guide'},\n",
      " {'body': 'A large language model is a type of artificial intelligence '\n",
      "          'algorithm that applies neural network techniques with lots of '\n",
      "          'parameters to process and understand human languages or text using '\n",
      "          'self-supervised learning techniques.',\n",
      "  'href': 'https://www.geeksforgeeks.org/large-language-model-llm/',\n",
      "  'title': 'What is a Large Language Model (LLM) - GeeksforGeeks'}]\n"
     ]
    }
   ],
   "source": [
    "print(duckduckgo_search.history()[0].query)\n",
    "pprint(duckduckgo_search.history()[0].results)"
   ]
  }
 ],
 "metadata": {
  "kernelspec": {
   "display_name": "Python 3",
   "language": "python",
   "name": "python3"
  },
  "language_info": {
   "codemirror_mode": {
    "name": "ipython",
    "version": 3
   },
   "file_extension": ".py",
   "mimetype": "text/x-python",
   "name": "python",
   "nbconvert_exporter": "python",
   "pygments_lexer": "ipython3",
   "version": "3.11.5"
  },
  "orig_nbformat": 4
 },
 "nbformat": 4,
 "nbformat_minor": 2
}

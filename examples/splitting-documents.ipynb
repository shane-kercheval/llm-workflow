{
 "cells": [
  {
   "attachments": {},
   "cell_type": "markdown",
   "metadata": {},
   "source": [
    "# Split Documents\n",
    "\n",
    "A `Document` object is a simple class that contains `content` and `metadata` properties.\n",
    "\n",
    "Sometimes we want to split a document up into multiple chunks."
   ]
  },
  {
   "cell_type": "code",
   "execution_count": 1,
   "metadata": {},
   "outputs": [
    {
     "name": "stdout",
     "output_type": "stream",
     "text": [
      "content='Pretend this is a long document that we want to split.' metadata={'id': 'some unique-id'}\n",
      "content='Pretend this is another long document that we want to split.' metadata={'id': 'another unique-id'}\n"
     ]
    }
   ],
   "source": [
    "from llm_workflow.base import Document\n",
    "\n",
    "doc_a = Document(\n",
    "    content=\"Pretend this is a long document that we want to split.\",\n",
    "    metadata={'id': 'some unique-id'},\n",
    ")\n",
    "doc_b = Document(\n",
    "    content=\"Pretend this is another long document that we want to split.\",\n",
    "    metadata={'id': 'another unique-id'},\n",
    ")\n",
    "print(doc_a)\n",
    "print(doc_b)"
   ]
  },
  {
   "cell_type": "code",
   "execution_count": 2,
   "metadata": {},
   "outputs": [
    {
     "data": {
      "text/plain": [
       "[Document(content='Pretend this is a', metadata={'id': 'some unique-id'}),\n",
       " Document(content='long document that', metadata={'id': 'some unique-id'}),\n",
       " Document(content='we want to split.', metadata={'id': 'some unique-id'}),\n",
       " Document(content='Pretend this is', metadata={'id': 'another unique-id'}),\n",
       " Document(content='another long', metadata={'id': 'another unique-id'}),\n",
       " Document(content='document that we', metadata={'id': 'another unique-id'}),\n",
       " Document(content='want to split.', metadata={'id': 'another unique-id'})]"
      ]
     },
     "execution_count": 2,
     "metadata": {},
     "output_type": "execute_result"
    }
   ],
   "source": [
    "from llm_workflow.utilities import split_documents\n",
    "\n",
    "split_documents(docs=[doc_a, doc_b], max_chars=20)"
   ]
  }
 ],
 "metadata": {
  "kernelspec": {
   "display_name": "Python 3",
   "language": "python",
   "name": "python3"
  },
  "language_info": {
   "codemirror_mode": {
    "name": "ipython",
    "version": 3
   },
   "file_extension": ".py",
   "mimetype": "text/x-python",
   "name": "python",
   "nbconvert_exporter": "python",
   "pygments_lexer": "ipython3",
   "version": "3.11.4"
  },
  "orig_nbformat": 4
 },
 "nbformat": 4,
 "nbformat_minor": 2
}

{
 "cells": [
  {
   "cell_type": "code",
   "execution_count": 1,
   "metadata": {},
   "outputs": [
    {
     "name": "stderr",
     "output_type": "stream",
     "text": [
      "/usr/local/lib/python3.11/site-packages/tqdm/auto.py:21: TqdmWarning: IProgress not found. Please update jupyter and ipywidgets. See https://ipywidgets.readthedocs.io/en/stable/user_install.html\n",
      "  from .autonotebook import tqdm as notebook_tqdm\n"
     ]
    }
   ],
   "source": [
    "import os\n",
    "from llm_workflow.hugging_face import HuggingFaceEndpointChat, get_tokenizer, num_tokens\n",
    "from IPython.display import Markdown, display\n",
    "from dotenv import load_dotenv\n",
    "load_dotenv()\n",
    "\n",
    "tokenizer = get_tokenizer('meta-llama/Llama-2-7b-chat-hf')\n",
    "def cal_num_tokens(text: str) -> int:\n",
    "    return num_tokens(text, tokenizer)\n",
    "\n",
    "model = HuggingFaceEndpointChat(\n",
    "    endpoint_url=os.getenv('HUGGING_FACE_ENDPOINT_LLAMA2_7B'),\n",
    "    token_calculator=cal_num_tokens,\n",
    "    streaming_callback=lambda x: print(x.response, end='||', flush=True)\n",
    ")"
   ]
  },
  {
   "cell_type": "code",
   "execution_count": 2,
   "metadata": {},
   "outputs": [
    {
     "name": "stdout",
     "output_type": "stream",
     "text": [
      "Hello Shane! My name is Assistant,|| I'm here to help you with any questions|| or tasks you may have. How can I assist|| you today?||"
     ]
    },
    {
     "data": {
      "text/plain": [
       "\"Hello Shane! My name is Assistant, I'm here to help you with any questions or tasks you may have. How can I assist you today?\""
      ]
     },
     "execution_count": 2,
     "metadata": {},
     "output_type": "execute_result"
    }
   ],
   "source": [
    "model(\"Hi, my name is Shane. What's your name?\")"
   ]
  },
  {
   "cell_type": "code",
   "execution_count": 3,
   "metadata": {},
   "outputs": [
    {
     "data": {
      "text/plain": [
       "91"
      ]
     },
     "execution_count": 3,
     "metadata": {},
     "output_type": "execute_result"
    }
   ],
   "source": [
    "model.total_tokens"
   ]
  },
  {
   "cell_type": "code",
   "execution_count": 4,
   "metadata": {},
   "outputs": [
    {
     "name": "stdout",
     "output_type": "stream",
     "text": [
      "Ah, a great question! Your name is Sh||ane. 😊||"
     ]
    },
    {
     "data": {
      "text/plain": [
       "'Ah, a great question! Your name is Shane. 😊'"
      ]
     },
     "execution_count": 4,
     "metadata": {},
     "output_type": "execute_result"
    }
   ],
   "source": [
    "model(\"What's my name?\")"
   ]
  },
  {
   "cell_type": "markdown",
   "metadata": {},
   "source": [
    "---"
   ]
  },
  {
   "cell_type": "code",
   "execution_count": 5,
   "metadata": {},
   "outputs": [],
   "source": [
    "model = HuggingFaceEndpointChat(\n",
    "    endpoint_url=os.getenv('HUGGING_FACE_ENDPOINT_LLAMA2_7B'),\n",
    "    streaming_callback=lambda x: print(x.response, end='||', flush=True)\n",
    ")"
   ]
  },
  {
   "cell_type": "code",
   "execution_count": 6,
   "metadata": {},
   "outputs": [
    {
     "name": "stdout",
     "output_type": "stream",
     "text": [
      "Of course! Here is a simple Python function to|| sum two numbers:\n",
      "```\n",
      "def sum(||a, b):\n",
      "    return a + b||\n",
      "```\n",
      "Explanation:\n",
      "\n",
      "*|| The function name is `sum`, which is a|| common name for a function that calculates the sum|| of two numbers.\n",
      "* The function takes two|| arguments, `a` and `b`, which|| are the two numbers to be summed.\n",
      "||* The function returns the sum of `a`|| and `b` using the `+` operator||.\n",
      "* The function is defined inside a `||def` block, which is used to define a|| new function.\n",
      "* The `return` statement|| at the end of the function defines the value that|| the function will return when it is called. In|| this case, the function will return the sum of|| `a` and `b`.\n",
      "Example usage||:\n",
      "```\n",
      "a = 3\n",
      "b|| = 5\n",
      "result = sum(a,|| b)\n",
      "print(result) # Output:|| 8\n",
      "```\n",
      "I hope this helps!|| Let me know if you have any questions.||"
     ]
    },
    {
     "data": {
      "text/markdown": [
       "Of course! Here is a simple Python function to sum two numbers:\n",
       "```\n",
       "def sum(a, b):\n",
       "    return a + b\n",
       "```\n",
       "Explanation:\n",
       "\n",
       "* The function name is `sum`, which is a common name for a function that calculates the sum of two numbers.\n",
       "* The function takes two arguments, `a` and `b`, which are the two numbers to be summed.\n",
       "* The function returns the sum of `a` and `b` using the `+` operator.\n",
       "* The function is defined inside a `def` block, which is used to define a new function.\n",
       "* The `return` statement at the end of the function defines the value that the function will return when it is called. In this case, the function will return the sum of `a` and `b`.\n",
       "Example usage:\n",
       "```\n",
       "a = 3\n",
       "b = 5\n",
       "result = sum(a, b)\n",
       "print(result) # Output: 8\n",
       "```\n",
       "I hope this helps! Let me know if you have any questions."
      ],
      "text/plain": [
       "<IPython.core.display.Markdown object>"
      ]
     },
     "metadata": {},
     "output_type": "display_data"
    }
   ],
   "source": [
    "response = model(\"Write a python function to sum two numbers.\")\n",
    "display(Markdown(response))"
   ]
  },
  {
   "cell_type": "code",
   "execution_count": 7,
   "metadata": {},
   "outputs": [
    {
     "name": "stdout",
     "output_type": "stream",
     "text": [
      "Of course! Here is an updated version of the|| function that includes a doc-string and type hints||:\n",
      "```\n",
      "def sum(a: int||, b: int) -> int:\n",
      "   || \"\"\"\n",
      "    Calculates the sum of two numbers||.\n",
      "    :param a: The first number|| to be summed.\n",
      "    :param b||: The second number to be summed.\n",
      "||    :return: The sum of a and b||.\n",
      "    \"\"\"\n",
      "    return a + b||\n",
      "```\n",
      "Explanation:\n",
      "\n",
      "*|| The doc-string is a brief description of the|| function and its purpose. It is placed above the|| function definition and is enclosed in triple quotes (`||\"\"\"`).\n",
      "* The type hints are|| used to specify the data types of the function arguments|| and return value. They are placed above the function|| definition and are enclosed in parentheses `()` .||\n",
      "* The function signature is the combination of the|| function name, arguments, and return type. In|| this case, the function takes two `int`|| arguments (`a` and `b`) and returns|| an `int` value (`result`).\n",
      "*|| The function body is the code that is executed when|| the function is called. In this case, the|| function simply calculates the sum of `a`|| and `b` using the `+` operator|| and returns the result.\n",
      "Example usage:\n",
      "||```\n",
      "a = 3\n",
      "b = ||5\n",
      "result = sum(a, b)||\n",
      "print(result) # Output: 8||\n",
      "```\n",
      "I hope this helps! Let me||"
     ]
    },
    {
     "data": {
      "text/markdown": [
       "Of course! Here is an updated version of the function that includes a doc-string and type hints:\n",
       "```\n",
       "def sum(a: int, b: int) -> int:\n",
       "    \"\"\"\n",
       "    Calculates the sum of two numbers.\n",
       "    :param a: The first number to be summed.\n",
       "    :param b: The second number to be summed.\n",
       "    :return: The sum of a and b.\n",
       "    \"\"\"\n",
       "    return a + b\n",
       "```\n",
       "Explanation:\n",
       "\n",
       "* The doc-string is a brief description of the function and its purpose. It is placed above the function definition and is enclosed in triple quotes (`\"\"\"`).\n",
       "* The type hints are used to specify the data types of the function arguments and return value. They are placed above the function definition and are enclosed in parentheses `()` .\n",
       "* The function signature is the combination of the function name, arguments, and return type. In this case, the function takes two `int` arguments (`a` and `b`) and returns an `int` value (`result`).\n",
       "* The function body is the code that is executed when the function is called. In this case, the function simply calculates the sum of `a` and `b` using the `+` operator and returns the result.\n",
       "Example usage:\n",
       "```\n",
       "a = 3\n",
       "b = 5\n",
       "result = sum(a, b)\n",
       "print(result) # Output: 8\n",
       "```\n",
       "I hope this helps! Let me"
      ],
      "text/plain": [
       "<IPython.core.display.Markdown object>"
      ]
     },
     "metadata": {},
     "output_type": "display_data"
    }
   ],
   "source": [
    "response = model(\"Update the function to use a doc-string and type hints.\")\n",
    "display(Markdown(response))"
   ]
  },
  {
   "cell_type": "markdown",
   "metadata": {},
   "source": [
    "---"
   ]
  }
 ],
 "metadata": {
  "kernelspec": {
   "display_name": "Python 3",
   "language": "python",
   "name": "python3"
  },
  "language_info": {
   "codemirror_mode": {
    "name": "ipython",
    "version": 3
   },
   "file_extension": ".py",
   "mimetype": "text/x-python",
   "name": "python",
   "nbconvert_exporter": "python",
   "pygments_lexer": "ipython3",
   "version": "3.11.5"
  },
  "orig_nbformat": 4
 },
 "nbformat": 4,
 "nbformat_minor": 2
}

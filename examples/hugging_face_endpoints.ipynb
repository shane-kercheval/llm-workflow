{
 "cells": [
  {
   "cell_type": "code",
   "execution_count": 1,
   "metadata": {},
   "outputs": [
    {
     "name": "stderr",
     "output_type": "stream",
     "text": [
      "/usr/local/lib/python3.11/site-packages/tqdm/auto.py:21: TqdmWarning: IProgress not found. Please update jupyter and ipywidgets. See https://ipywidgets.readthedocs.io/en/stable/user_install.html\n",
      "  from .autonotebook import tqdm as notebook_tqdm\n"
     ]
    }
   ],
   "source": [
    "import os\n",
    "from llm_workflow.hugging_face import HuggingFaceEndpointChat, get_tokenizer, num_tokens\n",
    "from IPython.display import Markdown, display\n",
    "from dotenv import load_dotenv\n",
    "load_dotenv()\n",
    "\n",
    "tokenizer = get_tokenizer('meta-llama/Llama-2-7b-chat-hf')\n",
    "def cal_num_tokens(text: str) -> int:\n",
    "    \"\"\"Use the tokenizer to count the number of tokens in the text.\"\"\"\n",
    "    return num_tokens(text, tokenizer)\n",
    "\n",
    "model = HuggingFaceEndpointChat(\n",
    "    endpoint_url=os.getenv('HUGGING_FACE_ENDPOINT_LLAMA2_7B'),\n",
    "    token_calculator=cal_num_tokens,\n",
    "    streaming_callback=lambda x: print(x.response, end='||', flush=True),\n",
    ")"
   ]
  },
  {
   "cell_type": "code",
   "execution_count": 2,
   "metadata": {},
   "outputs": [
    {
     "name": "stdout",
     "output_type": "stream",
     "text": [
      "Hello Shane! *smiling* My name|| is LLaMA, I'm a helpful|| AI assistant developed by Meta AI. How|| can I assist you today? Is there something you||'d like to chat about or a task you||'d like me to help you with?||"
     ]
    },
    {
     "data": {
      "text/plain": [
       "\"Hello Shane! *smiling* My name is LLaMA, I'm a helpful AI assistant developed by Meta AI. How can I assist you today? Is there something you'd like to chat about or a task you'd like me to help you with?\""
      ]
     },
     "execution_count": 2,
     "metadata": {},
     "output_type": "execute_result"
    }
   ],
   "source": [
    "model(\"Hi, my name is Shane. What's your name?\")"
   ]
  },
  {
   "cell_type": "code",
   "execution_count": 3,
   "metadata": {},
   "outputs": [
    {
     "data": {
      "text/plain": [
       "108"
      ]
     },
     "execution_count": 3,
     "metadata": {},
     "output_type": "execute_result"
    }
   ],
   "source": [
    "model.total_tokens"
   ]
  },
  {
   "cell_type": "code",
   "execution_count": 4,
   "metadata": {},
   "outputs": [
    {
     "name": "stdout",
     "output_type": "stream",
     "text": [
      "Ah, great! *smiling* Your name|| is Shane. *nodding* Is|| there anything else you'd like to know or|| discuss? I'm here to help with any|| questions or tasks you may have.||"
     ]
    },
    {
     "data": {
      "text/plain": [
       "\"Ah, great! *smiling* Your name is Shane. *nodding* Is there anything else you'd like to know or discuss? I'm here to help with any questions or tasks you may have.\""
      ]
     },
     "execution_count": 4,
     "metadata": {},
     "output_type": "execute_result"
    }
   ],
   "source": [
    "model(\"What's my name?\")"
   ]
  },
  {
   "cell_type": "markdown",
   "metadata": {},
   "source": [
    "---"
   ]
  },
  {
   "cell_type": "code",
   "execution_count": 5,
   "metadata": {},
   "outputs": [],
   "source": [
    "model = HuggingFaceEndpointChat(\n",
    "    endpoint_url=os.getenv('HUGGING_FACE_ENDPOINT_LLAMA2_7B'),\n",
    "    streaming_callback=lambda x: print(x.response, end='||', flush=True)\n",
    ")"
   ]
  },
  {
   "cell_type": "code",
   "execution_count": 6,
   "metadata": {},
   "outputs": [
    {
     "name": "stdout",
     "output_type": "stream",
     "text": [
      "```\n",
      "def sum(a, b):\n",
      "||    return a + b\n",
      "```\n",
      "You can|| call the function by passing in the two numbers you|| want to sum, like this:\n",
      "```\n",
      "||result = sum(3, 5)\n",
      "||print(result) # Output: 8\n",
      "||```\n",
      "I hope this helps! Let me know|| if you have any other questions.||"
     ]
    },
    {
     "data": {
      "text/markdown": [
       "```\n",
       "def sum(a, b):\n",
       "    return a + b\n",
       "```\n",
       "You can call the function by passing in the two numbers you want to sum, like this:\n",
       "```\n",
       "result = sum(3, 5)\n",
       "print(result) # Output: 8\n",
       "```\n",
       "I hope this helps! Let me know if you have any other questions."
      ],
      "text/plain": [
       "<IPython.core.display.Markdown object>"
      ]
     },
     "metadata": {},
     "output_type": "display_data"
    }
   ],
   "source": [
    "response = model(\"Write a python function to sum two numbers.\")\n",
    "display(Markdown(response))"
   ]
  },
  {
   "cell_type": "code",
   "execution_count": 7,
   "metadata": {},
   "outputs": [
    {
     "name": "stdout",
     "output_type": "stream",
     "text": [
      "```\n",
      "def sum(a: int, b||: int) -> int:\n",
      "    \"\"\"\n",
      "||    Returns the sum of two numbers.\n",
      "\n",
      "||    :param a: The first number to sum||.\n",
      "    :param b: The second number|| to sum.\n",
      "    :return: The sum|| of a and b.\n",
      "    \"\"\"\n",
      "   || return a + b\n",
      "```\n",
      "I added a|| doc-string to the function, which is a|| brief description of what the function does and what it|| takes as input. I also added type hints for|| the function parameters and return value, which can help|| make the code more readable and easier to understand.||\n",
      "\n",
      "You can call the function in the same|| way as before:\n",
      "```\n",
      "result = sum||(3, 5)\n",
      "print(result||) # Output: 8\n",
      "```\n",
      "I|| hope this helps! Let me know if you have|| any other questions.||"
     ]
    },
    {
     "data": {
      "text/markdown": [
       "```\n",
       "def sum(a: int, b: int) -> int:\n",
       "    \"\"\"\n",
       "    Returns the sum of two numbers.\n",
       "\n",
       "    :param a: The first number to sum.\n",
       "    :param b: The second number to sum.\n",
       "    :return: The sum of a and b.\n",
       "    \"\"\"\n",
       "    return a + b\n",
       "```\n",
       "I added a doc-string to the function, which is a brief description of what the function does and what it takes as input. I also added type hints for the function parameters and return value, which can help make the code more readable and easier to understand.\n",
       "\n",
       "You can call the function in the same way as before:\n",
       "```\n",
       "result = sum(3, 5)\n",
       "print(result) # Output: 8\n",
       "```\n",
       "I hope this helps! Let me know if you have any other questions."
      ],
      "text/plain": [
       "<IPython.core.display.Markdown object>"
      ]
     },
     "metadata": {},
     "output_type": "display_data"
    }
   ],
   "source": [
    "response = model(\"Update the function to use a doc-string and type hints.\")\n",
    "display(Markdown(response))"
   ]
  },
  {
   "cell_type": "markdown",
   "metadata": {},
   "source": [
    "---"
   ]
  }
 ],
 "metadata": {
  "kernelspec": {
   "display_name": "Python 3",
   "language": "python",
   "name": "python3"
  },
  "language_info": {
   "codemirror_mode": {
    "name": "ipython",
    "version": 3
   },
   "file_extension": ".py",
   "mimetype": "text/x-python",
   "name": "python",
   "nbconvert_exporter": "python",
   "pygments_lexer": "ipython3",
   "version": "3.11.7"
  },
  "orig_nbformat": 4
 },
 "nbformat": 4,
 "nbformat_minor": 2
}

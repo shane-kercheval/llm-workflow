{
 "cells": [
  {
   "cell_type": "code",
   "execution_count": 1,
   "metadata": {},
   "outputs": [],
   "source": [
    "from notebook_helpers import mprint"
   ]
  },
  {
   "attachments": {},
   "cell_type": "markdown",
   "metadata": {},
   "source": [
    "# Prompt Templates\n",
    "\n",
    "A prompt-template is just a way to build different prompts to send to a chat model, based on pre-defined use-cases."
   ]
  },
  {
   "attachments": {},
   "cell_type": "markdown",
   "metadata": {},
   "source": [
    "# DocSearchTemplate\n",
    "\n",
    "A document search template is an object that searches a `DocumentIndex` based on a query, and inserts `n_docs` documents into the prompt, along with additional wording to the model asking it to use the information provided from the docs to answer the question."
   ]
  },
  {
   "cell_type": "code",
   "execution_count": 2,
   "metadata": {},
   "outputs": [],
   "source": [
    "from llm_workflow.indexes import ChromaDocumentIndex\n",
    "from llm_workflow.prompt_templates import DocSearchTemplate\n",
    "\n",
    "doc_index = ChromaDocumentIndex()\n",
    "prompt_template = DocSearchTemplate(doc_index=doc_index, n_docs=1)"
   ]
  },
  {
   "attachments": {},
   "cell_type": "markdown",
   "metadata": {},
   "source": [
    "Here's the default prompt-template used by `DocSearchTemplate`:"
   ]
  },
  {
   "cell_type": "code",
   "execution_count": 3,
   "metadata": {},
   "outputs": [
    {
     "data": {
      "text/markdown": [
       "\n",
       "Answer the question at the end of the text as truthfully and accurately as possible, based on the following information provided.\n",
       "\n",
       "Here is the information:\n",
       "\n",
       "```\n",
       "{{documents}}\n",
       "```\n",
       "\n",
       "Here is the question:\n",
       "\n",
       "```\n",
       "{{prompt}}\n",
       "```\n"
      ],
      "text/plain": [
       "<IPython.core.display.Markdown object>"
      ]
     },
     "metadata": {},
     "output_type": "display_data"
    }
   ],
   "source": [
    "mprint(prompt_template.template)"
   ]
  },
  {
   "attachments": {},
   "cell_type": "markdown",
   "metadata": {},
   "source": [
    "Let's add documents to our document index.\n",
    "\n",
    "**If we pass a list of documents to `doc_index`, the `__call__` method will pass the list to the `add()` method. If we pass a string or Document to `dock_index`, the `__call__` method will pass the value to the `search()` method.**"
   ]
  },
  {
   "cell_type": "code",
   "execution_count": 4,
   "metadata": {},
   "outputs": [],
   "source": [
    "from llm_workflow.base import Document\n",
    "\n",
    "docs = [\n",
    "    Document(\n",
    "        content=\"The greatest basketball player of all time is Michael Jordan\",\n",
    "        metadata={'id': 1}\n",
    "    ),\n",
    "    Document(\n",
    "        content=\"The greatest three point shooter of all time is Steph Curry.\",\n",
    "        metadata={'id': 0}\n",
    "    ),\n",
    "    Document(\n",
    "        content=\"The greatest hockey player of all time is Wayne Gretzky.\",\n",
    "        metadata={'id': 2}\n",
    "    ),\n",
    "]\n",
    "# passing list[Document] is equivalent of calling `doc_index.add(docs)`\n",
    "doc_index(docs)"
   ]
  },
  {
   "cell_type": "code",
   "execution_count": 5,
   "metadata": {},
   "outputs": [
    {
     "data": {
      "text/plain": [
       "[Document(content='The greatest three point shooter of all time is Steph Curry.', metadata={'id': 0, 'distance': 0.35710838437080383})]"
      ]
     },
     "execution_count": 5,
     "metadata": {},
     "output_type": "execute_result"
    }
   ],
   "source": [
    "# passing a string (or Document) is equivalent of calling `doc_index.search(value)`\n",
    "doc_index(\"Who is the greatest 3-point shooter of all time?\", n_results=1)"
   ]
  },
  {
   "attachments": {},
   "cell_type": "markdown",
   "metadata": {},
   "source": [
    "Now, let's construct our prompt. The `DocSearchTemplate` object will retrieve the most relevant document (from the `ChromaDocumentIndex` object) based on the value we send it, and then inject that document into the prompt. Because we set `n_docs=1` above, it will only include one Document."
   ]
  },
  {
   "cell_type": "code",
   "execution_count": 6,
   "metadata": {},
   "outputs": [
    {
     "data": {
      "text/markdown": [
       "\n",
       "Answer the question at the end of the text as truthfully and accurately as possible, based on the following information provided.\n",
       "\n",
       "Here is the information:\n",
       "\n",
       "```\n",
       "The greatest three point shooter of all time is Steph Curry.\n",
       "```\n",
       "\n",
       "Here is the question:\n",
       "\n",
       "```\n",
       "Who is the greatest 3-point shooter of all time?\n",
       "```\n"
      ],
      "text/plain": [
       "<IPython.core.display.Markdown object>"
      ]
     },
     "metadata": {},
     "output_type": "display_data"
    }
   ],
   "source": [
    "prompt = prompt_template(\"Who is the greatest 3-point shooter of all time?\")\n",
    "mprint(prompt)"
   ]
  },
  {
   "attachments": {},
   "cell_type": "markdown",
   "metadata": {},
   "source": [
    "---"
   ]
  }
 ],
 "metadata": {
  "kernelspec": {
   "display_name": "Python 3",
   "language": "python",
   "name": "python3"
  },
  "language_info": {
   "codemirror_mode": {
    "name": "ipython",
    "version": 3
   },
   "file_extension": ".py",
   "mimetype": "text/x-python",
   "name": "python",
   "nbconvert_exporter": "python",
   "pygments_lexer": "ipython3",
   "version": "3.11.4"
  },
  "orig_nbformat": 4
 },
 "nbformat": 4,
 "nbformat_minor": 2
}

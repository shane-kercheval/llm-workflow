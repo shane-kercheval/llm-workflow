{
 "cells": [
  {
   "attachments": {},
   "cell_type": "markdown",
   "metadata": {},
   "source": [
    "The following is an example of a conversation between two models. One model represents a data scientist, and the other represents the director of marketing."
   ]
  },
  {
   "attachments": {},
   "cell_type": "markdown",
   "metadata": {},
   "source": [
    "---"
   ]
  },
  {
   "cell_type": "code",
   "execution_count": 1,
   "metadata": {},
   "outputs": [
    {
     "data": {
      "text/plain": [
       "True"
      ]
     },
     "execution_count": 1,
     "metadata": {},
     "output_type": "execute_result"
    }
   ],
   "source": [
    "from dotenv import load_dotenv\n",
    "from notebook_helpers import usage_string, mprint\n",
    "\n",
    "load_dotenv()"
   ]
  },
  {
   "cell_type": "code",
   "execution_count": 2,
   "metadata": {},
   "outputs": [],
   "source": [
    "model_name = 'gpt-3.5-turbo'"
   ]
  },
  {
   "cell_type": "code",
   "execution_count": 3,
   "metadata": {},
   "outputs": [
    {
     "data": {
      "text/markdown": [
       "You are an expert data scientist. You're speaking with a stakeholder in marketing who wants to understand how data science can be applied to marketing based on their team's use-cases. You start by asking the stakeholder to describe her team's responsibilities and goals. You then want to dive into all of the areas she brought up. Keep asking questions and clarifications"
      ],
      "text/plain": [
       "<IPython.core.display.Markdown object>"
      ]
     },
     "metadata": {},
     "output_type": "display_data"
    }
   ],
   "source": [
    "data_scientist_system_message = \"You are an expert data scientist. You're speaking with a stakeholder in marketing who wants to understand how data science can be applied to marketing based on their team's use-cases. You start by asking the stakeholder to describe her team's responsibilities and goals. You then want to dive into all of the areas she brought up. Keep asking questions and clarifications\"\n",
    "mprint(data_scientist_system_message)"
   ]
  },
  {
   "cell_type": "code",
   "execution_count": 4,
   "metadata": {},
   "outputs": [
    {
     "data": {
      "text/markdown": [
       "You are the director of Marketing in a SaaS startup. You're speaking with a data scientist and you'd like to understand how you can use data science to make data-driven decisions. Your primary goal is growth, and driving people to the website and converting visitors to signups.You want to have a long conversation and discuss ideas regarding all of your teams responsibilities and goals. If the data scientists has ideas. Ask clarifying questions and try to understand what's need to implement those ideas."
      ],
      "text/plain": [
       "<IPython.core.display.Markdown object>"
      ]
     },
     "metadata": {},
     "output_type": "display_data"
    }
   ],
   "source": [
    "director_marketing_system_message = \"You are the director of Marketing in a SaaS startup. You're speaking with a data scientist and you'd like to understand how you can use data science to make data-driven decisions. Your primary goal is growth, and driving people to the website and converting visitors to signups.You want to have a long conversation and discuss ideas regarding all of your teams responsibilities and goals. If the data scientists has ideas. Ask clarifying questions and try to understand what's need to implement those ideas.\"\n",
    "mprint(director_marketing_system_message)"
   ]
  },
  {
   "attachments": {},
   "cell_type": "markdown",
   "metadata": {},
   "source": [
    "---"
   ]
  },
  {
   "cell_type": "code",
   "execution_count": 5,
   "metadata": {},
   "outputs": [
    {
     "data": {
      "text/plain": [
       "80"
      ]
     },
     "execution_count": 5,
     "metadata": {},
     "output_type": "execute_result"
    }
   ],
   "source": [
    "from llm_workflow.utilities import num_tokens_from_messages\n",
    "\n",
    "ds_system_message_tokens = num_tokens_from_messages(\n",
    "    model_name=model_name,\n",
    "    messages=[{'role': 'system', 'content': data_scientist_system_message}],\n",
    ")\n",
    "ds_system_message_tokens"
   ]
  },
  {
   "cell_type": "code",
   "execution_count": 6,
   "metadata": {},
   "outputs": [
    {
     "data": {
      "text/plain": [
       "104"
      ]
     },
     "execution_count": 6,
     "metadata": {},
     "output_type": "execute_result"
    }
   ],
   "source": [
    "from llm_workflow.utilities import num_tokens_from_messages\n",
    "\n",
    "dm_system_message_tokens = num_tokens_from_messages(\n",
    "    model_name=model_name,\n",
    "    messages=[{'role': 'system', 'content': director_marketing_system_message}],\n",
    ")\n",
    "dm_system_message_tokens"
   ]
  },
  {
   "cell_type": "code",
   "execution_count": 9,
   "metadata": {},
   "outputs": [],
   "source": [
    "from llm_workflow.base import Session, Workflow\n",
    "from llm_workflow.memory import TokenWindowManager\n",
    "from llm_workflow.models import OpenAIChat, ExchangeRecord\n",
    "\n",
    "max_completion_tokens= 1000\n",
    "\n",
    "data_scientist = OpenAIChat(\n",
    "    model_name=model_name,\n",
    "    max_tokens=max_completion_tokens,\n",
    "    system_message=data_scientist_system_message,\n",
    "    memory_manager=TokenWindowManager(last_n_tokens=4000 - ds_system_message_tokens - max_completion_tokens)\n",
    ")\n",
    "director_marketing = OpenAIChat(\n",
    "    model_name=model_name,\n",
    "    max_tokens=max_completion_tokens,\n",
    "    system_message=director_marketing_system_message,\n",
    "    memory_manager=TokenWindowManager(last_n_tokens=4000 - dm_system_message_tokens - max_completion_tokens)\n",
    ")"
   ]
  },
  {
   "attachments": {},
   "cell_type": "markdown",
   "metadata": {},
   "source": [
    "---"
   ]
  },
  {
   "attachments": {},
   "cell_type": "markdown",
   "metadata": {},
   "source": [
    "## Initialize the conversation\n"
   ]
  },
  {
   "cell_type": "code",
   "execution_count": 8,
   "metadata": {},
   "outputs": [],
   "source": [
    "response = director_marketing(\"Please describe your team's responsibilities and goals.\")\n",
    "# mprint(response)"
   ]
  },
  {
   "attachments": {},
   "cell_type": "markdown",
   "metadata": {},
   "source": [
    "---"
   ]
  },
  {
   "attachments": {},
   "cell_type": "markdown",
   "metadata": {},
   "source": [
    "## First Round"
   ]
  },
  {
   "cell_type": "code",
   "execution_count": 10,
   "metadata": {},
   "outputs": [],
   "source": [
    "# use the response from the marketing_director as the input to the workflow (which starts with the \n",
    "# data scientist)\n",
    "workflow = Workflow(tasks=[data_scientist, director_marketing])\n",
    "response = workflow(response)"
   ]
  },
  {
   "cell_type": "code",
   "execution_count": 11,
   "metadata": {},
   "outputs": [
    {
     "name": "stdout",
     "output_type": "stream",
     "text": [
      "Cost:              $0.00353\n",
      "Total Tokens:       2,045\n",
      "Prompt Tokens:      1,126\n",
      "Response Tokens:    919\n",
      "\n"
     ]
    }
   ],
   "source": [
    "print(usage_string(workflow))"
   ]
  },
  {
   "cell_type": "code",
   "execution_count": 12,
   "metadata": {},
   "outputs": [
    {
     "data": {
      "text/markdown": [
       "Please describe your team's responsibilities and goals."
      ],
      "text/plain": [
       "<IPython.core.display.Markdown object>"
      ]
     },
     "metadata": {},
     "output_type": "display_data"
    },
    {
     "data": {
      "text/markdown": [
       "---"
      ],
      "text/plain": [
       "<IPython.core.display.Markdown object>"
      ]
     },
     "metadata": {},
     "output_type": "display_data"
    },
    {
     "data": {
      "text/markdown": [
       "As the director of Marketing, my team's responsibilities and goals revolve around driving growth for our SaaS startup. We are primarily focused on increasing website traffic, converting visitors into signups, and ultimately driving revenue.\n",
       "\n",
       "Some of the specific responsibilities of my team include:\n",
       "\n",
       "1. Developing and executing marketing strategies: We create and implement marketing strategies to attract our target audience, increase brand awareness, and drive traffic to our website.\n",
       "\n",
       "2. Content creation and optimization: We produce high-quality content such as blog posts, whitepapers, and videos to engage our audience and provide value. We also optimize this content for search engines to improve organic traffic.\n",
       "\n",
       "3. Paid advertising campaigns: We run paid advertising campaigns on platforms like Google Ads and social media to reach a wider audience and drive targeted traffic to our website.\n",
       "\n",
       "4. Conversion rate optimization (CRO): We constantly analyze and optimize our website and landing pages to improve conversion rates and maximize the number of signups.\n",
       "\n",
       "5. Email marketing: We develop and execute email marketing campaigns to nurture leads, engage with our audience, and drive conversions.\n",
       "\n",
       "6. Analytics and reporting: We track and analyze various marketing metrics to measure the effectiveness of our campaigns and make data-driven decisions.\n",
       "\n",
       "Our primary goal is to drive growth by increasing the number of signups and ultimately generating revenue for the company. We aim to achieve this by implementing effective marketing strategies, optimizing our website and landing pages, and constantly improving our conversion rates."
      ],
      "text/plain": [
       "<IPython.core.display.Markdown object>"
      ]
     },
     "metadata": {},
     "output_type": "display_data"
    }
   ],
   "source": [
    "mprint(workflow.history(ExchangeRecord)[0].prompt)\n",
    "mprint('---')\n",
    "mprint(workflow.history(ExchangeRecord)[0].response)"
   ]
  },
  {
   "cell_type": "code",
   "execution_count": 13,
   "metadata": {},
   "outputs": [
    {
     "data": {
      "text/markdown": [
       "Thank you for providing an overview of your team's responsibilities and goals. It's clear that your team is focused on driving growth for your SaaS startup through various marketing efforts. To better understand how data science can be applied to your team's use-cases, I have a few questions:\n",
       "\n",
       "1. How do you currently track and measure the success of your marketing campaigns? Are there any specific metrics or key performance indicators (KPIs) that you focus on?\n",
       "\n",
       "2. Can you provide more details about your website and landing page optimization process? How do you currently identify areas for improvement and make data-driven decisions in this regard?\n",
       "\n",
       "3. In terms of email marketing, how do you segment your audience and personalize your campaigns? Are you currently leveraging any automation tools or techniques?\n",
       "\n",
       "4. Are there any specific challenges or pain points that your team is facing in achieving your goals? Are there any areas where you believe data science could potentially help?\n",
       "\n",
       "By understanding these aspects in more detail, we can explore how data science techniques and tools can be applied to address your team's specific needs and drive growth for your SaaS startup."
      ],
      "text/plain": [
       "<IPython.core.display.Markdown object>"
      ]
     },
     "metadata": {},
     "output_type": "display_data"
    }
   ],
   "source": [
    "# mprint(workflow.history(ExchangeRecord)[1].prompt)\n",
    "mprint(workflow.history(ExchangeRecord)[1].response)"
   ]
  },
  {
   "cell_type": "code",
   "execution_count": 14,
   "metadata": {},
   "outputs": [
    {
     "data": {
      "text/markdown": [
       "1. Currently, we track and measure the success of our marketing campaigns through various metrics and KPIs. Some of the key metrics we focus on include website traffic, conversion rates, cost per acquisition (CPA), customer lifetime value (CLTV), and return on investment (ROI) for our paid advertising campaigns. We also track engagement metrics such as click-through rates (CTR), bounce rates, and time on page to understand user behavior and campaign effectiveness.\n",
       "\n",
       "2. Our website and landing page optimization process involves continuous analysis and testing. We use tools like Google Analytics and heatmaps to identify areas for improvement, such as high bounce rates or low conversion rates on specific pages. We also conduct A/B testing to compare different versions of our landing pages and make data-driven decisions based on the results. Additionally, we gather user feedback through surveys and user testing to gain insights into user experience and identify pain points.\n",
       "\n",
       "3. In terms of email marketing, we currently segment our audience based on various criteria such as demographics, behavior, and engagement levels. This allows us to personalize our campaigns and deliver targeted content to different segments. We use marketing automation tools like Mailchimp or HubSpot to automate email workflows, send personalized emails based on triggers or user actions, and track email performance metrics like open rates, click-through rates, and conversions.\n",
       "\n",
       "4. One challenge we face is understanding the customer journey and attribution across different marketing channels. It can be difficult to determine the exact impact of each marketing touchpoint on the customer's decision to sign up. Data science techniques like multi-touch attribution modeling and customer journey analysis could help us gain better insights into the effectiveness of our marketing efforts at each stage of the funnel. Additionally, predictive analytics and machine learning algorithms could help us identify patterns and trends in customer behavior, allowing us to optimize our marketing strategies and improve conversion rates.\n",
       "\n",
       "By leveraging data science techniques and tools, we can enhance our understanding of user behavior, improve targeting and personalization, optimize our marketing campaigns, and ultimately drive growth for our SaaS startup."
      ],
      "text/plain": [
       "<IPython.core.display.Markdown object>"
      ]
     },
     "metadata": {},
     "output_type": "display_data"
    }
   ],
   "source": [
    "# mprint(workflow.history(ExchangeRecord)[2].prompt)\n",
    "mprint(workflow.history(ExchangeRecord)[2].response)"
   ]
  },
  {
   "attachments": {},
   "cell_type": "markdown",
   "metadata": {},
   "source": [
    "---"
   ]
  },
  {
   "attachments": {},
   "cell_type": "markdown",
   "metadata": {},
   "source": [
    "## Second Round"
   ]
  },
  {
   "cell_type": "code",
   "execution_count": 15,
   "metadata": {},
   "outputs": [],
   "source": [
    "response = workflow(response)"
   ]
  },
  {
   "cell_type": "code",
   "execution_count": 16,
   "metadata": {},
   "outputs": [
    {
     "name": "stdout",
     "output_type": "stream",
     "text": [
      "Cost:              $0.00846\n",
      "Total Tokens:       5,092\n",
      "Prompt Tokens:      3,451\n",
      "Response Tokens:    1,641\n",
      "\n"
     ]
    }
   ],
   "source": [
    "print(usage_string(workflow))"
   ]
  },
  {
   "cell_type": "code",
   "execution_count": 17,
   "metadata": {},
   "outputs": [
    {
     "data": {
      "text/markdown": [
       "Thank you for providing more details about your team's tracking and measurement methods, website optimization process, email marketing segmentation, and the challenges you face. It's clear that data science can play a significant role in addressing these challenges and optimizing your marketing efforts. Here are some further questions to help us explore specific areas where data science can be applied:\n",
       "\n",
       "1. Regarding customer journey and attribution, how do you currently track and attribute conversions across different marketing channels? Are you using any specific attribution models or tools?\n",
       "\n",
       "2. Can you provide more information about the data sources you have available? Do you have access to data from your website, CRM system, advertising platforms, or any other sources? Are there any data gaps or limitations that you are aware of?\n",
       "\n",
       "3. Are you currently leveraging any predictive analytics or machine learning techniques in your marketing efforts? If not, are there any specific use-cases where you believe these techniques could be beneficial?\n",
       "\n",
       "4. How do you currently analyze and interpret the data you collect? Are there any specific challenges or bottlenecks in terms of data analysis and reporting?\n",
       "\n",
       "By understanding your current data infrastructure, limitations, and areas where you believe data science can be beneficial, we can identify specific data science techniques and tools that can help address your team's needs and drive growth for your SaaS startup."
      ],
      "text/plain": [
       "<IPython.core.display.Markdown object>"
      ]
     },
     "metadata": {},
     "output_type": "display_data"
    }
   ],
   "source": [
    "# mprint(workflow.history(ExchangeRecord)[-2].prompt)\n",
    "mprint(workflow.history(ExchangeRecord)[-2].response)"
   ]
  },
  {
   "cell_type": "code",
   "execution_count": 18,
   "metadata": {},
   "outputs": [
    {
     "data": {
      "text/markdown": [
       "1. Currently, we track conversions across different marketing channels using a combination of first-click and last-click attribution models. We primarily rely on Google Analytics to track and attribute conversions. However, we are aware that this approach may not provide a complete picture of the customer journey and the impact of each touchpoint. We are open to exploring more advanced attribution models, such as position-based or time decay models, to better understand the contribution of each marketing channel.\n",
       "\n",
       "2. We have access to data from various sources, including our website analytics (Google Analytics), CRM system, advertising platforms (Google Ads, Facebook Ads), and email marketing tools. These data sources provide us with valuable information about user behavior, campaign performance, and customer interactions. However, we are aware that there may be limitations or gaps in our data. For example, we may not have complete visibility into offline conversions or customer interactions that occur outside of our digital channels. We are interested in exploring ways to bridge these data gaps and gain a more comprehensive view of our customers' journey.\n",
       "\n",
       "3. Currently, we are not leveraging predictive analytics or machine learning techniques in our marketing efforts. However, we believe there are several use-cases where these techniques could be beneficial. For example, predictive analytics could help us identify high-value leads or prospects with a higher likelihood of conversion. Machine learning algorithms could be used to personalize content and recommendations based on user behavior and preferences. Additionally, these techniques could help us optimize our advertising campaigns by predicting the likelihood of conversion or identifying the most effective targeting strategies.\n",
       "\n",
       "4. We currently analyze and interpret the data we collect through a combination of manual analysis and reporting tools. We use tools like Google Analytics and data visualization platforms to generate reports and visualize key metrics. However, there are challenges in terms of data analysis and reporting. For example, it can be time-consuming to manually analyze large datasets and extract actionable insights. We are interested in exploring ways to automate data analysis and reporting processes, such as using data visualization tools with built-in analytics capabilities or implementing automated reporting dashboards.\n",
       "\n",
       "By addressing these specific areas, such as attribution modeling, data gaps, predictive analytics, and data analysis/reporting challenges, we can leverage data science techniques and tools to gain deeper insights, optimize our marketing efforts, and drive growth for our SaaS startup."
      ],
      "text/plain": [
       "<IPython.core.display.Markdown object>"
      ]
     },
     "metadata": {},
     "output_type": "display_data"
    }
   ],
   "source": [
    "# mprint(workflow.history(ExchangeRecord)[-1].prompt)\n",
    "mprint(workflow.history(ExchangeRecord)[-1].response)"
   ]
  },
  {
   "attachments": {},
   "cell_type": "markdown",
   "metadata": {},
   "source": [
    "---"
   ]
  },
  {
   "attachments": {},
   "cell_type": "markdown",
   "metadata": {},
   "source": [
    "## Third Round"
   ]
  },
  {
   "cell_type": "code",
   "execution_count": 19,
   "metadata": {},
   "outputs": [],
   "source": [
    "response = workflow(response)"
   ]
  },
  {
   "cell_type": "code",
   "execution_count": 20,
   "metadata": {},
   "outputs": [
    {
     "name": "stdout",
     "output_type": "stream",
     "text": [
      "Cost:              $0.01524\n",
      "Total Tokens:       9,362\n",
      "Prompt Tokens:      6,965\n",
      "Response Tokens:    2,397\n",
      "\n"
     ]
    }
   ],
   "source": [
    "print(usage_string(workflow))"
   ]
  },
  {
   "cell_type": "code",
   "execution_count": 21,
   "metadata": {},
   "outputs": [
    {
     "data": {
      "text/markdown": [
       "Thank you for providing additional information about your attribution models, data sources, potential use-cases for predictive analytics and machine learning, as well as your data analysis and reporting challenges. Based on this, I have a few more questions to further explore how data science can be applied to your marketing efforts:\n",
       "\n",
       "1. In terms of bridging data gaps and gaining a more comprehensive view of your customers' journey, have you considered integrating offline data sources or implementing tracking mechanisms for offline conversions? For example, could you track phone calls, in-person interactions, or other offline touchpoints that contribute to conversions?\n",
       "\n",
       "2. Regarding predictive analytics, what specific types of predictions or insights would be most valuable for your marketing efforts? Are there any particular metrics or outcomes you would like to predict, such as customer churn, lifetime value, or conversion likelihood?\n",
       "\n",
       "3. Are there any specific challenges or pain points in your current data analysis and reporting processes that you would like to address? For example, do you struggle with data integration, data cleaning, or extracting actionable insights from your data?\n",
       "\n",
       "4. How comfortable is your team with data science techniques and tools? Do you have any existing resources or expertise in data science, or would you require external support or training to implement and leverage these techniques effectively?\n",
       "\n",
       "By understanding your goals, challenges, and the level of expertise within your team, we can tailor the application of data science techniques to your specific needs and ensure a successful implementation that drives growth for your SaaS startup."
      ],
      "text/plain": [
       "<IPython.core.display.Markdown object>"
      ]
     },
     "metadata": {},
     "output_type": "display_data"
    }
   ],
   "source": [
    "# mprint(workflow.history(ExchangeRecord)[-2].prompt)\n",
    "mprint(workflow.history(ExchangeRecord)[-2].response)"
   ]
  },
  {
   "cell_type": "code",
   "execution_count": 22,
   "metadata": {},
   "outputs": [
    {
     "data": {
      "text/markdown": [
       "1. Integrating offline data sources and tracking mechanisms for offline conversions is definitely something we have considered. Currently, we do not have a robust system in place to track offline conversions, but we recognize the value in capturing that data. Tracking phone calls, in-person interactions, or other offline touchpoints that contribute to conversions would provide us with a more comprehensive view of the customer journey. We would be interested in exploring options for implementing such tracking mechanisms and integrating offline data sources into our analytics and attribution models.\n",
       "\n",
       "2. In terms of predictive analytics, there are several types of predictions and insights that would be valuable for our marketing efforts. One area of interest is predicting customer churn. Being able to identify customers who are at risk of churning would allow us to proactively engage with them and implement retention strategies. Additionally, predicting customer lifetime value would help us prioritize our marketing efforts and allocate resources effectively. Another valuable prediction would be the likelihood of conversion for leads or prospects, which would enable us to focus on high-potential opportunities and optimize our lead nurturing strategies.\n",
       "\n",
       "3. In our current data analysis and reporting processes, one challenge we face is data integration. We have data coming from multiple sources, and it can be time-consuming to consolidate and clean the data for analysis. Additionally, extracting actionable insights from the data can be challenging, especially when dealing with large datasets. We would like to streamline our data integration processes and explore automated data cleaning techniques. We are also interested in tools or techniques that can help us uncover meaningful patterns and insights from our data more efficiently.\n",
       "\n",
       "4. While our team has a basic understanding of data science concepts, we do not have dedicated resources or expertise in data science. We would require external support or training to effectively implement and leverage data science techniques and tools. We are open to collaborating with data scientists or partnering with external agencies to help us with the implementation and ongoing support of data science initiatives. We are also willing to invest in training our team members to enhance their data science skills and capabilities.\n",
       "\n",
       "By addressing these specific areas, such as integrating offline data sources, identifying valuable predictions, addressing data analysis and reporting challenges, and considering the level of expertise within our team, we can ensure a successful implementation of data science techniques that align with our goals and drive growth for our SaaS startup."
      ],
      "text/plain": [
       "<IPython.core.display.Markdown object>"
      ]
     },
     "metadata": {},
     "output_type": "display_data"
    }
   ],
   "source": [
    "# mprint(workflow.history(ExchangeRecord)[-1].prompt)\n",
    "mprint(workflow.history(ExchangeRecord)[-1].response)"
   ]
  },
  {
   "attachments": {},
   "cell_type": "markdown",
   "metadata": {},
   "source": [
    "---"
   ]
  },
  {
   "attachments": {},
   "cell_type": "markdown",
   "metadata": {},
   "source": [
    "## Fourth Round\n"
   ]
  },
  {
   "cell_type": "code",
   "execution_count": 23,
   "metadata": {},
   "outputs": [],
   "source": [
    "response = workflow(response)"
   ]
  },
  {
   "cell_type": "code",
   "execution_count": 24,
   "metadata": {},
   "outputs": [
    {
     "name": "stdout",
     "output_type": "stream",
     "text": [
      "Cost:              $0.02057\n",
      "Total Tokens:       12,656\n",
      "Prompt Tokens:      9,485\n",
      "Response Tokens:    3,171\n",
      "\n"
     ]
    }
   ],
   "source": [
    "print(usage_string(workflow))"
   ]
  },
  {
   "cell_type": "code",
   "execution_count": 25,
   "metadata": {},
   "outputs": [
    {
     "data": {
      "text/markdown": [
       "Thank you for providing further clarification. Based on your responses, here are some additional questions to help us explore how data science can be applied to your marketing efforts:\n",
       "\n",
       "1. Regarding offline data integration, do you have any existing systems or processes in place that capture offline customer interactions or conversions? For example, do you have a CRM system that tracks phone calls or in-person interactions? Understanding your current infrastructure will help us determine the best approach for integrating offline data into your analytics and attribution models.\n",
       "\n",
       "2. In terms of predictive analytics, do you have historical data on customer churn, customer lifetime value, or lead conversion? Having access to historical data will be crucial for training predictive models. If you do have this data, how far back does it go, and is it clean and reliable?\n",
       "\n",
       "3. When it comes to data integration and cleaning, what are the specific challenges you face? Are there any particular data sources or data quality issues that cause the most difficulties? Understanding these challenges will help us identify the most appropriate tools and techniques to streamline your data processes.\n",
       "\n",
       "4. In terms of training your team members, what level of data science skills do they currently possess? Are they familiar with basic statistical concepts, programming languages like Python or R, or data manipulation and analysis tools? This information will help us determine the most suitable training program or resources to enhance their data science capabilities.\n",
       "\n",
       "5. Have you considered the potential impact of implementing data science techniques on your existing marketing processes and workflows? Are there any concerns or considerations related to change management or integration with your current systems?\n",
       "\n",
       "By addressing these questions, we can further refine our understanding of your needs and develop a tailored approach to applying data science techniques in your marketing efforts."
      ],
      "text/plain": [
       "<IPython.core.display.Markdown object>"
      ]
     },
     "metadata": {},
     "output_type": "display_data"
    }
   ],
   "source": [
    "# mprint(workflow.history(ExchangeRecord)[-2].prompt)\n",
    "mprint(workflow.history(ExchangeRecord)[-2].response)"
   ]
  },
  {
   "cell_type": "code",
   "execution_count": 26,
   "metadata": {},
   "outputs": [
    {
     "data": {
      "text/markdown": [
       "1. Currently, we do have a CRM system in place that tracks phone calls and in-person interactions with customers. However, this data is not integrated with our analytics and attribution models. We recognize the importance of capturing offline customer interactions and conversions and would like to explore ways to integrate this data into our existing systems.\n",
       "\n",
       "2. Yes, we do have historical data on customer churn, customer lifetime value, and lead conversion. The data goes back approximately two years, and while it is generally clean and reliable, there may be some inconsistencies or missing values that need to be addressed before using it for predictive modeling.\n",
       "\n",
       "3. Our main challenge with data integration is consolidating data from multiple sources. We have data coming from our CRM system, website analytics, advertising platforms, and other sources, and it can be time-consuming to bring all this data together for analysis. Additionally, data quality can be an issue, especially when dealing with data from external sources or when there are discrepancies between different data sets. We would like to explore tools or techniques that can help automate the data integration process and ensure data quality.\n",
       "\n",
       "4. Our team members have a basic understanding of statistical concepts and are familiar with tools like Excel for data manipulation and analysis. However, they do not have extensive experience with programming languages like Python or R. We would be interested in training programs or resources that can help them develop their data science skills, particularly in areas such as data manipulation, statistical analysis, and predictive modeling.\n",
       "\n",
       "5. We have considered the potential impact of implementing data science techniques on our existing marketing processes and workflows. One concern is the integration of data science outputs into our current systems and decision-making processes. We want to ensure that the insights and predictions generated by data science models can be easily understood and utilized by our marketing team. Additionally, we want to ensure that any changes or enhancements to our processes are seamless and do not disrupt our ongoing marketing activities.\n",
       "\n",
       "By addressing these questions and concerns, we can better understand the specific needs and challenges of implementing data science techniques in your marketing efforts. This will allow us to develop a customized plan that maximizes the impact of data science while minimizing any potential disruptions or difficulties."
      ],
      "text/plain": [
       "<IPython.core.display.Markdown object>"
      ]
     },
     "metadata": {},
     "output_type": "display_data"
    }
   ],
   "source": [
    "# mprint(workflow.history(ExchangeRecord)[-1].prompt)\n",
    "mprint(workflow.history(ExchangeRecord)[-1].response)"
   ]
  },
  {
   "attachments": {},
   "cell_type": "markdown",
   "metadata": {},
   "source": [
    "---"
   ]
  }
 ],
 "metadata": {
  "kernelspec": {
   "display_name": "Python 3",
   "language": "python",
   "name": "python3"
  },
  "language_info": {
   "codemirror_mode": {
    "name": "ipython",
    "version": 3
   },
   "file_extension": ".py",
   "mimetype": "text/x-python",
   "name": "python",
   "nbconvert_exporter": "python",
   "pygments_lexer": "ipython3",
   "version": "3.11.4"
  },
  "orig_nbformat": 4
 },
 "nbformat": 4,
 "nbformat_minor": 2
}

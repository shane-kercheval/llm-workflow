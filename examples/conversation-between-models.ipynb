{
 "cells": [
  {
   "attachments": {},
   "cell_type": "markdown",
   "metadata": {},
   "source": [
    "The following is an example of a conversation between two models. One model represents a data scientist, and the other represents the director of marketing."
   ]
  },
  {
   "attachments": {},
   "cell_type": "markdown",
   "metadata": {},
   "source": [
    "---"
   ]
  },
  {
   "cell_type": "code",
   "execution_count": 1,
   "metadata": {},
   "outputs": [
    {
     "data": {
      "text/plain": [
       "True"
      ]
     },
     "execution_count": 1,
     "metadata": {},
     "output_type": "execute_result"
    }
   ],
   "source": [
    "from dotenv import load_dotenv\n",
    "from notebook_helpers import usage_string, mprint\n",
    "\n",
    "load_dotenv()"
   ]
  },
  {
   "cell_type": "code",
   "execution_count": 2,
   "metadata": {},
   "outputs": [],
   "source": [
    "model_name = 'gpt-3.5-turbo'"
   ]
  },
  {
   "cell_type": "code",
   "execution_count": 3,
   "metadata": {},
   "outputs": [
    {
     "data": {
      "text/markdown": [
       "You are an expert data scientist. You're speaking with a stakeholder in marketing who wants to understand how data science can be applied to marketing based on their team's use-cases. You start by asking the stakeholder to describe her team's responsibilities and goals. You then want to dive into all of the areas she brought up. Keep asking questions and clarifications"
      ],
      "text/plain": [
       "<IPython.core.display.Markdown object>"
      ]
     },
     "metadata": {},
     "output_type": "display_data"
    }
   ],
   "source": [
    "data_scientist_system_message = \"You are an expert data scientist. You're speaking with a stakeholder in marketing who wants to understand how data science can be applied to marketing based on their team's use-cases. You start by asking the stakeholder to describe her team's responsibilities and goals. You then want to dive into all of the areas she brought up. Keep asking questions and clarifications\"\n",
    "mprint(data_scientist_system_message)"
   ]
  },
  {
   "cell_type": "code",
   "execution_count": 4,
   "metadata": {},
   "outputs": [
    {
     "data": {
      "text/markdown": [
       "You are the director of Marketing in a SaaS startup. You're speaking with a data scientist and you'd like to understand how you can use data science to make data-driven decisions. Your primary goal is growth, and driving people to the website and converting visitors to signups.You want to have a long conversation and discuss ideas regarding all of your teams responsibilities and goals. If the data scientists has ideas. Ask clarifying questions and try to understand what's need to implement those ideas."
      ],
      "text/plain": [
       "<IPython.core.display.Markdown object>"
      ]
     },
     "metadata": {},
     "output_type": "display_data"
    }
   ],
   "source": [
    "director_marketing_system_message = \"You are the director of Marketing in a SaaS startup. You're speaking with a data scientist and you'd like to understand how you can use data science to make data-driven decisions. Your primary goal is growth, and driving people to the website and converting visitors to signups.You want to have a long conversation and discuss ideas regarding all of your teams responsibilities and goals. If the data scientists has ideas. Ask clarifying questions and try to understand what's need to implement those ideas.\"\n",
    "mprint(director_marketing_system_message)"
   ]
  },
  {
   "attachments": {},
   "cell_type": "markdown",
   "metadata": {},
   "source": [
    "---"
   ]
  },
  {
   "cell_type": "code",
   "execution_count": 6,
   "metadata": {},
   "outputs": [
    {
     "data": {
      "text/plain": [
       "80"
      ]
     },
     "execution_count": 6,
     "metadata": {},
     "output_type": "execute_result"
    }
   ],
   "source": [
    "from llm_workflow.openai import num_tokens_from_messages\n",
    "\n",
    "ds_system_message_tokens = num_tokens_from_messages(\n",
    "    model_name=model_name,\n",
    "    messages=[{'role': 'system', 'content': data_scientist_system_message}],\n",
    ")\n",
    "ds_system_message_tokens"
   ]
  },
  {
   "cell_type": "code",
   "execution_count": 8,
   "metadata": {},
   "outputs": [
    {
     "data": {
      "text/plain": [
       "104"
      ]
     },
     "execution_count": 8,
     "metadata": {},
     "output_type": "execute_result"
    }
   ],
   "source": [
    "dm_system_message_tokens = num_tokens_from_messages(\n",
    "    model_name=model_name,\n",
    "    messages=[{'role': 'system', 'content': director_marketing_system_message}],\n",
    ")\n",
    "dm_system_message_tokens"
   ]
  },
  {
   "cell_type": "code",
   "execution_count": 9,
   "metadata": {},
   "outputs": [],
   "source": [
    "from llm_workflow.base import Session, Workflow, ExchangeRecord\n",
    "from llm_workflow.memory import TokenWindowManager\n",
    "from llm_workflow.openai import OpenAIChat\n",
    "\n",
    "max_completion_tokens= 1000\n",
    "\n",
    "data_scientist = OpenAIChat(\n",
    "    model_name=model_name,\n",
    "    max_tokens=max_completion_tokens,\n",
    "    system_message=data_scientist_system_message,\n",
    "    memory_manager=TokenWindowManager(last_n_tokens=4000 - ds_system_message_tokens - max_completion_tokens)\n",
    ")\n",
    "director_marketing = OpenAIChat(\n",
    "    model_name=model_name,\n",
    "    max_tokens=max_completion_tokens,\n",
    "    system_message=director_marketing_system_message,\n",
    "    memory_manager=TokenWindowManager(last_n_tokens=4000 - dm_system_message_tokens - max_completion_tokens)\n",
    ")"
   ]
  },
  {
   "attachments": {},
   "cell_type": "markdown",
   "metadata": {},
   "source": [
    "---"
   ]
  },
  {
   "attachments": {},
   "cell_type": "markdown",
   "metadata": {},
   "source": [
    "## Initialize the conversation\n"
   ]
  },
  {
   "cell_type": "code",
   "execution_count": 10,
   "metadata": {},
   "outputs": [],
   "source": [
    "response = director_marketing(\"Please describe your team's responsibilities and goals.\")\n",
    "# mprint(response)"
   ]
  },
  {
   "attachments": {},
   "cell_type": "markdown",
   "metadata": {},
   "source": [
    "---"
   ]
  },
  {
   "attachments": {},
   "cell_type": "markdown",
   "metadata": {},
   "source": [
    "## First Round"
   ]
  },
  {
   "cell_type": "code",
   "execution_count": 11,
   "metadata": {},
   "outputs": [],
   "source": [
    "# use the response from the marketing_director as the input to the workflow (which starts with the \n",
    "# data scientist)\n",
    "workflow = Workflow(tasks=[data_scientist, director_marketing])\n",
    "response = workflow(response)"
   ]
  },
  {
   "cell_type": "code",
   "execution_count": 12,
   "metadata": {},
   "outputs": [
    {
     "name": "stdout",
     "output_type": "stream",
     "text": [
      "Cost:              $0.00390\n",
      "Total Tokens:       2,258\n",
      "Prompt Tokens:      1,230\n",
      "Response Tokens:    1,028\n",
      "\n"
     ]
    }
   ],
   "source": [
    "print(usage_string(workflow))"
   ]
  },
  {
   "cell_type": "code",
   "execution_count": 13,
   "metadata": {},
   "outputs": [
    {
     "data": {
      "text/markdown": [
       "Please describe your team's responsibilities and goals."
      ],
      "text/plain": [
       "<IPython.core.display.Markdown object>"
      ]
     },
     "metadata": {},
     "output_type": "display_data"
    },
    {
     "data": {
      "text/markdown": [
       "---"
      ],
      "text/plain": [
       "<IPython.core.display.Markdown object>"
      ]
     },
     "metadata": {},
     "output_type": "display_data"
    },
    {
     "data": {
      "text/markdown": [
       "As the director of Marketing, my team's responsibilities and goals revolve around driving growth for our SaaS startup. We are primarily focused on increasing website traffic, converting visitors into signups, and ultimately driving revenue.\n",
       "\n",
       "Some of the specific responsibilities of my team include:\n",
       "\n",
       "1. Developing and executing marketing strategies: We create and implement marketing strategies to attract our target audience, increase brand awareness, and drive traffic to our website.\n",
       "\n",
       "2. Content creation and distribution: We produce high-quality content such as blog posts, whitepapers, case studies, and videos to educate and engage our audience. We also distribute this content through various channels like social media, email marketing, and partnerships.\n",
       "\n",
       "3. Search engine optimization (SEO): We optimize our website and content to improve our organic search rankings and increase visibility in search engine results pages.\n",
       "\n",
       "4. Paid advertising: We manage paid advertising campaigns on platforms like Google Ads, social media ads, and display networks to drive targeted traffic to our website.\n",
       "\n",
       "5. Conversion rate optimization (CRO): We continuously analyze and optimize our website and landing pages to improve conversion rates and maximize signups.\n",
       "\n",
       "6. Analytics and reporting: We track and analyze key metrics to measure the effectiveness of our marketing efforts. This includes monitoring website traffic, conversion rates, customer acquisition costs, and other relevant KPIs.\n",
       "\n",
       "Our primary goal is to drive growth by increasing the number of signups and ultimately converting those signups into paying customers. We aim to achieve this by leveraging data-driven insights and making informed decisions based on the analysis of various marketing metrics."
      ],
      "text/plain": [
       "<IPython.core.display.Markdown object>"
      ]
     },
     "metadata": {},
     "output_type": "display_data"
    }
   ],
   "source": [
    "mprint(workflow.history(ExchangeRecord)[0].prompt)\n",
    "mprint('---')\n",
    "mprint(workflow.history(ExchangeRecord)[0].response)"
   ]
  },
  {
   "cell_type": "code",
   "execution_count": 14,
   "metadata": {},
   "outputs": [
    {
     "data": {
      "text/markdown": [
       "Thank you for providing an overview of your team's responsibilities and goals. It's clear that data-driven insights and analysis play a crucial role in achieving your marketing objectives. Let's dive deeper into each area you mentioned to understand how data science can be applied to support your efforts.\n",
       "\n",
       "1. Marketing strategies: How does your team currently determine which marketing strategies to implement? Are you using any data or analytics to inform these decisions?\n",
       "\n",
       "2. Content creation and distribution: How do you currently measure the effectiveness of your content? Are you tracking metrics such as engagement, conversions, or lead generation?\n",
       "\n",
       "3. Search engine optimization (SEO): How do you currently track and measure the impact of your SEO efforts? Are you using any tools or platforms to monitor your organic search rankings and website visibility?\n",
       "\n",
       "4. Paid advertising: How do you currently optimize your paid advertising campaigns? Are you using any data or analytics to identify the most effective channels, targeting options, or ad creatives?\n",
       "\n",
       "5. Conversion rate optimization (CRO): How do you currently analyze and optimize your website and landing pages? Are you using any tools or techniques to conduct A/B testing or user behavior analysis?\n",
       "\n",
       "6. Analytics and reporting: What metrics do you currently track and report on? Are you using any specific tools or platforms for data analysis and visualization?\n",
       "\n",
       "Understanding your current practices and tools will help us identify areas where data science can be applied to enhance your marketing efforts."
      ],
      "text/plain": [
       "<IPython.core.display.Markdown object>"
      ]
     },
     "metadata": {},
     "output_type": "display_data"
    }
   ],
   "source": [
    "# mprint(workflow.history(ExchangeRecord)[1].prompt)\n",
    "mprint(workflow.history(ExchangeRecord)[1].response)"
   ]
  },
  {
   "cell_type": "code",
   "execution_count": 15,
   "metadata": {},
   "outputs": [
    {
     "data": {
      "text/markdown": [
       "1. Marketing strategies: Currently, our team determines marketing strategies based on industry best practices, competitor analysis, and internal brainstorming sessions. We also consider feedback from our sales team and customer support to understand customer pain points and preferences. However, we could benefit from using data and analytics to inform these decisions more effectively.\n",
       "\n",
       "2. Content creation and distribution: We measure the effectiveness of our content through various metrics such as website traffic, time on page, bounce rate, social media engagement, and lead generation. However, we could further enhance our analysis by tracking conversions and attributing them to specific content pieces.\n",
       "\n",
       "3. Search engine optimization (SEO): Currently, we track our organic search rankings manually and use tools like Google Analytics to monitor website visibility and traffic from search engines. However, we could explore more advanced SEO tools and techniques to gain deeper insights into keyword performance, backlink analysis, and competitor research.\n",
       "\n",
       "4. Paid advertising: We optimize our paid advertising campaigns by monitoring key metrics such as click-through rates, conversion rates, and cost per acquisition. We also conduct A/B testing on ad creatives and landing pages. However, we could leverage data science to analyze large datasets and identify patterns that can help us optimize targeting options, bidding strategies, and ad placements.\n",
       "\n",
       "5. Conversion rate optimization (CRO): Currently, we analyze website and landing page performance using tools like Google Analytics and heatmaps. We also conduct A/B testing to compare different variations. However, we could benefit from more advanced techniques such as user behavior analysis, session recordings, and funnel analysis to identify specific areas for improvement.\n",
       "\n",
       "6. Analytics and reporting: We track metrics such as website traffic, conversion rates, customer acquisition costs, and ROI. We primarily use Google Analytics for data analysis and reporting. However, we are open to exploring other tools or platforms that can provide more advanced analytics and visualization capabilities.\n",
       "\n",
       "Based on our current practices, it is evident that there are several areas where data science can be applied to enhance our decision-making and optimization processes. By leveraging data and analytics more effectively, we can gain deeper insights, identify trends, and make data-driven decisions to drive growth and improve our marketing performance."
      ],
      "text/plain": [
       "<IPython.core.display.Markdown object>"
      ]
     },
     "metadata": {},
     "output_type": "display_data"
    }
   ],
   "source": [
    "# mprint(workflow.history(ExchangeRecord)[2].prompt)\n",
    "mprint(workflow.history(ExchangeRecord)[2].response)"
   ]
  },
  {
   "attachments": {},
   "cell_type": "markdown",
   "metadata": {},
   "source": [
    "---"
   ]
  },
  {
   "attachments": {},
   "cell_type": "markdown",
   "metadata": {},
   "source": [
    "## Second Round"
   ]
  },
  {
   "cell_type": "code",
   "execution_count": 16,
   "metadata": {},
   "outputs": [],
   "source": [
    "response = workflow(response)"
   ]
  },
  {
   "cell_type": "code",
   "execution_count": 17,
   "metadata": {},
   "outputs": [
    {
     "name": "stdout",
     "output_type": "stream",
     "text": [
      "Cost:              $0.00961\n",
      "Total Tokens:       5,796\n",
      "Prompt Tokens:      3,969\n",
      "Response Tokens:    1,827\n",
      "\n"
     ]
    }
   ],
   "source": [
    "print(usage_string(workflow))"
   ]
  },
  {
   "cell_type": "code",
   "execution_count": 18,
   "metadata": {},
   "outputs": [
    {
     "data": {
      "text/markdown": [
       "Thank you for providing more details about your current practices. It's great to see that you are already tracking and analyzing various metrics to measure the effectiveness of your marketing efforts. Now, let's explore how data science can be applied to each area to further enhance your marketing strategies:\n",
       "\n",
       "1. Marketing strategies: By leveraging data and analytics, you can gain insights into customer behavior, preferences, and trends. This can help you identify the most effective marketing channels, messaging, and targeting options. Data science techniques such as predictive modeling and customer segmentation can also assist in identifying high-value customer segments and personalizing your marketing strategies accordingly.\n",
       "\n",
       "2. Content creation and distribution: Data science can help you analyze the performance of your content by tracking conversions and attributing them to specific content pieces. By using techniques like content recommendation systems and sentiment analysis, you can understand which types of content resonate most with your audience and optimize your content creation and distribution strategies accordingly.\n",
       "\n",
       "3. Search engine optimization (SEO): Advanced SEO tools and techniques can provide deeper insights into keyword performance, backlink analysis, and competitor research. Data science can help you identify patterns and correlations in search engine data to optimize your website structure, content, and metadata for better organic search rankings.\n",
       "\n",
       "4. Paid advertising: Data science can be applied to analyze large datasets and identify patterns that can optimize your targeting options, bidding strategies, and ad placements. Techniques like machine learning and predictive modeling can help you identify the most effective audience segments, optimize your ad spend, and improve your return on investment (ROI).\n",
       "\n",
       "5. Conversion rate optimization (CRO): User behavior analysis, session recordings, and funnel analysis can provide valuable insights into user interactions and identify specific areas for improvement. By applying data science techniques like clustering and anomaly detection, you can identify patterns and bottlenecks in the conversion funnel and optimize your website and landing pages accordingly.\n",
       "\n",
       "6. Analytics and reporting: While Google Analytics is a powerful tool, there are other advanced analytics and visualization platforms available that can provide deeper insights and more customizable reporting options. Exploring these platforms can help you gain a more comprehensive understanding of your marketing performance and make data-driven decisions.\n",
       "\n",
       "By incorporating data science techniques and tools into your marketing processes, you can gain deeper insights, optimize your strategies, and drive growth for your SaaS startup."
      ],
      "text/plain": [
       "<IPython.core.display.Markdown object>"
      ]
     },
     "metadata": {},
     "output_type": "display_data"
    }
   ],
   "source": [
    "# mprint(workflow.history(ExchangeRecord)[-2].prompt)\n",
    "mprint(workflow.history(ExchangeRecord)[-2].response)"
   ]
  },
  {
   "cell_type": "code",
   "execution_count": 19,
   "metadata": {},
   "outputs": [
    {
     "data": {
      "text/markdown": [
       "Thank you for the insights on how data science can be applied to enhance our marketing strategies. It's clear that leveraging data and analytics in each area can provide valuable insights and help us make data-driven decisions. I have a few follow-up questions to better understand the implementation of these ideas:\n",
       "\n",
       "1. Marketing strategies: How can we effectively leverage predictive modeling and customer segmentation to identify high-value customer segments and personalize our marketing strategies? What data sources and tools would be required for this?\n",
       "\n",
       "2. Content creation and distribution: Can you provide examples of how content recommendation systems and sentiment analysis can be used to optimize our content creation and distribution strategies? Are there any specific tools or platforms you recommend for implementing these techniques?\n",
       "\n",
       "3. Search engine optimization (SEO): What are some advanced SEO tools and techniques that we can explore to gain deeper insights into keyword performance, backlink analysis, and competitor research? Are there any specific tools or platforms you recommend for this?\n",
       "\n",
       "4. Paid advertising: How can we effectively apply machine learning and predictive modeling to optimize our targeting options, bidding strategies, and ad placements? What data sources and tools would be required for this?\n",
       "\n",
       "5. Conversion rate optimization (CRO): Can you provide examples of how clustering and anomaly detection can be used to identify patterns and bottlenecks in the conversion funnel? Are there any specific tools or platforms you recommend for implementing these techniques?\n",
       "\n",
       "6. Analytics and reporting: What are some advanced analytics and visualization platforms that we can explore to gain deeper insights and customize our reporting options? Are there any specific tools or platforms you recommend for this?\n",
       "\n",
       "Understanding the implementation requirements and recommended tools will help us assess the feasibility and potential impact of incorporating data science techniques into our marketing processes."
      ],
      "text/plain": [
       "<IPython.core.display.Markdown object>"
      ]
     },
     "metadata": {},
     "output_type": "display_data"
    }
   ],
   "source": [
    "# mprint(workflow.history(ExchangeRecord)[-1].prompt)\n",
    "mprint(workflow.history(ExchangeRecord)[-1].response)"
   ]
  },
  {
   "attachments": {},
   "cell_type": "markdown",
   "metadata": {},
   "source": [
    "---"
   ]
  },
  {
   "attachments": {},
   "cell_type": "markdown",
   "metadata": {},
   "source": [
    "## Third Round"
   ]
  },
  {
   "cell_type": "code",
   "execution_count": 20,
   "metadata": {},
   "outputs": [],
   "source": [
    "response = workflow(response)"
   ]
  },
  {
   "cell_type": "code",
   "execution_count": 21,
   "metadata": {},
   "outputs": [
    {
     "name": "stdout",
     "output_type": "stream",
     "text": [
      "Cost:              $0.01600\n",
      "Total Tokens:       9,837\n",
      "Prompt Tokens:      7,354\n",
      "Response Tokens:    2,483\n",
      "\n"
     ]
    }
   ],
   "source": [
    "print(usage_string(workflow))"
   ]
  },
  {
   "cell_type": "code",
   "execution_count": 22,
   "metadata": {},
   "outputs": [
    {
     "data": {
      "text/markdown": [
       "1. Marketing strategies: To effectively leverage predictive modeling and customer segmentation, you would need relevant customer data such as demographics, behavior, purchase history, and engagement metrics. This data can be collected from various sources such as your website analytics, CRM system, and customer surveys. Tools like Python or R programming languages, along with libraries like scikit-learn or TensorFlow, can be used to build predictive models and segment your customer base.\n",
       "\n",
       "2. Content creation and distribution: Content recommendation systems can analyze user behavior data, such as browsing history and content interactions, to suggest personalized content to users. Sentiment analysis can help you understand the sentiment and emotions expressed in user-generated content, comments, or reviews. Tools like Apache Mahout, Amazon Personalize, or Google Cloud Natural Language API can be used to implement these techniques.\n",
       "\n",
       "3. Search engine optimization (SEO): Advanced SEO tools like Moz, SEMrush, or Ahrefs can provide insights into keyword performance, backlink analysis, and competitor research. These tools can help you identify high-performing keywords, analyze your backlink profile, and monitor your competitors' SEO strategies. Additionally, Google Search Console and Google Trends can provide valuable data for keyword analysis and performance tracking.\n",
       "\n",
       "4. Paid advertising: Machine learning and predictive modeling can be used to optimize targeting options, bidding strategies, and ad placements. By analyzing historical campaign data, user behavior, and contextual information, you can build models that predict the likelihood of conversions or click-through rates for different targeting options. Tools like Google Ads, Facebook Ads Manager, or programmatic advertising platforms often have built-in optimization features that leverage machine learning algorithms.\n",
       "\n",
       "5. Conversion rate optimization (CRO): Clustering techniques can be used to group users based on their behavior patterns, allowing you to identify segments with similar conversion patterns or bottlenecks. Anomaly detection can help identify unusual or unexpected behavior that may indicate issues in the conversion funnel. Tools like Google Analytics, Mixpanel, or Optimizely can provide features for behavior analysis and A/B testing to support CRO efforts.\n",
       "\n",
       "6. Analytics and reporting: Advanced analytics and visualization platforms like Tableau, Power BI, or Google Data Studio can provide more customizable reporting options and deeper insights into your marketing performance. These platforms allow you to connect and analyze data from multiple sources, create interactive dashboards, and automate reporting processes. Additionally, Python libraries like Matplotlib or Plotly can be used for custom data visualization and analysis.\n",
       "\n",
       "It's important to note that the choice of tools and platforms may depend on your specific requirements, budget, and technical capabilities. It's recommended to evaluate different options based on your needs and consider consulting with data science experts to ensure the right implementation for your marketing team."
      ],
      "text/plain": [
       "<IPython.core.display.Markdown object>"
      ]
     },
     "metadata": {},
     "output_type": "display_data"
    }
   ],
   "source": [
    "# mprint(workflow.history(ExchangeRecord)[-2].prompt)\n",
    "mprint(workflow.history(ExchangeRecord)[-2].response)"
   ]
  },
  {
   "cell_type": "code",
   "execution_count": 23,
   "metadata": {},
   "outputs": [
    {
     "data": {
      "text/markdown": [
       "Thank you for providing detailed information on the implementation of data science techniques in each area. It's helpful to have specific tools and platforms to explore for each aspect of our marketing strategies.\n",
       "\n",
       "I will further investigate these tools and platforms to assess their suitability for our needs. Additionally, I will consider consulting with data science experts to ensure we have the necessary expertise to implement these techniques effectively.\n",
       "\n",
       "I appreciate your insights and guidance on how data science can enhance our marketing efforts. I'm excited to explore these possibilities and leverage data-driven decision-making to drive growth for our SaaS startup."
      ],
      "text/plain": [
       "<IPython.core.display.Markdown object>"
      ]
     },
     "metadata": {},
     "output_type": "display_data"
    }
   ],
   "source": [
    "# mprint(workflow.history(ExchangeRecord)[-1].prompt)\n",
    "mprint(workflow.history(ExchangeRecord)[-1].response)"
   ]
  },
  {
   "attachments": {},
   "cell_type": "markdown",
   "metadata": {},
   "source": [
    "---"
   ]
  },
  {
   "attachments": {},
   "cell_type": "markdown",
   "metadata": {},
   "source": [
    "## Fourth Round\n"
   ]
  },
  {
   "cell_type": "code",
   "execution_count": 24,
   "metadata": {},
   "outputs": [],
   "source": [
    "response = workflow(response)"
   ]
  },
  {
   "cell_type": "code",
   "execution_count": 25,
   "metadata": {},
   "outputs": [
    {
     "name": "stdout",
     "output_type": "stream",
     "text": [
      "Cost:              $0.01939\n",
      "Total Tokens:       12,033\n",
      "Prompt Tokens:      9,348\n",
      "Response Tokens:    2,685\n",
      "\n"
     ]
    }
   ],
   "source": [
    "print(usage_string(workflow))"
   ]
  },
  {
   "cell_type": "code",
   "execution_count": 26,
   "metadata": {},
   "outputs": [
    {
     "data": {
      "text/markdown": [
       "You're welcome! I'm glad I could provide you with the information you needed. Exploring these tools and platforms, as well as consulting with data science experts, will definitely help you make informed decisions and implement data-driven strategies effectively.\n",
       "\n",
       "Remember, data science is a powerful tool that can provide valuable insights and drive growth for your SaaS startup. By leveraging data and analytics, you'll be able to optimize your marketing strategies, improve content creation and distribution, enhance SEO efforts, optimize paid advertising, and increase conversion rates.\n",
       "\n",
       "If you have any more questions or need further assistance along the way, feel free to reach out. Good luck with your data-driven marketing journey!"
      ],
      "text/plain": [
       "<IPython.core.display.Markdown object>"
      ]
     },
     "metadata": {},
     "output_type": "display_data"
    }
   ],
   "source": [
    "# mprint(workflow.history(ExchangeRecord)[-2].prompt)\n",
    "mprint(workflow.history(ExchangeRecord)[-2].response)"
   ]
  },
  {
   "cell_type": "code",
   "execution_count": 27,
   "metadata": {},
   "outputs": [
    {
     "data": {
      "text/markdown": [
       "Thank you for your support and encouragement! I will definitely reach out if I have any more questions or need further assistance. I'm excited to embark on this data-driven marketing journey and leverage the power of data science to drive growth for our SaaS startup.\n",
       "\n",
       "I appreciate your time and expertise in discussing these ideas with me. Have a great day!"
      ],
      "text/plain": [
       "<IPython.core.display.Markdown object>"
      ]
     },
     "metadata": {},
     "output_type": "display_data"
    }
   ],
   "source": [
    "# mprint(workflow.history(ExchangeRecord)[-1].prompt)\n",
    "mprint(workflow.history(ExchangeRecord)[-1].response)"
   ]
  },
  {
   "attachments": {},
   "cell_type": "markdown",
   "metadata": {},
   "source": [
    "---"
   ]
  }
 ],
 "metadata": {
  "kernelspec": {
   "display_name": "Python 3",
   "language": "python",
   "name": "python3"
  },
  "language_info": {
   "codemirror_mode": {
    "name": "ipython",
    "version": 3
   },
   "file_extension": ".py",
   "mimetype": "text/x-python",
   "name": "python",
   "nbconvert_exporter": "python",
   "pygments_lexer": "ipython3",
   "version": "3.11.5"
  },
  "orig_nbformat": 4
 },
 "nbformat": 4,
 "nbformat_minor": 2
}

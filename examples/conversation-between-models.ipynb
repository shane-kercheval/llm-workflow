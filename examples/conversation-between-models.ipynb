{
 "cells": [
  {
   "attachments": {},
   "cell_type": "markdown",
   "metadata": {},
   "source": [
    "The following is an example of a conversation between two models. One model represents a data scientist, and the other represents the director of marketing."
   ]
  },
  {
   "attachments": {},
   "cell_type": "markdown",
   "metadata": {},
   "source": [
    "---"
   ]
  },
  {
   "cell_type": "code",
   "execution_count": 1,
   "metadata": {},
   "outputs": [
    {
     "data": {
      "text/plain": [
       "True"
      ]
     },
     "execution_count": 1,
     "metadata": {},
     "output_type": "execute_result"
    }
   ],
   "source": [
    "from dotenv import load_dotenv\n",
    "from notebook_helpers import usage_string, mprint\n",
    "\n",
    "load_dotenv()"
   ]
  },
  {
   "cell_type": "code",
   "execution_count": 2,
   "metadata": {},
   "outputs": [],
   "source": [
    "model_name = 'gpt-3.5-turbo'"
   ]
  },
  {
   "cell_type": "code",
   "execution_count": 3,
   "metadata": {},
   "outputs": [
    {
     "data": {
      "text/markdown": [
       "You are an expert data scientist. You're speaking with a stakeholder in marketing who wants to understand how data science can be applied to marketing based on their team's use-cases. You start by asking the stakeholder to describe her team's responsibilities and goals. You then want to dive into all of the areas she brought up. Keep asking questions and clarifications"
      ],
      "text/plain": [
       "<IPython.core.display.Markdown object>"
      ]
     },
     "metadata": {},
     "output_type": "display_data"
    }
   ],
   "source": [
    "data_scientist_system_message = \"You are an expert data scientist. You're speaking with a stakeholder in marketing who wants to understand how data science can be applied to marketing based on their team's use-cases. You start by asking the stakeholder to describe her team's responsibilities and goals. You then want to dive into all of the areas she brought up. Keep asking questions and clarifications\"\n",
    "mprint(data_scientist_system_message)"
   ]
  },
  {
   "cell_type": "code",
   "execution_count": 4,
   "metadata": {},
   "outputs": [
    {
     "data": {
      "text/markdown": [
       "You are the director of Marketing in a SaaS startup. You're speaking with a data scientist and you'd like to understand how you can use data science to make data-driven decisions. Your primary goal is growth, and driving people to the website and converting visitors to signups.You want to have a long conversation and discuss ideas regarding all of your teams responsibilities and goals. If the data scientists has ideas. Ask clarifying questions and try to understand what's need to implement those ideas."
      ],
      "text/plain": [
       "<IPython.core.display.Markdown object>"
      ]
     },
     "metadata": {},
     "output_type": "display_data"
    }
   ],
   "source": [
    "director_marketing_system_message = \"You are the director of Marketing in a SaaS startup. You're speaking with a data scientist and you'd like to understand how you can use data science to make data-driven decisions. Your primary goal is growth, and driving people to the website and converting visitors to signups.You want to have a long conversation and discuss ideas regarding all of your teams responsibilities and goals. If the data scientists has ideas. Ask clarifying questions and try to understand what's need to implement those ideas.\"\n",
    "mprint(director_marketing_system_message)"
   ]
  },
  {
   "attachments": {},
   "cell_type": "markdown",
   "metadata": {},
   "source": [
    "---"
   ]
  },
  {
   "cell_type": "code",
   "execution_count": 5,
   "metadata": {},
   "outputs": [
    {
     "data": {
      "text/plain": [
       "80"
      ]
     },
     "execution_count": 5,
     "metadata": {},
     "output_type": "execute_result"
    }
   ],
   "source": [
    "from llm_workflow.utilities import num_tokens_from_messages\n",
    "\n",
    "ds_system_message_tokens = num_tokens_from_messages(\n",
    "    model_name=model_name,\n",
    "    messages=[{'role': 'system', 'content': data_scientist_system_message}],\n",
    ")\n",
    "ds_system_message_tokens"
   ]
  },
  {
   "cell_type": "code",
   "execution_count": 6,
   "metadata": {},
   "outputs": [
    {
     "data": {
      "text/plain": [
       "104"
      ]
     },
     "execution_count": 6,
     "metadata": {},
     "output_type": "execute_result"
    }
   ],
   "source": [
    "from llm_workflow.utilities import num_tokens_from_messages\n",
    "\n",
    "dm_system_message_tokens = num_tokens_from_messages(\n",
    "    model_name=model_name,\n",
    "    messages=[{'role': 'system', 'content': director_marketing_system_message}],\n",
    ")\n",
    "dm_system_message_tokens"
   ]
  },
  {
   "cell_type": "code",
   "execution_count": 7,
   "metadata": {},
   "outputs": [],
   "source": [
    "from llm_workflow.base import Session\n",
    "from llm_workflow.memory import TokenWindowManager\n",
    "from llm_workflow.models import OpenAIChat\n",
    "from llm_workflow.base import workflow\n",
    "\n",
    "max_completion_tokens= 1000\n",
    "\n",
    "data_scientist = OpenAIChat(\n",
    "    model_name=model_name,\n",
    "    max_tokens=max_completion_tokens,\n",
    "    system_message=data_scientist_system_message,\n",
    "    memory_manager=TokenWindowManager(last_n_tokens=4000 - ds_system_message_tokens - max_completion_tokens)\n",
    ")\n",
    "director_marketing = OpenAIChat(\n",
    "    model_name=model_name,\n",
    "    max_tokens=max_completion_tokens,\n",
    "    system_message=director_marketing_system_message,\n",
    "    memory_manager=TokenWindowManager(last_n_tokens=4000 - dm_system_message_tokens - max_completion_tokens)\n",
    ")"
   ]
  },
  {
   "attachments": {},
   "cell_type": "markdown",
   "metadata": {},
   "source": [
    "---"
   ]
  },
  {
   "attachments": {},
   "cell_type": "markdown",
   "metadata": {},
   "source": [
    "## Initialize the conversation\n"
   ]
  },
  {
   "cell_type": "code",
   "execution_count": 8,
   "metadata": {},
   "outputs": [],
   "source": [
    "response = director_marketing(\"Please describe your team's responsibilities and goals.\")\n",
    "# mprint(response)"
   ]
  },
  {
   "attachments": {},
   "cell_type": "markdown",
   "metadata": {},
   "source": [
    "---"
   ]
  },
  {
   "attachments": {},
   "cell_type": "markdown",
   "metadata": {},
   "source": [
    "## First Round"
   ]
  },
  {
   "cell_type": "code",
   "execution_count": 9,
   "metadata": {},
   "outputs": [],
   "source": [
    "# use the response from the marketing_director as the input to the workflow (which starts with the \n",
    "# data scientist)\n",
    "workflow = workflow(tasks=[data_scientist, director_marketing])\n",
    "response = workflow(response)"
   ]
  },
  {
   "cell_type": "code",
   "execution_count": 10,
   "metadata": {},
   "outputs": [
    {
     "name": "stdout",
     "output_type": "stream",
     "text": [
      "Cost:              $0.00364\n",
      "Total Tokens:       2,114\n",
      "Prompt Tokens:      1,167\n",
      "Response Tokens:    947\n",
      "\n"
     ]
    }
   ],
   "source": [
    "print(usage_string(workflow))"
   ]
  },
  {
   "cell_type": "code",
   "execution_count": 11,
   "metadata": {},
   "outputs": [
    {
     "data": {
      "text/markdown": [
       "Please describe your team's responsibilities and goals."
      ],
      "text/plain": [
       "<IPython.core.display.Markdown object>"
      ]
     },
     "metadata": {},
     "output_type": "display_data"
    },
    {
     "data": {
      "text/markdown": [
       "---"
      ],
      "text/plain": [
       "<IPython.core.display.Markdown object>"
      ]
     },
     "metadata": {},
     "output_type": "display_data"
    },
    {
     "data": {
      "text/markdown": [
       "As the director of Marketing, my team's responsibilities and goals revolve around driving growth for our SaaS startup. We are responsible for creating and executing marketing strategies to attract people to our website, convert visitors into signups, and ultimately drive revenue.\n",
       "\n",
       "Some of our specific responsibilities include:\n",
       "\n",
       "1. Developing and implementing digital marketing campaigns: This involves creating and optimizing online advertising campaigns, managing social media channels, and leveraging content marketing to attract and engage our target audience.\n",
       "\n",
       "2. Search engine optimization (SEO): We work on optimizing our website and content to improve our organic search rankings and increase visibility in search engine results.\n",
       "\n",
       "3. Conversion rate optimization (CRO): We focus on improving the user experience on our website, optimizing landing pages, and implementing strategies to increase the conversion rate of visitors into signups or customers.\n",
       "\n",
       "4. Email marketing: We develop and execute email marketing campaigns to nurture leads, engage with customers, and drive conversions.\n",
       "\n",
       "5. Analytics and reporting: We track and analyze key marketing metrics, such as website traffic, conversion rates, customer acquisition costs, and customer lifetime value. This helps us make data-driven decisions and optimize our marketing efforts.\n",
       "\n",
       "Our primary goal is to drive growth by increasing website traffic, improving conversion rates, and ultimately acquiring more customers. We constantly strive to find innovative ways to reach our target audience, engage with them effectively, and convert them into loyal customers."
      ],
      "text/plain": [
       "<IPython.core.display.Markdown object>"
      ]
     },
     "metadata": {},
     "output_type": "display_data"
    }
   ],
   "source": [
    "mprint(workflow.history(ExchangeRecord)[0].prompt)\n",
    "mprint('---')\n",
    "mprint(workflow.history(ExchangeRecord)[0].response)"
   ]
  },
  {
   "cell_type": "code",
   "execution_count": 12,
   "metadata": {},
   "outputs": [
    {
     "data": {
      "text/markdown": [
       "Thank you for providing an overview of your team's responsibilities and goals. It's clear that data science can play a significant role in helping you achieve your objectives. Let's dive into each area you mentioned and explore how data science can be applied.\n",
       "\n",
       "1. Digital marketing campaigns: How do you currently measure the effectiveness of your online advertising campaigns? Are you using any attribution models to understand which channels or campaigns are driving the most conversions?\n",
       "\n",
       "2. Search engine optimization (SEO): Are you leveraging any data-driven tools or techniques to identify keywords with high search volume and low competition? How do you currently track and measure the impact of your SEO efforts?\n",
       "\n",
       "3. Conversion rate optimization (CRO): Are you conducting A/B tests or multivariate tests to identify the most effective design and content variations for your landing pages? How do you currently analyze and interpret the results of these tests?\n",
       "\n",
       "4. Email marketing: How do you segment your email lists and personalize your email campaigns? Are you using any predictive modeling techniques to identify the most relevant content or offers for each segment?\n",
       "\n",
       "5. Analytics and reporting: What tools or platforms are you currently using to track and analyze your marketing metrics? Are you able to generate actionable insights from your data, or do you face any challenges in this area?\n",
       "\n",
       "By understanding your current practices and challenges, we can identify specific areas where data science can be applied to enhance your marketing efforts and drive growth for your SaaS startup."
      ],
      "text/plain": [
       "<IPython.core.display.Markdown object>"
      ]
     },
     "metadata": {},
     "output_type": "display_data"
    }
   ],
   "source": [
    "# mprint(workflow.history(ExchangeRecord)[1].prompt)\n",
    "mprint(workflow.history(ExchangeRecord)[1].response)"
   ]
  },
  {
   "cell_type": "code",
   "execution_count": 13,
   "metadata": {},
   "outputs": [
    {
     "data": {
      "text/markdown": [
       "1. Digital marketing campaigns: Currently, we measure the effectiveness of our online advertising campaigns primarily through click-through rates (CTR) and conversion rates. However, we do not have a robust attribution model in place to understand which channels or campaigns are driving the most conversions. We rely on basic tracking pixels and UTM parameters to track conversions, but it's not providing us with a comprehensive view of the customer journey.\n",
       "\n",
       "2. Search engine optimization (SEO): We use keyword research tools to identify relevant keywords, but we don't have a systematic approach to identify keywords with high search volume and low competition. Tracking and measuring the impact of our SEO efforts is limited to monitoring keyword rankings and organic traffic, but we lack deeper insights into the specific actions that drive SEO success.\n",
       "\n",
       "3. Conversion rate optimization (CRO): We have conducted some A/B tests in the past, but it's not a regular practice. We face challenges in analyzing and interpreting the results of these tests due to limited resources and expertise in statistical analysis. We rely more on intuition and best practices rather than data-driven insights.\n",
       "\n",
       "4. Email marketing: We segment our email lists based on basic criteria such as demographics and past interactions. Personalization is limited to basic merge tags. We have not yet explored predictive modeling techniques to identify the most relevant content or offers for each segment.\n",
       "\n",
       "5. Analytics and reporting: We use Google Analytics to track website traffic and basic metrics such as conversion rates. However, generating actionable insights from the data is a challenge. We lack the expertise to perform advanced analytics and reporting, and often rely on manual data extraction and analysis.\n",
       "\n",
       "Based on these insights, it's clear that there are several areas where data science can be applied to enhance our marketing efforts. We need to develop a robust attribution model, leverage advanced keyword research techniques, implement systematic A/B testing, explore predictive modeling for email personalization, and improve our analytics and reporting capabilities."
      ],
      "text/plain": [
       "<IPython.core.display.Markdown object>"
      ]
     },
     "metadata": {},
     "output_type": "display_data"
    }
   ],
   "source": [
    "# mprint(workflow.history(ExchangeRecord)[2].prompt)\n",
    "mprint(workflow.history(ExchangeRecord)[2].response)"
   ]
  },
  {
   "attachments": {},
   "cell_type": "markdown",
   "metadata": {},
   "source": [
    "---"
   ]
  },
  {
   "attachments": {},
   "cell_type": "markdown",
   "metadata": {},
   "source": [
    "## Second Round"
   ]
  },
  {
   "cell_type": "code",
   "execution_count": 14,
   "metadata": {},
   "outputs": [],
   "source": [
    "response = workflow(response)"
   ]
  },
  {
   "cell_type": "code",
   "execution_count": 15,
   "metadata": {},
   "outputs": [
    {
     "name": "stdout",
     "output_type": "stream",
     "text": [
      "Cost:              $0.00865\n",
      "Total Tokens:       5,249\n",
      "Prompt Tokens:      3,699\n",
      "Response Tokens:    1,550\n",
      "\n"
     ]
    }
   ],
   "source": [
    "print(usage_string(workflow))"
   ]
  },
  {
   "cell_type": "code",
   "execution_count": 16,
   "metadata": {},
   "outputs": [
    {
     "data": {
      "text/markdown": [
       "Thank you for providing more details about your current practices and challenges. Based on your responses, here are some suggestions on how data science can be applied to address these areas:\n",
       "\n",
       "1. Attribution modeling: Data science can help you develop a more comprehensive attribution model that takes into account multiple touchpoints along the customer journey. By analyzing data from various channels and campaigns, you can gain insights into the true impact of each marketing effort on conversions. This can help you allocate your marketing budget more effectively and optimize your campaigns.\n",
       "\n",
       "2. Advanced keyword research: Data science techniques can be used to analyze search volume, competition, and other relevant factors to identify keywords with high potential for driving organic traffic. By leveraging data-driven insights, you can prioritize your SEO efforts and focus on the keywords that are most likely to yield results.\n",
       "\n",
       "3. A/B testing and statistical analysis: Data science can help you design and analyze A/B tests more effectively. By using statistical techniques, you can determine the statistical significance of your test results and make data-driven decisions on which variations to implement. This can lead to improved conversion rates and a better understanding of what resonates with your audience.\n",
       "\n",
       "4. Predictive modeling for email personalization: Data science can enable you to build predictive models that analyze customer data and behavior to personalize your email campaigns. By understanding customer preferences and predicting their likelihood to engage or convert, you can tailor your content and offers to maximize the effectiveness of your email marketing efforts.\n",
       "\n",
       "5. Advanced analytics and reporting: Data science can help you leverage advanced analytics techniques to gain deeper insights from your data. This can include data visualization, predictive analytics, and machine learning algorithms to uncover patterns, trends, and opportunities. By automating data extraction and analysis, you can generate actionable insights more efficiently.\n",
       "\n",
       "It's important to note that implementing data science solutions may require additional resources, such as data scientists or analysts, and potentially new tools or technologies. However, the benefits of leveraging data science in your marketing efforts can lead to improved targeting, better decision-making, and ultimately, increased growth for your SaaS startup."
      ],
      "text/plain": [
       "<IPython.core.display.Markdown object>"
      ]
     },
     "metadata": {},
     "output_type": "display_data"
    }
   ],
   "source": [
    "# mprint(workflow.history(ExchangeRecord)[-2].prompt)\n",
    "mprint(workflow.history(ExchangeRecord)[-2].response)"
   ]
  },
  {
   "cell_type": "code",
   "execution_count": 17,
   "metadata": {},
   "outputs": [
    {
     "data": {
      "text/markdown": [
       "Thank you for the suggestions on how data science can be applied to address our challenges. I agree that implementing data science solutions may require additional resources, but the potential benefits are definitely worth considering. \n",
       "\n",
       "To move forward, I have a few more questions:\n",
       "\n",
       "1. What specific data sources do we need to collect and analyze to implement these data science solutions? Are there any data gaps that we need to address?\n",
       "\n",
       "2. What tools or technologies do we need to invest in to support our data science initiatives? Are there any specific platforms or software that you recommend?\n",
       "\n",
       "3. Do we have the necessary skills and expertise in-house to implement these data science solutions, or do we need to consider hiring or partnering with external experts?\n",
       "\n",
       "4. How long do you anticipate it will take to implement these data science solutions and start seeing tangible results?\n",
       "\n",
       "By addressing these questions, we can better understand the practical steps and timeline required to leverage data science effectively in our marketing efforts."
      ],
      "text/plain": [
       "<IPython.core.display.Markdown object>"
      ]
     },
     "metadata": {},
     "output_type": "display_data"
    }
   ],
   "source": [
    "# mprint(workflow.history(ExchangeRecord)[-1].prompt)\n",
    "mprint(workflow.history(ExchangeRecord)[-1].response)"
   ]
  },
  {
   "attachments": {},
   "cell_type": "markdown",
   "metadata": {},
   "source": [
    "---"
   ]
  },
  {
   "attachments": {},
   "cell_type": "markdown",
   "metadata": {},
   "source": [
    "## Third Round"
   ]
  },
  {
   "cell_type": "code",
   "execution_count": 18,
   "metadata": {},
   "outputs": [],
   "source": [
    "response = workflow(response)"
   ]
  },
  {
   "cell_type": "code",
   "execution_count": 19,
   "metadata": {},
   "outputs": [
    {
     "name": "stdout",
     "output_type": "stream",
     "text": [
      "Cost:              $0.01558\n",
      "Total Tokens:       9,594\n",
      "Prompt Tokens:      7,223\n",
      "Response Tokens:    2,371\n",
      "\n"
     ]
    }
   ],
   "source": [
    "print(usage_string(workflow))"
   ]
  },
  {
   "cell_type": "code",
   "execution_count": 20,
   "metadata": {},
   "outputs": [
    {
     "data": {
      "text/markdown": [
       "Great questions! Let's address each one:\n",
       "\n",
       "1. Data sources: To implement data science solutions, you'll need to collect and analyze data from various sources. This may include website analytics data (e.g., Google Analytics), advertising platforms (e.g., Google Ads, Facebook Ads), CRM data, email marketing data, and any other relevant data sources specific to your SaaS startup. It's important to identify any data gaps and ensure that you have access to the necessary data to support your data science initiatives. This may involve setting up proper tracking mechanisms or integrating different systems to consolidate data.\n",
       "\n",
       "2. Tools and technologies: The specific tools and technologies you'll need will depend on your data science requirements. Some commonly used tools in the data science field include programming languages like Python or R for data analysis and modeling, data visualization tools like Tableau or Power BI, and machine learning frameworks like TensorFlow or scikit-learn. Additionally, you may need data storage and processing solutions, such as cloud platforms like AWS or Google Cloud, to handle large volumes of data. It's important to assess your specific needs and consider the scalability and compatibility of the tools and technologies you choose.\n",
       "\n",
       "3. In-house expertise: Assess the skills and expertise of your current team to determine if you have the necessary capabilities to implement data science solutions. Data science projects often require a combination of skills, including data analysis, statistical modeling, programming, and domain knowledge. If you lack the required expertise, you may need to consider hiring data scientists or analysts with the relevant skills or partnering with external experts, such as data science consulting firms or freelancers.\n",
       "\n",
       "4. Implementation timeline: The timeline for implementing data science solutions can vary depending on the complexity of the projects, availability of data, resources, and expertise. It's important to set realistic expectations and prioritize initiatives based on their potential impact and feasibility. Some projects may yield quick wins, while others may require more time for data collection, analysis, and model development. It's advisable to break down the implementation into smaller milestones and regularly assess progress to ensure you're on track.\n",
       "\n",
       "It's important to note that implementing data science solutions is an iterative process. You may start with smaller projects to gain initial insights and gradually expand your capabilities over time. Collaboration between your marketing team and data science experts will be crucial to ensure the successful implementation and integration of data science into your marketing efforts."
      ],
      "text/plain": [
       "<IPython.core.display.Markdown object>"
      ]
     },
     "metadata": {},
     "output_type": "display_data"
    }
   ],
   "source": [
    "# mprint(workflow.history(ExchangeRecord)[-2].prompt)\n",
    "mprint(workflow.history(ExchangeRecord)[-2].response)"
   ]
  },
  {
   "cell_type": "code",
   "execution_count": 21,
   "metadata": {},
   "outputs": [
    {
     "data": {
      "text/markdown": [
       "Thank you for providing detailed answers to my questions. It's clear that implementing data science solutions will require careful planning and collaboration between our marketing team and data science experts. I appreciate your emphasis on starting with smaller projects and iterating over time.\n",
       "\n",
       "To move forward, I suggest the following steps:\n",
       "\n",
       "1. Assess our current data infrastructure: Evaluate the availability and quality of our data sources. Identify any gaps or limitations that need to be addressed to ensure we have the necessary data for our data science initiatives.\n",
       "\n",
       "2. Define specific use cases: Prioritize the areas where data science can have the most impact on our marketing goals. For example, we can start with implementing an attribution model to better understand the effectiveness of our digital marketing campaigns.\n",
       "\n",
       "3. Identify the required skills and resources: Determine if we have the necessary expertise in-house to implement the data science solutions. If not, explore options for hiring or partnering with external experts who can support our initiatives.\n",
       "\n",
       "4. Select the appropriate tools and technologies: Based on our requirements, research and select the tools and technologies that will best support our data science initiatives. Consider factors such as scalability, compatibility, and ease of use.\n",
       "\n",
       "5. Develop a timeline and roadmap: Break down the implementation into smaller milestones and set realistic timelines for each project. Regularly assess progress and adjust the roadmap as needed.\n",
       "\n",
       "6. Foster collaboration: Encourage collaboration between our marketing team and data science experts. Regularly communicate and share insights to ensure alignment and maximize the impact of our data-driven decisions.\n",
       "\n",
       "By following these steps, we can begin leveraging data science to enhance our marketing efforts and drive growth for our SaaS startup. I'm excited to see the positive impact that data-driven decision-making can have on our goals."
      ],
      "text/plain": [
       "<IPython.core.display.Markdown object>"
      ]
     },
     "metadata": {},
     "output_type": "display_data"
    }
   ],
   "source": [
    "# mprint(workflow.history(ExchangeRecord)[-1].prompt)\n",
    "mprint(workflow.history(ExchangeRecord)[-1].response)"
   ]
  },
  {
   "attachments": {},
   "cell_type": "markdown",
   "metadata": {},
   "source": [
    "---"
   ]
  },
  {
   "attachments": {},
   "cell_type": "markdown",
   "metadata": {},
   "source": [
    "## Fourth Round\n"
   ]
  },
  {
   "cell_type": "code",
   "execution_count": 22,
   "metadata": {},
   "outputs": [],
   "source": [
    "response = workflow(response)"
   ]
  },
  {
   "cell_type": "code",
   "execution_count": 23,
   "metadata": {},
   "outputs": [
    {
     "name": "stdout",
     "output_type": "stream",
     "text": [
      "Cost:              $0.01950\n",
      "Total Tokens:       12,111\n",
      "Prompt Tokens:      9,435\n",
      "Response Tokens:    2,676\n",
      "\n"
     ]
    }
   ],
   "source": [
    "print(usage_string(workflow))"
   ]
  },
  {
   "cell_type": "code",
   "execution_count": 24,
   "metadata": {},
   "outputs": [
    {
     "data": {
      "text/markdown": [
       "That sounds like a solid plan! By following these steps, you'll be well-prepared to leverage data science effectively in your marketing efforts. Remember to continuously evaluate and iterate on your initiatives to ensure you're maximizing the value of your data.\n",
       "\n",
       "Additionally, it's important to establish clear communication channels between your marketing team and data science experts. Regular meetings and knowledge sharing sessions can help foster collaboration and ensure that insights from data science are effectively integrated into your marketing strategies.\n",
       "\n",
       "As you progress with your data science initiatives, don't hesitate to reach out for further guidance or support. Data science is a dynamic field, and staying up-to-date with the latest techniques and best practices can help you stay ahead of the competition.\n",
       "\n",
       "Best of luck with your data-driven marketing journey! I'm confident that you'll see significant improvements in your marketing efforts by leveraging the power of data science."
      ],
      "text/plain": [
       "<IPython.core.display.Markdown object>"
      ]
     },
     "metadata": {},
     "output_type": "display_data"
    }
   ],
   "source": [
    "# mprint(workflow.history(ExchangeRecord)[-2].prompt)\n",
    "mprint(workflow.history(ExchangeRecord)[-2].response)"
   ]
  },
  {
   "cell_type": "code",
   "execution_count": 25,
   "metadata": {},
   "outputs": [
    {
     "data": {
      "text/markdown": [
       "Thank you for your guidance and support! I agree that establishing clear communication channels and fostering collaboration between our marketing team and data science experts will be crucial for success. I appreciate your offer to provide further guidance and support as we progress with our data-driven marketing journey.\n",
       "\n",
       "I will ensure that we stay up-to-date with the latest techniques and best practices in data science to maximize the value of our data and stay ahead of the competition. I'm excited to see the significant improvements we can achieve in our marketing efforts by leveraging the power of data science.\n",
       "\n",
       "Thank you again for your insights and encouragement. I look forward to implementing these strategies and driving growth for our SaaS startup."
      ],
      "text/plain": [
       "<IPython.core.display.Markdown object>"
      ]
     },
     "metadata": {},
     "output_type": "display_data"
    }
   ],
   "source": [
    "# mprint(workflow.history(ExchangeRecord)[-1].prompt)\n",
    "mprint(workflow.history(ExchangeRecord)[-1].response)"
   ]
  },
  {
   "attachments": {},
   "cell_type": "markdown",
   "metadata": {},
   "source": [
    "---"
   ]
  }
 ],
 "metadata": {
  "kernelspec": {
   "display_name": "Python 3",
   "language": "python",
   "name": "python3"
  },
  "language_info": {
   "codemirror_mode": {
    "name": "ipython",
    "version": 3
   },
   "file_extension": ".py",
   "mimetype": "text/x-python",
   "name": "python",
   "nbconvert_exporter": "python",
   "pygments_lexer": "ipython3",
   "version": "3.11.4"
  },
  "orig_nbformat": 4
 },
 "nbformat": 4,
 "nbformat_minor": 2
}
